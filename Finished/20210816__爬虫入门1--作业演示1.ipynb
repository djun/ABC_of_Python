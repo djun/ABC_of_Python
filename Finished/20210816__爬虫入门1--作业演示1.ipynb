{
 "cells": [
  {
   "cell_type": "markdown",
   "id": "7024de1f",
   "metadata": {},
   "source": [
    "*By DJun (github.com/djun); 2021-8-16*"
   ]
  },
  {
   "cell_type": "markdown",
   "id": "83ad42bc",
   "metadata": {},
   "source": [
    "#### 作业题："
   ]
  },
  {
   "cell_type": "markdown",
   "id": "25b85ad4",
   "metadata": {},
   "source": [
    "抓取网易新闻首页中的多条新闻，仅抓取那些 每一块的左边是标题、XXX时间、XXX跟帖 右边附带一张封面图的 那些新闻；\n",
    "\n",
    "抓取每篇文章的标题、链接、发布日期、媒体名称、跟帖数量、正文内容（仅文字内容 不包含图片视频等）、封面图片；\n",
    "\n",
    "作业结果要求：\n",
    "- 新闻存放的格式是，以新闻标题起名文件夹，每个文件夹中包含一个文本文件记录这篇文章上述的文本内容，以及封面图片的文件\n",
    "- 在这些新闻标题文件夹的外面，生成一个汇总 标题、链接、发布日期、媒体名称、跟帖数量 的csv表格文件\n",
    "\n",
    "提供抓取的首页链接（还是那个）：https://3g.163.com/touch/news\n",
    "\n",
    "新闻-数码分区：https://3g.163.com/touch/digi/?ver=c&clickfrom=index2018_header_main\n",
    "\n",
    "首页新闻项的参考XPath：\n",
    "`//div[contains(@class, 'tab-content')]//article`"
   ]
  },
  {
   "cell_type": "code",
   "execution_count": null,
   "id": "d4b9021b",
   "metadata": {},
   "outputs": [],
   "source": [
    "# 这篇作业题是从写给实习生的爬虫入门资料中抽取出来的，现在来做一个开发过程的全面演示哈\n",
    "\n",
    "# 先看一下原来资料的内容\n",
    "\n",
    "# 这次挑选了数码分区的新闻来做，其实页面结构是一样的（跟上次给的链接对比）\n",
    "\n",
    "# 需要先理解一下作业题的题面哈\n",
    "\n",
    "# 在页面那边分析发现，符合“每一块的左边是标题、XXX时间、XXX跟帖 右边附带一张封面图的”要求的新闻，是article标签名、class包含card-type-news的那些标签\n",
    "\n",
    "# 利用好参考资料中的例子，可以快速地把每一部分写出来\n",
    "\n",
    "# 先解决获取页面的部分\n",
    "\n",
    "# 获取首页、整理首页上的大致的文章信息已经完成了，已经获取“标题、链接、封面图片”\n",
    "\n",
    "# 接下来是进入每篇文章的正文，获取“发布日期、媒体名称、跟帖数量、正文内容（仅文字内容 不包含图片视频等）”\n",
    "\n",
    "# 先按要求写好“建立文件夹”的部分"
   ]
  },
  {
   "cell_type": "code",
   "execution_count": 1,
   "id": "cd9e1a92",
   "metadata": {},
   "outputs": [
    {
     "data": {
      "text/plain": [
       "'<!DOCTYPE html>\\n<html lang=\"en\">\\n  <head>\\n    <meta charset=\"UTF-8\" />\\n    <link rel=\"dns-prefetch\" href=\"//cms-bucket.nosdn.127.net\" />\\n    <link rel=\"dns-prefetch\" href=\"//pic-bucket.nosdn.127.net\" />\\n    <link rel=\"dns-prefetch\" href=\"//static.ws.126.net\" />\\n    <meta name=\"viewport\" content=\"width=device-width, initial-scale=1.0\" />\\n    <meta http-equiv=\"X-UA-Compatible\" content=\"ie=edge\" />\\n    <title>网易数码_手机网易网</title>\\n    <meta content=\"telephone=no\" name=\"format-detection\" />\\n    <meta name=\"keywords\" content=\"网易数码 笔记本电脑,平板电脑,数码相机DC,苹果电脑图片,报价,论坛\" />\\n    <meta name=\"description\" content=\"网易数码 笔记本电脑,平板电脑,数码相机DC,苹果电脑图片、报价、论坛。手机网易网数码频道-https://3g.163.com/touch/digi\" />\\n    <meta name=\"google-site-verification\" content=\"vDJDt0eLizo98mTqFjhG4ONEm8DlFI7bdonVyRDi-EY\" />\\n    <script type=\\'text/javascript\\'>window._ANT_PROJECT_ID=\"NTM-5AE0KFYY-2\";(function(){var domainMatches=[{test:/163\\\\.com$/i,domain:\"163\"},{test:/baidu\\\\.com$/i,domain:\"baidu\"},{test:/sm\\\\.cn$/i,domain:\"sm\"},{test:/sogou\\\\.com$/i,domain:\"sogou\"},{test:/so\\\\.com$/i,domain:\"360\"},{test:/google/i,domain:\"google\"},{test:/bing/i,domain:\"bing\"},{test:/weibo/i,domain:\"weibo\"},{test:/toutiao/i,domain:\"toutiao\"}];var referrer=document.referrer;var referDomain=\"\";var currentPageReferFrom=\"\";if(referrer){var urlRegexp=/^([hH][tT]{2}[pP]:\\\\/\\\\/|[hH][tT]{2}[pP][sS]:\\\\/\\\\/)([^\\\\/]+).*?/;var urlMatch=referrer.match(urlRegexp);referDomain=urlMatch&&urlMatch[2]?urlMatch[2]:referDomain}if(referDomain){currentPageReferFrom=referDomain;domainMatches.some(function(item){if(item.test.test(referDomain)){currentPageReferFrom=item.domain;return true}return false})}window._REFER_VAL=currentPageReferFrom;var targetProtocol=\"https:\";if(window.location.protocol!=targetProtocol){var host=window.location.host;var pathname=window.location.pathname;var search=window.location.search;var hash=window.location.hash;if(host!==\"3g.163.com\"){return}if(search){var searchParams=search.substr(1).split(\"&\");if(searchParams.length>0){var newParams=[];var filterParams=[\"referFrom\",\"isFromOtherWeb\"];for(var i=0,len=searchParams.length;i<len;i++){var param=searchParams[i];if(filterParams.indexOf(param.split(\"=\")[0])===-1){newParams.push(param)}}search=\"?\"+newParams.join(\"&\")}search=search+(search.length===1?\"\":\"&\")+\"referFrom=\"+currentPageReferFrom}else{search=\"?referFrom=\"+currentPageReferFrom}if(referrer&&currentPageReferFrom!==\"163\"){search=search+\"&isFromOtherWeb=true\"}var targetHref=targetProtocol+\"//\"+host+pathname+search+hash;window.location.replace(targetHref)}else{var localParam=function(search,hash){var s=search||window.location.search;var h=hash||window.location.hash;var fn=function(str,reg){var data={};if(str){str.replace(reg,function($0,$1,$2,$3){data[$1]=$3});return data}return null};return{search:fn(s,new RegExp(\"([^?=&]+)(=([^&]*))?\",\"g\"))||{},hash:fn(h,new RegExp(\"([^#=&]+)(=([^&]*))?\",\"g\"))||{}}};var urlSearchReferFrom=localParam().search.referFrom;if(/referFrom/.test(window.location.search)&&currentPageReferFrom==\"163\"){window._REFER_VAL=urlSearchReferFrom||\"\"}}})();</script>\\n  <link rel=\"preload\" href=\"//static.ws.126.net/163/wap/f2e/isomorphism_digi/manifest.0fac37d230f6d45b84e9.js\" as=\"script\"><link rel=\"preload\" href=\"//static.ws.126.net/163/wap/f2e/isomorphism_digi/vendor.80ebc9adad0f3c4d6026.js\" as=\"script\"><link rel=\"preload\" href=\"//static.ws.126.net/163/wap/f2e/isomorphism_digi/app.be1c5eddc96e7a693dd8.js\" as=\"script\"><link rel=\"preload\" href=\"//static.ws.126.net/163/wap/f2e/isomorphism_digi/common.221dfd06c9e166803dc8a0bf02ffc6a4.css\" as=\"style\"><link rel=\"preload\" href=\"//static.ws.126.net/163/wap/f2e/isomorphism_digi/0.da0d25b72406a563cf8a.js\" as=\"script\"><link rel=\"prefetch\" href=\"//static.ws.126.net/163/wap/f2e/isomorphism_digi/1.958c7f4ba9843968a732.js\"><link rel=\"prefetch\" href=\"//static.ws.126.net/163/wap/f2e/isomorphism_digi/2.1e8aaa8d67318d9af418.js\"><link rel=\"prefetch\" href=\"//static.ws.126.net/163/wap/f2e/isomorphism_digi/3.042d99766e312eaf4ac0.js\"><link rel=\"prefetch\" href=\"//static.ws.126.net/163/wap/f2e/isomorphism_digi/4.8ad1f238a275c2f15aab.js\"><link rel=\"stylesheet\" href=\"//static.ws.126.net/163/wap/f2e/isomorphism_digi/common.221dfd06c9e166803dc8a0bf02ffc6a4.css\"><style data-vue-ssr-id=\"7ef34074:0 5124d314:0 0b720ecb:0 00cd874e:0 4fe38926:0\">.wap-section.section-focus[data-v-78d533dd]{width:100%;padding:0;margin-bottom:0;height:3.7rem;background:#ccc;color:#fff;position:relative}.wap-section.section-focus .slider-item[data-v-78d533dd]{position:relative;height:3.7rem;overflow:hidden}.wap-section.section-focus .slider-item img[data-v-78d533dd]{width:100%}.wap-section.section-focus .slider-item .focus-title[data-v-78d533dd]{position:absolute;left:0;bottom:0;color:#fff;width:86%;height:.8rem;font-size:.34rem;line-height:.8rem;padding:0 10% 0 4%;text-overflow:ellipsis;overflow:hidden;white-space:nowrap;background:-webkit-gradient(linear,left top,left bottom,color-stop(8%,transparent),color-stop(40%,rgba(0,0,0,.24)),color-stop(47%,rgba(0,0,0,.29)),color-stop(95%,rgba(0,0,0,.65)));background:linear-gradient(180deg,transparent 8%,rgba(0,0,0,.24) 40%,rgba(0,0,0,.29) 47%,rgba(0,0,0,.65) 95%)}.wap-section.section-focus .pagination[data-v-78d533dd]{position:absolute;right:0;bottom:0;padding:.2rem;z-index:1}.wap-section.section-focus .pagination .total-count[data-v-78d533dd]{color:hsla(0,0%,100%,.8)}\\n.recommend-list[data-v-51e963ee]{margin-bottom:.12rem;background:#fff;padding:.22rem}\\n.card-type-three a[data-v-38411b8a]{display:block;position:relative}.card-type-three .title[data-v-38411b8a]{font-weight:400;max-height:.9rem;overflow:hidden;line-height:.45rem;font-size:.34rem}.card-type-three .news-source[data-v-38411b8a]{text-overflow:ellipsis;max-width:16em}.card-type-three .detail .pic-num[data-v-38411b8a]{color:#fff;font-size:.22rem;height:.3rem;line-height:.3rem;position:absolute;right:.1rem;bottom:.54rem;margin-right:0;z-index:10;padding-left:.22rem;background:url(data:image/png;base64,iVBORw0KGgoAAAANSUhEUgAAABMAAAATCAYAAAByUDbMAAAAAXNSR0IArs4c6QAAAXBJREFUOBGlkq1LRFEQxb2rbBCDoiAqFhGDgiAmMQhWuxg2+QcIW+xWrTaL2SQWq6BNFIMGQTAIK37AviCIQZ+/uTuze72+5bFvB847M2dmzrvvw/UQaZqOQeOSF4yac+5ZjKrgG3QTsl91XOqcZhBcFTyVrC2CRMxSqTimEy4S5lGKl2mUwLRw3MutxVXCBkmPvQCblsc6n8oH8GELFIlKiWkh0xsBK5HmV7LMKnTOQSVckBxtFDwCiQPQp7oX/pnFBlYz3Q8u/Vbrcko6YGWmGc0tsAPKeude8hMg8QDWwIsUxHWDeO/NhC1y+VX2TYPPwFCgvZPP6A2myO9BM5pmKHL3Q+18wjXNXwNt2R5bDYfpXWi/dTKEIxU/4FUwAW5U+4HXQyPL0cs688dMtDpYCgbl5e6BDdOymL6P8DHfUBayhvM09Wr8Jzq8CX/RmM1bbteXr3dLc67dQAf6nZjNs7ALJjtYjEefELZjsav6Fyy2Kj/nIVQTAAAAAElFTkSuQmCC) no-repeat 0 .05rem;background-size:.2rem .2rem}.card-type-three .news-pic[data-v-38411b8a]{margin-top:.12rem;display:-webkit-box;display:-webkit-flex;display:-ms-flexbox;display:flex;-webkit-box-align:start;-webkit-align-items:flex-start;-ms-flex-align:start;align-items:flex-start;-webkit-box-pack:justify;-webkit-justify-content:space-between;-ms-flex-pack:justify;justify-content:space-between}.card-type-three .news-pic img[data-v-38411b8a]{-webkit-box-flex:0;-webkit-flex:0 0 33.1%;-ms-flex:0 0 33.1%;flex:0 0 33.1%;display:block;width:2.34rem;height:1.46rem;-o-object-fit:contain;object-fit:contain}\\n.card-type-news a[data-v-10d3ffea]{display:-webkit-box;display:-webkit-flex;display:-ms-flexbox;display:flex;-webkit-box-align:start;-webkit-align-items:flex-start;-ms-flex-align:start;align-items:flex-start;-webkit-box-pack:justify;-webkit-justify-content:space-between;-ms-flex-pack:justify;justify-content:space-between}.card-type-news .news-info[data-v-10d3ffea]{-webkit-box-flex:2;-webkit-flex:2 2 auto;-ms-flex:2 2 auto;flex:2 2 auto}.card-type-news .title[data-v-10d3ffea]{padding-right:.12rem}.card-type-news .news-source[data-v-10d3ffea]{text-overflow:ellipsis;max-width:8em}.card-type-news .news-pic[data-v-10d3ffea]{width:2.34rem;-webkit-box-flex:0;-webkit-flex:0 0 auto;-ms-flex:0 0 auto;flex:0 0 auto;overflow:hidden}.card-type-news .news-pic img[data-v-10d3ffea]{display:block;height:1.46rem;margin:0 auto}.card-type-news .detail .unlike[data-v-10d3ffea],.card-type-news .unlike[data-v-10d3ffea]{margin-right:.12rem}\\n.card-type-one a[data-v-01df2405]{display:block}.card-type-one .title[data-v-01df2405]{font-weight:400;max-height:.9rem;overflow:hidden;line-height:.45rem;font-size:.34rem}.card-type-one .news-source[data-v-01df2405]{text-overflow:ellipsis;max-width:16em}.card-type-one .news-pic[data-v-01df2405]{margin-top:.12rem;display:-webkit-box;display:-webkit-flex;display:-ms-flexbox;display:flex;-webkit-box-pack:center;-webkit-justify-content:center;-ms-flex-pack:center;justify-content:center}.card-type-one .news-pic img[data-v-01df2405]{display:block;width:7.06rem;height:3.52rem}</style></head>\\n  <body>\\n  <script src=\\'https://static.ws.126.net/163/frontend/libs/raven-3.26.2.min.js\\' crossorigin=\\'anonymous\\'></script>\\n    <script type=\"text/javascript\">\\n        window.dynamicYear = \"2021\"\\n    </script>\\n<script>\\n    try {\\n        Raven.config(\\'https://a36426be24784bd9a4d62f3d9cb89614@sentry.music.163.com/1026\\', {\\n            sampleRate: 0.5,\\n            blacklisturls: [\\n                \\'sntzq.com\\',\\n                \\'duoroumao.cn\\',\\n                \\'gstatic.com\\',\\n                \\'analytics.163.com\\'\\n            ],\\n            ignoreErrors: [\\n                \"Cannot read property \\'appendChild\\' of undefined\",\\n                \"Cannot read property \\'style\\' of undefined\",\\n                \"null is not an object (evaluating \\'r.className\\')\",\\n                \"Cannot read property \\'style\\' of null\",\\n                \\'MyAppGetHTMLElementsAtPoint\\',\\n                \\'MyAppGetLinkTitleNameAtPoint\\',\\n                \\'MyAppGetLinkHREFAtPoint\\',\\n                \\'MyAppGetLinkSRCAtPoint\\',\\n                \\'CPJsApi\\',\\n                \\'WeixinJSBridge\\',\\n                \\'initiated by a user gesture\\',\\n                \\'interrupted by a call to pause\\',\\n                \\'game\\',\\n                \\'TouTiao\\',\\n                \\'JikeHybrid\\',\\n                \\'not allowed by the user agent or the platform in the current context\\',\\n                \\'WeiboJSBridge\\',\\n                \\'ServerLocation\\',\\n                \\'mapp\\',\\n                \\'SkinSwitch\\',\\n                \\'ResizeObserver loop limit exceeded\\',\\n                \\'getPercent\\',\\n                \\'Return statements are only valid inside functions\\',\\n                \\'play() failed because the user\\',\\n                \\'The operation is not supported\\',\\n                \\'cefQuery\\',\\n                \\'The operation was aborted\\',\\n                \\'PREUCBROWSER_THEME_CHANGE_TO_EYE_PROTECT\\',\\n                \\'reduce of empty array with no initial value\\',\\n                \\'window._setbackXML_ is not a function\\',\\n                \\'Failed to fetch\\',\\n                \\'Network request failed\\',\\n                \\'Illegal operation on WrappedNative prototype object\\',\\n                \\'SyntaxError: The string did not match the expected pattern.\\',\\n                \\'Unexpected identifier \"object\"\\',\\n                \\'handleMessageFromNative is not defined\\',\\n                \\'vivoNewsDetailPage.getNewsReadStatus4Vivo is not a function\\',\\n                \\'SecurityError: Blocked a frame with origin \"https://3g.163.com\" from accessing a cross-origin frame\\',\\n                \\'window.__$_qihoo360_$__.dayMode is not a function. (In \"window.__$_qihoo360_$__.dayMode()\", \"window.__$_qihoo360_$__.dayMode\" is undefined)\\',\\n                \\'[object Event]\\',\\n                \\'beforeClick is not defined\\',\\n                \\'processRandomSelector is not defined\\',\\n                \\'JSON Parse error: Unexpected identifier \"PREUCBROWSER_THEME_CHANGE_TO_NIGHT_MODE\"\\',\\n                \\'Non-Error exception captured with keys: success\\',\\n                \\'undefined is not an object (evaluating \"window.ucbrowser.smWeather.changecity\")\\',\\n                \"Can\\'t find variable: UCBrowserMessageCenter\",\\n                \\'WebViewJavascriptBridge is not defined\\',\\n                \\'onClickFail is not defined\\',\\n                \\'doPreloadClicked_BD is not defined\\',\\n                \\'insertStyle is not defined\\',\\n                \\'window.normalfooter_commentnum_cb is not a function\\',\\n                \\'window.HtmlStatisticJSInterface.showTitleBar is not a function\\',\\n                \\'sdk is not defined\\',\\n                \\'afterScroll is not defined\\',\\n                \\'videoEnterFullScreen is not defined\\',\\n                \\'the url is not defined \\',\\n                \\'_bdbox_js_169 is not defined\\',\\n                \\'getSearchKeyword is not defined\\',\\n                \\'slideForbiddenArea is not defined\\',\\n                \\'AccessDeny\\',\\n                \\'Unexpected token =>\\',\\n                \\'Missing helper: \"getone\"\\',\\n                \\'webViewDidLoad is not defined\\',\\n                \\'viewDidAppear is not defined\\',\\n                \\'requestImgLoading is not defined\\',\\n                \\'bobaoCallback is not defined\\',\\n                \\'Cannot read property \"showSource\" of undefined\\',\\n                \\'Cannot read property \"dispatch\" of undefined\\',\\n                \\'VConsole is not defined\\',\\n                \\'start_ is not defined\\',\\n                \\'zkgetWebConfig is not defined\\',\\n                \\'Cannot read property \"changeSkinModel\" of undefined\\',\\n                \\'Cannot read property \"logout\" of undefined\\',\\n                \\'_Box_ is not defined\\',\\n                \\'window.syncCallback is not a function\\',\\n                \\'qb_bridge.fireEvent is not a function\\',\\n                \\'onGreenteaEvent is not defined\\',\\n                \\'Cannot read property \"disconnect\" of null\\',\\n                \\'f.T(utils/misc)\\',\\n                \\'window.__$_qihoo360_$__.dayMode is not a function. (In \"window.__$_qihoo360_$__.dayMode()\", \"window.__$_qihoo360_$__.dayMode\" is undefined)\\',\\n                \\'onAudioStateChanged is not defined\\',\\n                \\'viewDidDisAppear is not defined\\',\\n                \\'requestNoTitle is not defined\\',\\n                \\'Loading chunk 1 failed.\\',\\n                \\'Unexpected end of input\\',\\n                \\'No identifiers allowed directly after numeric literal\\',\\n                \\'window.oppoShareSuccCall is not a function\\',\\n                \\'androidDirectInvoke is not defined\\',\\n                \\'Cannot read property \"getChatLog\" of null\\',\\n                \"Can\\'t find variable: UC_NEWS_PAUSE_ALL_VIDEOS\",\\n                \\'DomNode has not been set for this SimpleScriptable: com.gargoylesoftware.htmlunit.javascript.host.html.HTMLFormElement\\',\\n                \\'网络连接已中断。\\',\\n                \\'getArticalHeight is not defined\\',\\n                \\'ajaxRefreshByMobile\\',\\n                \\'diableNightMode\\',\\n                \\'com_baidu_channel_feed_assistmessage\\',\\n                \\'hwbrNotifyNotInMultiWinMode is not defined\\',\\n                \\'reCallback is not defined\\',\\n                \\'metaPauseMedia is not defined\\',\\n                \"\\'undefined\\' is not an object\",\\n                \\'document.getElementsByClassName.ToString is not a function\\',\\n                \\'auto_fill_form is not defined\\',\\n                \\'\"undefined\" is not a function\\',\\n                \\'JSON Parse error: Unexpected EOF\\',\\n                \\'Unexpected end of JSON input\\',\\n                \"Cannot read property \\'length\\' of undefined\",\\n                \"undefined is not an object (evaluating \\'document.getElementsByTagName(\\'video\\')[0].childNodes\\')\",\\n                \\'HJApp.service_hideLoading\\',\\n                \\'_invokeApp_0 is not defined\\',\\n                \\'image_viewer_simple_swipe_1576127092860 is not defined\\',\\n                \"\\'undefined\\' is not a function\",\\n                \\'module_switches is not defined\\',\\n                \\'document.querySelector(\".wakeup_client\").getBoundingClientRect\\',\\n                \\'ljHl is not defined\\',\\n                \\'image_na_close1576210908933 is not defined\\',\\n                \"Cannot read property \\'replace\\' of null\",\\n                \\'_mz_preloadFinished is not defined\\',\\n                \\'manualBlockByLocationAutomatically is not defined\\',\\n                \\'Cannot read property \"uv\" of undefined\\',\\n                \\'undefined is not a function\\',\\n                \\'gtb is not defined\\',\\n                \"Cannot read property \\'2\\' of null\",\\n                \\'n is undefined\\',\\n                \\'laJl is not defined\\',\\n                \"null is not an object (evaluating \\'n[0]\\')\",\\n                \\'laBl is not defined\\',\\n                \\'_g_common_js is not defined\\',\\n                \\'_this is not defined\\',\\n                \\'__tv_keydown\\',\\n                \"undefined is not an object (evaluating \\'cfg.log\\')\",\\n                \\'document.getElementById(\"head_\"+t.container).style\\',\\n                \\'unused_view is not defined\\',\\n                /appendChild/,\\n                /style/,\\n                /updateBookMallStatus/,\\n                /show_rule_files/,\\n                /JSBehavior/,\\n                /this\\\\[__Ox64361\\\\[176\\\\]\\\\]/,\\n                /retryFunction/,\\n                /updateImgCount/,\\n                /lawl/,\\n                /getNetType2/,\\n                /lhPl/,\\n                /uv/,\\n                /Syntax error/,\\n                /_mz_/,\\n                /letv/,\\n                /全局缩放 is not defined/,\\n                /initReady/,\\n                /wakeup_client/,\\n                /changeSkinModel/,\\n                /f.T\\\\(utils\\\\/misc\\\\)/,\\n                /HJApp/,\\n                /getElementsByTagName/,\\n                /find/,\\n                /content/,\\n                /remove/,\\n                /timeout/,\\n                /getmyapplist/,\\n                /replaceWith/,\\n                /ifr/,\\n                /meta/,\\n                /Music/,\\n                /UCShellJava/,\\n                /sdk/,\\n                /qiguoVideoManager/,\\n                /XiaoMi/,\\n                /hwbrNotifyNotInMultiWinMode/,\\n                /hw/,\\n                /Win/,\\n                /baidu/,\\n                /disconnect/,\\n                /qihoo360/,\\n                /Xfplay/,\\n                /require/,\\n                /showSource/,\\n                /bdbox/,\\n                /_bdbox_js_419/,\\n                /redefine/,\\n                /HupuBridge/,\\n                /registerDownloadProcessCb/,\\n                /androidDirectInvoke/,\\n                /oppo/,\\n                /vivo/,\\n                /UC/,\\n                /UCBrowserMessageCenter/,\\n                /UC_NEWS_PAUSE_ALL_VIDEOS/,\\n                /android/,\\n                /f.T/,\\n                /Nechat/,\\n                /getChatLog/,\\n                /dayMode/,\\n                /slideForbiddenArea/,\\n                /getAppIcon/,\\n                /theurl/,\\n                /utils\\\\/misc/,\\n                /Block-scoped/,\\n                /MaxTextZoomIndex/,\\n                /duplicate variable/,\\n                /strict mode/,\\n                /errormodule_switches/,\\n                /GetImageTagSrcFromPoint/,\\n                /execute/,\\n                /SimpleScriptable/,\\n                /CustomEvent/,\\n                /Wrapped org.w3c.dom.DOMException/,\\n                /Missing helper/,\\n                /ucbrowser/,\\n                /yujianobj/,\\n                /chunk/,\\n                /__$_qihoo360_$__/,\\n                /Network/,\\n                /Unexpected/,\\n                /identifiers/,\\n                /lHl/,\\n                /reshow/,\\n                /misc/,\\n                /Type error/,\\n                /webkitExitFullScreen/,\\n                /info/,\\n                /ucapi/,\\n                /zk_web_onscroll/,\\n                /_Box_/,\\n                /execWebFn/,\\n                /insecure/,\\n                /raven/,\\n                /token/,\\n                /ss_post_message_to_iframe_injection/,\\n                /AccessDeny/,\\n                /progress/,\\n                /postMessage/,\\n                /zte/,\\n                /zteAdbModule/,\\n                /tgetT/,\\n                /Player/,\\n                /NTESAntAnalysis/,\\n                /neteaseTracker/,\\n                /dispatch/,\\n                /mbrowser.autoSavePasswd/,\\n                /browser/,\\n                /logout/,\\n                /wap\\\\/special\\\\/article_cooper_piapia/,\\n                /getNetType\\\\d* is not a function/,\\n            ],\\n            shouldSendCallback: function (data) {\\n                var ua = window.navigator.userAgent.toLowerCase();\\n                if (typeof data.exception === \\'object\\') {\\n                    return true\\n                }\\n                if (data.exception && data.exception.indexOf(\"Cannot redefine property: platform\")) {\\n                    return false\\n                }\\n                if (/weibo/.test(ua) && data.exception && data.exception.indexOf(\"trim is not a function\") > -1) {\\n                    return false\\n                }\\n                if (data.exception && data.exception.indexOf(\"/wap/special/article_cooper_piapia/\") > -1) {\\n                    return false\\n                }\\n                if (/ucbrowser/.test(ua) && data.exception && data.exception.indexOf(\"Unexpected identifier\") > -1) {\\n                    return false\\n                }\\n                if (/qqbrowser/.test(ua) && data.exception && data.exception.indexOf(\"Maximum call stack size exceeded\") > -1) {\\n                    return false\\n                }\\n                if (/android/.test(ua) && data.exception && data.exception.indexOf(\"is not defined\") > -1) {\\n                    return false\\n                }\\n                if (/os\\\\s+5/.test(ua) && data.exception && data.exception.indexOf(\"\\'undefined\\' is not a function\") > -1) {\\n                    return false\\n                }\\n                if (/baidu/.test(ua) && data.exception && data.exception.indexOf(\"bds\") > -1) {\\n                    return false\\n                }\\n                if (/ucbrowser/.test(ua) && data.exception && data.exception.indexOf(\"is not an object\") > -1) {\\n                    return false\\n                }\\n                if (/windows/.test(ua) && data.exception && data.exception.indexOf(\"Cannot call method \\\\\"match\\\\\" of undefined \") > -1) {\\n                    return false\\n                }\\n                return true\\n            }\\n        }\\n        ).install();\\n    } catch (error) {}\\n</script>\\n<!-- START NetEase Devilfish 2006 -->\\n<script  type=\"text/javascript\">\\n   if (window.location.host.indexOf(\\'.163.com\\') < 0) {\\n       document.body.innerHTML=\\'\\';\\n   }\\n</script>\\n <script>\\n    (function() {\\n      window.neteaseTrackerCallbacks = [];\\n      var script = document.createElement(\\'script\\');\\n      script.type = \\'text/javascript\\';\\n      script.src = \\'//analytics.163.com/ntes.js\\';\\n      document.head.appendChild(script);\\n      script.onload = function() {\\n        window._ntes_nacc = \\'wap\\';\\n        neteaseTracker && neteaseTracker();\\n        neteaseClickStat && neteaseClickStat();\\n        for (var i = 0; i < window.neteaseTrackerCallbacks.length; i++) {\\n          var callback = window.neteaseTrackerCallbacks[i];\\n          if (callback && typeof callback === \\'function\\') {\\n            callback();\\n          }\\n        }\\n        window.neteaseTrackerCallbacks = [];\\n      };\\n    })();\\n  </script>\\n<!-- END NetEase Devilfish 2006 -->\\n<script>\\n  (function(){\\n    function isSupport() {\\n        var testKey = \\'test\\',\\n            storage = window.localStorage;\\n        try {\\n            storage.setItem(testKey, \\'testValue\\');\\n        } catch (error) {\\n            console.log(\"localStorage.setItem不可以执行\");\\n            return false;\\n        }\\n        try {\\n            if (storage.getItem(testKey) != \\'testValue\\') {\\n                return false\\n            } else {\\n                storage.removeItem(testKey);\\n                return true;\\n            }\\n        } catch (error) {\\n            console.log(\"localStorage.getItem不可以执行\");\\n            return false;\\n        }\\n    }\\n    if (!isSupport()) {\\n      window.localStorage = {\\n        setItem: function(key,value){console.log(\\'不支持localStorage\\',key,value);},\\n        getItem: function(key){console.log(\\'不支持localStorage\\',key);return \\'\\';},\\n      }\\n    }\\n  })()\\n</script>\\n<!-- START AntNest -->\\n<script type=\"text/javascript\">\\n    (function (w, d, s, n) {\\n        var f = d.getElementsByTagName(s)[0],\\n            k = d.createElement(s);\\n        k.async = true;\\n        //k.defer = true;\\n        k.src = \"//static.ws.126.net/163/frontend/antnest/\" + n + \".js?t=1627478155459\";\\n        f.parentNode.insertBefore(k, f);\\n      window.addEventListener(\"NTMReady\", function() {\\n        if(window.NTESAntAnalysisQueue&&window.NTESAntAnalysisQueue.length>0){\\n              for(var i=0;i<window.NTESAntAnalysisQueue.length;i++){\\n                  if (window.NTESAntAnalysis) {\\n                    window.NTESAntAnalysis.sendData({\\n                        projectid: window.NTESAntAnalysisQueue[i].projectid,\\n                        val_nm:window.NTESAntAnalysisQueue[i]. val_nm,\\n                        val_act: window.NTESAntAnalysisQueue[i].val_act\\n                    });\\n                  }\\n              }\\n          }\\n      });\\n    })(window, document, \"script\", \"NTM-5AE0KFYY-2\");\\n</script>\\n<!-- END AntNest --> \\n<!-- START Baidu autopush -->\\n<script>\\n    (function () {\\n        setTimeout(function () {\\n            var bp = document.createElement(\"script\");\\n            var curProtocol = window.location.protocol.split(\":\")[0];\\n            if (curProtocol === \"https\" && window.location.href.indexOf(\"wc18\") < 0) {\\n                bp.defer = true;\\n                bp.src = \"https://zz.bdstatic.com/linksubmit/push.js\";\\n                var s = document.getElementsByTagName(\"script\")[0];\\n                s.parentNode.insertBefore(bp, s);\\n            }\\n        }, 2500);\\n    })();\\n</script>\\n<!-- END Baidu autopush -->\\n\\n  <div id=\"app\" data-server-rendered=\"true\" class=\"wap-wrap\"><div class=\"wap-header-wrap\"></div><div class=\"wap-nav-wrap wap-channel-nav\" data-v-f919da98><div class=\"channel-nav\" data-v-f919da98><div class=\"channel-name\" data-v-f919da98><h1 data-v-f919da98>数码频道</h1></div><div class=\"home-back\" data-v-f919da98><a href=\"https://3g.163.com/?ver=c\" data-v-f919da98><strong data-v-f919da98>手机网易网</strong></a></div></div><!----></div><div class=\"tab-content\"><section class=\"wap-section section-focus\" data-v-78d533dd><swiper options=\"[object Object]\" data-v-78d533dd><swiper-slide class=\"slider-item\" data-v-78d533dd><a href=\"//3g.163.com/digi/article/GHGTAPOD001697V8.html?clickfrom=channel2018_digi_index_focus#child=all&amp;offset=0\" class=\"focus-item\" data-v-78d533dd><img src=\"http://cms-bucket.ws.126.net/2021/0816/84f02663j00qxwrxv004vc000s600e3c.jpg?imageView&amp;thumbnail=750y370&amp;quality=45&amp;interlace=1&amp;enlarge=1&amp;type=jpg\" alt=\"郭明錤：MacBook Pro将用mini LED屏并推动出货量\" data-v-78d533dd><span class=\"focus-title\" data-v-78d533dd>郭明錤：MacBook Pro将用mini LED屏并推动出货量</span></a></swiper-slide></swiper><!----></section><div infinite-scroll-immediate-check=\"false\" infinite-scroll-disabled=\"loading\" infinite-scroll-distance=\"100\" channel-config=\"[object Object]\" class=\"recommend-list\" data-v-51e963ee><article class=\"news-card card-type-three\" data-v-38411b8a data-v-51e963ee><a href=\"//3g.163.com/digi/article/GHGUTD4V001697V8.html?clickfrom=channel2018_digi_index_newslist#child=index&amp;offset=117\" data-v-38411b8a><h3 class=\"title\" data-v-38411b8a>日本妹COS《赛博朋克2077》美图：霸气魅惑逼真还原</h3><div class=\"news-pic\" data-v-38411b8a><img src=\"//cms-bucket.ws.126.net/2021/0816/7537374cp00qxwt6f0016c0009c0070c.png?imageView&amp;thumbnail=234y146&amp;quality=45&amp;interlace=1&amp;enlarge=1&amp;type=png\" alt=\"日本妹COS《赛博朋克2077》美图：霸气魅惑逼真还原\" data-v-38411b8a><img src=\"//cms-bucket.ws.126.net/2021/0816/e2847807p00qxwt6f0015c0009c0070c.png?imageView&amp;thumbnail=234y146&amp;quality=45&amp;interlace=1&amp;enlarge=1&amp;type=png\" alt=\"日本妹COS《赛博朋克2077》美图：霸气魅惑逼真还原\" data-v-38411b8a><img src=\"//cms-bucket.ws.126.net/2021/0816/233ea6a8p00qxwt6f0016c0009c0070c.png?imageView&amp;thumbnail=234y146&amp;quality=45&amp;interlace=1&amp;enlarge=1&amp;type=png\" alt=\"日本妹COS《赛博朋克2077》美图：霸气魅惑逼真还原\" data-v-38411b8a></div><div class=\"detail\" data-v-38411b8a><!----><!----><span class=\"pubtime\" data-v-38411b8a>14小时前</span><span class=\"reply\" data-v-38411b8a>23跟贴</span></div></a></article><article class=\"news-card card-type-news\" data-v-10d3ffea data-v-51e963ee><a href=\"//3g.163.com/digi/article/GHGUH47S001697V8.html?clickfrom=channel2018_digi_index_newslist#child=index&amp;offset=118\" data-v-10d3ffea><div class=\"news-info\" data-v-10d3ffea><h3 class=\"title\" data-v-10d3ffea>罗永浩吐槽新版Apple Music难用：省去海量脏话</h3><div class=\"detail\" data-v-10d3ffea><!----><!----><span class=\"pubtime\" data-v-10d3ffea>14小时前</span><span class=\"reply\" data-v-10d3ffea>1093跟贴</span></div></div><div class=\"news-pic\" data-v-10d3ffea><img src=\"//cms-bucket.ws.126.net/2021/0816/f5ddcf83p00qxwsva0016c0009c0070c.png?imageView&amp;thumbnail=234y146&amp;quality=45&amp;interlace=1&amp;enlarge=1&amp;type=png\" alt=\"罗永浩吐槽新版Apple Music难用：省去海量脏话\" data-v-10d3ffea></div></a></article><article class=\"news-card card-type-news\" data-v-10d3ffea data-v-51e963ee><a href=\"//3g.163.com/digi/article/GHGUC2T6001697V8.html?clickfrom=channel2018_digi_index_newslist#child=index&amp;offset=119\" data-v-10d3ffea><div class=\"news-info\" data-v-10d3ffea><h3 class=\"title\" data-v-10d3ffea>微软承诺对Win11会对更多的内置应用程序进行改造</h3><div class=\"detail\" data-v-10d3ffea><!----><!----><span class=\"pubtime\" data-v-10d3ffea>14小时前</span><span class=\"reply\" data-v-10d3ffea>0跟贴</span></div></div><div class=\"news-pic\" data-v-10d3ffea><img src=\"//cms-bucket.ws.126.net/2021/0816/37703693p00qxwsqp000qc0009c0070c.png?imageView&amp;thumbnail=234y146&amp;quality=45&amp;interlace=1&amp;enlarge=1&amp;type=png\" alt=\"微软承诺对Win11会对更多的内置应用程序进行改造\" data-v-10d3ffea></div></a></article><article class=\"news-card card-type-news\" data-v-10d3ffea data-v-51e963ee><a href=\"//3g.163.com/digi/article/GHGTV897001697V8.html?clickfrom=channel2018_digi_index_newslist#child=index&amp;offset=120\" data-v-10d3ffea><div class=\"news-info\" data-v-10d3ffea><h3 class=\"title\" data-v-10d3ffea>复刻镜头玩上瘾 福伦达将推50mmF1.5镜头</h3><div class=\"detail\" data-v-10d3ffea><!----><!----><span class=\"pubtime\" data-v-10d3ffea>14小时前</span><span class=\"reply\" data-v-10d3ffea>0跟贴</span></div></div><div class=\"news-pic\" data-v-10d3ffea><img src=\"//cms-bucket.ws.126.net/2021/0816/846111b0p00qxwsf0001cc0009c0070c.png?imageView&amp;thumbnail=234y146&amp;quality=45&amp;interlace=1&amp;enlarge=1&amp;type=png\" alt=\"复刻镜头玩上瘾 福伦达将推50mmF1.5镜头\" data-v-10d3ffea></div></a></article><article class=\"news-card card-type-news\" data-v-10d3ffea data-v-51e963ee><a href=\"//3g.163.com/digi/article/GHGTS354001697V8.html?clickfrom=channel2018_digi_index_newslist#child=index&amp;offset=121\" data-v-10d3ffea><div class=\"news-info\" data-v-10d3ffea><h3 class=\"title\" data-v-10d3ffea>微软新款Surface笔记本曝光：采用全新设计语言</h3><div class=\"detail\" data-v-10d3ffea><!----><!----><span class=\"pubtime\" data-v-10d3ffea>14小时前</span><span class=\"reply\" data-v-10d3ffea>48跟贴</span></div></div><div class=\"news-pic\" data-v-10d3ffea><img src=\"//cms-bucket.ws.126.net/2021/0816/feef384dp00qxwsc5000vc0009c0070c.png?imageView&amp;thumbnail=234y146&amp;quality=45&amp;interlace=1&amp;enlarge=1&amp;type=png\" alt=\"微软新款Surface笔记本曝光：采用全新设计语言\" data-v-10d3ffea></div></a></article><article class=\"news-card card-type-news\" data-v-10d3ffea data-v-51e963ee><a href=\"//3g.163.com/digi/article/GHGTQ8MO001697V8.html?clickfrom=channel2018_digi_index_newslist#child=index&amp;offset=122\" data-v-10d3ffea><div class=\"news-info\" data-v-10d3ffea><h3 class=\"title\" data-v-10d3ffea>AMD CDNA2架构年底问世：128GB显存史无前例</h3><div class=\"detail\" data-v-10d3ffea><!----><!----><span class=\"pubtime\" data-v-10d3ffea>14小时前</span><span class=\"reply\" data-v-10d3ffea>45跟贴</span></div></div><div class=\"news-pic\" data-v-10d3ffea><img src=\"//cms-bucket.ws.126.net/2021/0816/5451f634p00qxwsah0012c0009c0070c.png?imageView&amp;thumbnail=234y146&amp;quality=45&amp;interlace=1&amp;enlarge=1&amp;type=png\" alt=\"AMD CDNA2架构年底问世：128GB显存史无前例\" data-v-10d3ffea></div></a></article><article class=\"news-card card-type-news\" data-v-10d3ffea data-v-51e963ee><a href=\"//3g.163.com/digi/article/GHGTE16C001697V8.html?clickfrom=channel2018_digi_index_newslist#child=index&amp;offset=123\" data-v-10d3ffea><div class=\"news-info\" data-v-10d3ffea><h3 class=\"title\" data-v-10d3ffea>AMD下代显卡曝光：Navi 31、Navi 33已获确认</h3><div class=\"detail\" data-v-10d3ffea><!----><!----><span class=\"pubtime\" data-v-10d3ffea>14小时前</span><span class=\"reply\" data-v-10d3ffea>1跟贴</span></div></div><div class=\"news-pic\" data-v-10d3ffea><img src=\"//cms-bucket.ws.126.net/2021/0816/d34f3a7ep00qxwrzc0014c0009c0070c.png?imageView&amp;thumbnail=234y146&amp;quality=45&amp;interlace=1&amp;enlarge=1&amp;type=png\" alt=\"AMD下代显卡曝光：Navi 31、Navi 33已获确认\" data-v-10d3ffea></div></a></article><article class=\"news-card card-type-news\" data-v-10d3ffea data-v-51e963ee><a href=\"//3g.163.com/digi/article/GHGT8IBF001697V8.html?clickfrom=channel2018_digi_index_newslist#child=index&amp;offset=124\" data-v-10d3ffea><div class=\"news-info\" data-v-10d3ffea><h3 class=\"title\" data-v-10d3ffea>二手真香警告？ 苹果官方翻新产品悄然上新</h3><div class=\"detail\" data-v-10d3ffea><!----><!----><span class=\"pubtime\" data-v-10d3ffea>14小时前</span><span class=\"reply\" data-v-10d3ffea>828跟贴</span></div></div><div class=\"news-pic\" data-v-10d3ffea><img src=\"//cms-bucket.ws.126.net/2021/0816/28d152d3p00qxwrud000hc0009c0070c.png?imageView&amp;thumbnail=234y146&amp;quality=45&amp;interlace=1&amp;enlarge=1&amp;type=png\" alt=\"二手真香警告？ 苹果官方翻新产品悄然上新\" data-v-10d3ffea></div></a></article><article class=\"news-card card-type-news\" data-v-10d3ffea data-v-51e963ee><a href=\"//3g.163.com/digi/article/GHGUDKRI001697V8.html?clickfrom=channel2018_digi_index_newslist#child=index&amp;offset=125\" data-v-10d3ffea><div class=\"news-info\" data-v-10d3ffea><h3 class=\"title\" data-v-10d3ffea>TWS耳机销量5年暴增25倍：电池工厂忙扩产</h3><div class=\"detail\" data-v-10d3ffea><!----><!----><span class=\"pubtime\" data-v-10d3ffea>14小时前</span><span class=\"reply\" data-v-10d3ffea>19跟贴</span></div></div><div class=\"news-pic\" data-v-10d3ffea><img src=\"//cms-bucket.ws.126.net/2021/0816/0746d6aep00qxwss4001hc0009c0070c.png?imageView&amp;thumbnail=234y146&amp;quality=45&amp;interlace=1&amp;enlarge=1&amp;type=png\" alt=\"TWS耳机销量5年暴增25倍：电池工厂忙扩产\" data-v-10d3ffea></div></a></article><article class=\"news-card card-type-news\" data-v-10d3ffea data-v-51e963ee><a href=\"//3g.163.com/digi/article/GHGU9082001697V8.html?clickfrom=channel2018_digi_index_newslist#child=index&amp;offset=126\" data-v-10d3ffea><div class=\"news-info\" data-v-10d3ffea><h3 class=\"title\" data-v-10d3ffea>iOS开始审查用户照片：为“后门”问题统一员工口径</h3><div class=\"detail\" data-v-10d3ffea><!----><!----><span class=\"pubtime\" data-v-10d3ffea>14小时前</span><span class=\"reply\" data-v-10d3ffea>143跟贴</span></div></div><div class=\"news-pic\" data-v-10d3ffea><img src=\"//cms-bucket.ws.126.net/2021/0816/529755fbp00qxwsnv001fc0009c0070c.png?imageView&amp;thumbnail=234y146&amp;quality=45&amp;interlace=1&amp;enlarge=1&amp;type=png\" alt=\"iOS开始审查用户照片：为“后门”问题统一员工口径\" data-v-10d3ffea></div></a></article><article class=\"news-card card-type-news\" data-v-10d3ffea data-v-51e963ee><a href=\"//3g.163.com/digi/article/GHGU6O23001697V8.html?clickfrom=channel2018_digi_index_newslist#child=index&amp;offset=127\" data-v-10d3ffea><div class=\"news-info\" data-v-10d3ffea><h3 class=\"title\" data-v-10d3ffea>国产屏下摄像头方案领先三星！王腾：部分指标反超</h3><div class=\"detail\" data-v-10d3ffea><!----><!----><span class=\"pubtime\" data-v-10d3ffea>14小时前</span><span class=\"reply\" data-v-10d3ffea>38跟贴</span></div></div><div class=\"news-pic\" data-v-10d3ffea><img src=\"//cms-bucket.ws.126.net/2021/0816/f78b969fp00qxwslt000yc0009c0070c.png?imageView&amp;thumbnail=234y146&amp;quality=45&amp;interlace=1&amp;enlarge=1&amp;type=png\" alt=\"国产屏下摄像头方案领先三星！王腾：部分指标反超\" data-v-10d3ffea></div></a></article><article class=\"news-card card-type-news\" data-v-10d3ffea data-v-51e963ee><a href=\"//3g.163.com/digi/article/GHGU4EI5001697V8.html?clickfrom=channel2018_digi_index_newslist#child=index&amp;offset=128\" data-v-10d3ffea><div class=\"news-info\" data-v-10d3ffea><h3 class=\"title\" data-v-10d3ffea>下一代Fitbit Charge 5手环泄露：现在有了彩色屏幕</h3><div class=\"detail\" data-v-10d3ffea><!----><!----><span class=\"pubtime\" data-v-10d3ffea>14小时前</span><span class=\"reply\" data-v-10d3ffea>20跟贴</span></div></div><div class=\"news-pic\" data-v-10d3ffea><img src=\"//cms-bucket.ws.126.net/2021/0816/366007f8p00qxwsjp000zc0009c0070c.png?imageView&amp;thumbnail=234y146&amp;quality=45&amp;interlace=1&amp;enlarge=1&amp;type=png\" alt=\"下一代Fitbit Charge 5手环泄露：现在有了彩色屏幕\" data-v-10d3ffea></div></a></article><article class=\"news-card card-type-news\" data-v-10d3ffea data-v-51e963ee><a href=\"//3g.163.com/digi/article/GHGU0TJ3001697V8.html?clickfrom=channel2018_digi_index_newslist#child=index&amp;offset=129\" data-v-10d3ffea><div class=\"news-info\" data-v-10d3ffea><h3 class=\"title\" data-v-10d3ffea>富士秋季品发布会将定于9月初：新机新镜来了</h3><div class=\"detail\" data-v-10d3ffea><!----><!----><span class=\"pubtime\" data-v-10d3ffea>14小时前</span><span class=\"reply\" data-v-10d3ffea>1跟贴</span></div></div><div class=\"news-pic\" data-v-10d3ffea><img src=\"//cms-bucket.ws.126.net/2021/0816/f41f4f77p00qxwsgj000zc0009c0070c.png?imageView&amp;thumbnail=234y146&amp;quality=45&amp;interlace=1&amp;enlarge=1&amp;type=png\" alt=\"富士秋季品发布会将定于9月初：新机新镜来了\" data-v-10d3ffea></div></a></article><article class=\"news-card card-type-news\" data-v-10d3ffea data-v-51e963ee><a href=\"//3g.163.com/digi/article/GHGTM7OI001697V8.html?clickfrom=channel2018_digi_index_newslist#child=index&amp;offset=130\" data-v-10d3ffea><div class=\"news-info\" data-v-10d3ffea><h3 class=\"title\" data-v-10d3ffea>苹果败诉 将赔Optis公司3亿美元 侵犯无线技术专利</h3><div class=\"detail\" data-v-10d3ffea><!----><!----><span class=\"pubtime\" data-v-10d3ffea>14小时前</span><span class=\"reply\" data-v-10d3ffea>0跟贴</span></div></div><div class=\"news-pic\" data-v-10d3ffea><img src=\"//cms-bucket.ws.126.net/2021/0816/fb8d0327p00qxws6t001fc0009c0070c.png?imageView&amp;thumbnail=234y146&amp;quality=45&amp;interlace=1&amp;enlarge=1&amp;type=png\" alt=\"苹果败诉 将赔Optis公司3亿美元 侵犯无线技术专利\" data-v-10d3ffea></div></a></article><article class=\"news-card card-type-news\" data-v-10d3ffea data-v-51e963ee><a href=\"//3g.163.com/digi/article/GHEAE7I4001697V8.html?clickfrom=channel2018_digi_index_newslist#child=index&amp;offset=131\" data-v-10d3ffea><div class=\"news-info\" data-v-10d3ffea><h3 class=\"title\" data-v-10d3ffea>LGD都不这么玩，小米OLED电视为啥这么便宜？</h3><div class=\"detail\" data-v-10d3ffea><!----><!----><span class=\"pubtime\" data-v-10d3ffea>昨天</span><span class=\"reply\" data-v-10d3ffea>609跟贴</span></div></div><div class=\"news-pic\" data-v-10d3ffea><img src=\"//cms-bucket.ws.126.net/2021/0815/7194c8dcj00qxuwwb0086c000s600e3c.jpg?imageView&amp;thumbnail=234y146&amp;quality=45&amp;interlace=1&amp;enlarge=1&amp;type=png\" alt=\"LGD都不这么玩，小米OLED电视为啥这么便宜？\" data-v-10d3ffea></div></a></article><article class=\"news-card card-type-news\" data-v-10d3ffea data-v-51e963ee><a href=\"//3g.163.com/digi/article/GHEF54HL001697V8.html?clickfrom=channel2018_digi_index_newslist#child=index&amp;offset=132\" data-v-10d3ffea><div class=\"news-info\" data-v-10d3ffea><h3 class=\"title\" data-v-10d3ffea>夫妻俩火车上手机外放刷视频 结果多人被围殴</h3><div class=\"detail\" data-v-10d3ffea><!----><!----><span class=\"pubtime\" data-v-10d3ffea>昨天</span><span class=\"reply\" data-v-10d3ffea>8.7万跟贴</span></div></div><div class=\"news-pic\" data-v-10d3ffea><img src=\"//cms-bucket.ws.126.net/2021/0815/ee8db186p00qxv0n6001fc0009c0070c.png?imageView&amp;thumbnail=234y146&amp;quality=45&amp;interlace=1&amp;enlarge=1&amp;type=png\" alt=\"夫妻俩火车上手机外放刷视频 结果多人被围殴\" data-v-10d3ffea></div></a></article><article class=\"news-card card-type-news\" data-v-10d3ffea data-v-51e963ee><a href=\"//3g.163.com/digi/article/GHEEECVF001697V8.html?clickfrom=channel2018_digi_index_newslist#child=index&amp;offset=133\" data-v-10d3ffea><div class=\"news-info\" data-v-10d3ffea><h3 class=\"title\" data-v-10d3ffea>高通下代骁龙898前瞻：三星4nm工艺 今年年底登场</h3><div class=\"detail\" data-v-10d3ffea><!----><!----><span class=\"pubtime\" data-v-10d3ffea>昨天</span><span class=\"reply\" data-v-10d3ffea>198跟贴</span></div></div><div class=\"news-pic\" data-v-10d3ffea><img src=\"//cms-bucket.ws.126.net/2021/0815/2043d58cp00qxv02k000rc0009c0070c.png?imageView&amp;thumbnail=234y146&amp;quality=45&amp;interlace=1&amp;enlarge=1&amp;type=png\" alt=\"高通下代骁龙898前瞻：三星4nm工艺 今年年底登场\" data-v-10d3ffea></div></a></article><article class=\"news-card card-type-news\" data-v-10d3ffea data-v-51e963ee><a href=\"//3g.163.com/digi/article/GHEHVFKR001697V8.html?clickfrom=channel2018_digi_index_newslist#child=index&amp;offset=134\" data-v-10d3ffea><div class=\"news-info\" data-v-10d3ffea><h3 class=\"title\" data-v-10d3ffea>华为鸿蒙这个独占功能，所有安卓手机都能用了</h3><div class=\"detail\" data-v-10d3ffea><!----><!----><span class=\"pubtime\" data-v-10d3ffea>昨天</span><span class=\"reply\" data-v-10d3ffea>1110跟贴</span></div></div><div class=\"news-pic\" data-v-10d3ffea><img src=\"//cms-bucket.ws.126.net/2021/0815/e395d966p00qxv2xh0012c0009c0070c.png?imageView&amp;thumbnail=234y146&amp;quality=45&amp;interlace=1&amp;enlarge=1&amp;type=png\" alt=\"华为鸿蒙这个独占功能，所有安卓手机都能用了\" data-v-10d3ffea></div></a></article><article class=\"news-card card-type-news\" data-v-10d3ffea data-v-51e963ee><a href=\"//3g.163.com/digi/article/GHEF1A5B001697V8.html?clickfrom=channel2018_digi_index_newslist#child=index&amp;offset=135\" data-v-10d3ffea><div class=\"news-info\" data-v-10d3ffea><h3 class=\"title\" data-v-10d3ffea>蔚来自动辅助驾驶事故致人死亡！此前蔚来副总演示车内吃饭</h3><div class=\"detail\" data-v-10d3ffea><!----><!----><span class=\"pubtime\" data-v-10d3ffea>昨天</span><span class=\"reply\" data-v-10d3ffea>1.1万跟贴</span></div></div><div class=\"news-pic\" data-v-10d3ffea><img src=\"//cms-bucket.ws.126.net/2021/0815/689e387ap00qxv0jr001ac0009c0070c.png?imageView&amp;thumbnail=234y146&amp;quality=45&amp;interlace=1&amp;enlarge=1&amp;type=png\" alt=\"蔚来自动辅助驾驶事故致人死亡！此前蔚来副总演示车内吃饭\" data-v-10d3ffea></div></a></article><article class=\"news-card card-type-news\" data-v-10d3ffea data-v-51e963ee><a href=\"//3g.163.com/digi/article/GHEHE5HF001697V8.html?clickfrom=channel2018_digi_index_newslist#child=index&amp;offset=136\" data-v-10d3ffea><div class=\"news-info\" data-v-10d3ffea><h3 class=\"title\" data-v-10d3ffea>实机曝光！天美联手Xbox打造战略手游《重返帝国》</h3><div class=\"detail\" data-v-10d3ffea><!----><!----><span class=\"pubtime\" data-v-10d3ffea>昨天</span><span class=\"reply\" data-v-10d3ffea>50跟贴</span></div></div><div class=\"news-pic\" data-v-10d3ffea><img src=\"//cms-bucket.ws.126.net/2021/0815/86b2558dp00qxv2hq001dc0009c0070c.png?imageView&amp;thumbnail=234y146&amp;quality=45&amp;interlace=1&amp;enlarge=1&amp;type=png\" alt=\"实机曝光！天美联手Xbox打造战略手游《重返帝国》\" data-v-10d3ffea></div></a></article><article class=\"news-card card-type-news\" data-v-10d3ffea data-v-51e963ee><a href=\"//3g.163.com/digi/article/GHEHAIRV001697V8.html?clickfrom=channel2018_digi_index_newslist#child=index&amp;offset=137\" data-v-10d3ffea><div class=\"news-info\" data-v-10d3ffea><h3 class=\"title\" data-v-10d3ffea>realme Book正面亮屏照曝光：窄边框+3:2屏幕比例</h3><div class=\"detail\" data-v-10d3ffea><!----><!----><span class=\"pubtime\" data-v-10d3ffea>昨天</span><span class=\"reply\" data-v-10d3ffea>25跟贴</span></div></div><div class=\"news-pic\" data-v-10d3ffea><img src=\"//cms-bucket.ws.126.net/2021/0815/c2c5b5a5p00qxv2ea000wc0009c0070c.png?imageView&amp;thumbnail=234y146&amp;quality=45&amp;interlace=1&amp;enlarge=1&amp;type=png\" alt=\"realme Book正面亮屏照曝光：窄边框+3:2屏幕比例\" data-v-10d3ffea></div></a></article><article class=\"news-card card-type-news\" data-v-10d3ffea data-v-51e963ee><a href=\"//3g.163.com/digi/article/GHEET4DV001697V8.html?clickfrom=channel2018_digi_index_newslist#child=index&amp;offset=138\" data-v-10d3ffea><div class=\"news-info\" data-v-10d3ffea><h3 class=\"title\" data-v-10d3ffea>挑战HomePod mini ？499元小米Sound究竟有何能耐</h3><div class=\"detail\" data-v-10d3ffea><!----><!----><span class=\"pubtime\" data-v-10d3ffea>昨天</span><span class=\"reply\" data-v-10d3ffea>121跟贴</span></div></div><div class=\"news-pic\" data-v-10d3ffea><img src=\"//cms-bucket.ws.126.net/2021/0815/0a9131b9p00qxv0g00019c0009c0070c.png?imageView&amp;thumbnail=234y146&amp;quality=45&amp;interlace=1&amp;enlarge=1&amp;type=png\" alt=\"挑战HomePod mini ？499元小米Sound究竟有何能耐\" data-v-10d3ffea></div></a></article><article class=\"news-card card-type-news\" data-v-10d3ffea data-v-51e963ee><a href=\"//3g.163.com/digi/article/GHEEC15L001697V8.html?clickfrom=channel2018_digi_index_newslist#child=index&amp;offset=139\" data-v-10d3ffea><div class=\"news-info\" data-v-10d3ffea><h3 class=\"title\" data-v-10d3ffea>以CSAM之名扫描手机，苹果提醒员工为iPhone后门做好准备</h3><div class=\"detail\" data-v-10d3ffea><!----><!----><span class=\"pubtime\" data-v-10d3ffea>昨天</span><span class=\"reply\" data-v-10d3ffea>29跟贴</span></div></div><div class=\"news-pic\" data-v-10d3ffea><img src=\"//cms-bucket.ws.126.net/2021/0815/71280d5dp00qxv00c000fc0009c0070c.png?imageView&amp;thumbnail=234y146&amp;quality=45&amp;interlace=1&amp;enlarge=1&amp;type=png\" alt=\"以CSAM之名扫描手机，苹果提醒员工为iPhone后门做好准备\" data-v-10d3ffea></div></a></article><article class=\"news-card card-type-news\" data-v-10d3ffea data-v-51e963ee><a href=\"//3g.163.com/digi/article/GHEHP60B001697V8.html?clickfrom=channel2018_digi_index_newslist#child=index&amp;offset=140\" data-v-10d3ffea><div class=\"news-info\" data-v-10d3ffea><h3 class=\"title\" data-v-10d3ffea>侵犯4G LTE专利？苹果将被勒令赔偿3亿美元</h3><div class=\"detail\" data-v-10d3ffea><!----><!----><span class=\"pubtime\" data-v-10d3ffea>昨天</span><span class=\"reply\" data-v-10d3ffea>0跟贴</span></div></div><div class=\"news-pic\" data-v-10d3ffea><img src=\"//cms-bucket.ws.126.net/2021/0815/244c0c50p00qxv2qy000rc0009c0070c.png?imageView&amp;thumbnail=234y146&amp;quality=45&amp;interlace=1&amp;enlarge=1&amp;type=png\" alt=\"侵犯4G LTE专利？苹果将被勒令赔偿3亿美元\" data-v-10d3ffea></div></a></article><article class=\"news-card card-type-news\" data-v-10d3ffea data-v-51e963ee><a href=\"//3g.163.com/digi/article/GHEHL4OJ001697V8.html?clickfrom=channel2018_digi_index_newslist#child=index&amp;offset=141\" data-v-10d3ffea><div class=\"news-info\" data-v-10d3ffea><h3 class=\"title\" data-v-10d3ffea>128GB显存史无前例 AMD确认CDNA2架构加速卡年底亮相</h3><div class=\"detail\" data-v-10d3ffea><!----><!----><span class=\"pubtime\" data-v-10d3ffea>昨天</span><span class=\"reply\" data-v-10d3ffea>38跟贴</span></div></div><div class=\"news-pic\" data-v-10d3ffea><img src=\"//cms-bucket.ws.126.net/2021/0815/43530d4bp00qxv2np0014c0009c0070c.png?imageView&amp;thumbnail=234y146&amp;quality=45&amp;interlace=1&amp;enlarge=1&amp;type=png\" alt=\"128GB显存史无前例 AMD确认CDNA2架构加速卡年底亮相\" data-v-10d3ffea></div></a></article><article class=\"news-card card-type-news\" data-v-10d3ffea data-v-51e963ee><a href=\"//3g.163.com/digi/article/GHBTA0L3001697V8.html?clickfrom=channel2018_digi_index_newslist#child=index&amp;offset=142\" data-v-10d3ffea><div class=\"news-info\" data-v-10d3ffea><h3 class=\"title\" data-v-10d3ffea>消失4年后，苹果曾经最失败产品要卷土重来了</h3><div class=\"detail\" data-v-10d3ffea><!----><!----><span class=\"pubtime\" data-v-10d3ffea>前天</span><span class=\"reply\" data-v-10d3ffea>184跟贴</span></div></div><div class=\"news-pic\" data-v-10d3ffea><img src=\"//cms-bucket.ws.126.net/2021/0814/2323c228p00qxt6fb000gc0009c0070c.png?imageView&amp;thumbnail=234y146&amp;quality=45&amp;interlace=1&amp;enlarge=1&amp;type=png\" alt=\"消失4年后，苹果曾经最失败产品要卷土重来了\" data-v-10d3ffea></div></a></article><article class=\"news-card card-type-news\" data-v-10d3ffea data-v-51e963ee><a href=\"//3g.163.com/digi/article/GHBSUBS2001697V8.html?clickfrom=channel2018_digi_index_newslist#child=index&amp;offset=143\" data-v-10d3ffea><div class=\"news-info\" data-v-10d3ffea><h3 class=\"title\" data-v-10d3ffea>超值行货官翻12.9英寸iPad Pro了解下 最低5999元</h3><div class=\"detail\" data-v-10d3ffea><!----><!----><span class=\"pubtime\" data-v-10d3ffea>前天</span><span class=\"reply\" data-v-10d3ffea>300跟贴</span></div></div><div class=\"news-pic\" data-v-10d3ffea><img src=\"//cms-bucket.ws.126.net/2021/0814/681324faj00qxt6cw005sc000s600e3c.jpg?imageView&amp;thumbnail=234y146&amp;quality=45&amp;interlace=1&amp;enlarge=1&amp;type=png\" alt=\"超值行货官翻12.9英寸iPad Pro了解下 最低5999元\" data-v-10d3ffea></div></a></article><article class=\"news-card card-type-three\" data-v-38411b8a data-v-51e963ee><a href=\"//3g.163.com/digi/article/GH5DEURI0011819H.html?clickfrom=channel2018_digi_index_newslist#child=index&amp;offset=144\" data-v-38411b8a><h3 class=\"title\" data-v-38411b8a>三星Z Fold3/Flip3双折叠旗舰登场 功能更强价更低</h3><div class=\"news-pic\" data-v-38411b8a><img src=\"//cms-bucket.ws.126.net/2021/0811/41cac602j00qxoj3e0041c0009c0070c.jpg?imageView&amp;thumbnail=234y146&amp;quality=45&amp;interlace=1&amp;enlarge=1&amp;type=png\" alt=\"三星Z Fold3/Flip3双折叠旗舰登场 功能更强价更低\" data-v-38411b8a><img src=\"//cms-bucket.ws.126.net/2021/0811/0ee50820j00qxoj3e0086c0009c0070c.jpg?imageView&amp;thumbnail=234y146&amp;quality=45&amp;interlace=1&amp;enlarge=1&amp;type=png\" alt=\"三星Z Fold3/Flip3双折叠旗舰登场 功能更强价更低\" data-v-38411b8a><img src=\"//cms-bucket.ws.126.net/2021/0811/b3773dfbj00qxoj3e005cc0009c0070c.jpg?imageView&amp;thumbnail=234y146&amp;quality=45&amp;interlace=1&amp;enlarge=1&amp;type=png\" alt=\"三星Z Fold3/Flip3双折叠旗舰登场 功能更强价更低\" data-v-38411b8a></div><div class=\"detail\" data-v-38411b8a><!----><!----><span class=\"pubtime\" data-v-38411b8a>3天前</span><span class=\"reply\" data-v-38411b8a>1.8万跟贴</span></div></a></article><article class=\"news-card card-type-news\" data-v-10d3ffea data-v-51e963ee><a href=\"//3g.163.com/digi/article/GHC076FF001697V8.html?clickfrom=channel2018_digi_index_newslist#child=index&amp;offset=145\" data-v-10d3ffea><div class=\"news-info\" data-v-10d3ffea><h3 class=\"title\" data-v-10d3ffea>男子乘坐滴滴被收4元空调费 司机直接甩锅滴滴官方</h3><div class=\"detail\" data-v-10d3ffea><!----><!----><span class=\"pubtime\" data-v-10d3ffea>前天</span><span class=\"reply\" data-v-10d3ffea>1103跟贴</span></div></div><div class=\"news-pic\" data-v-10d3ffea><img src=\"//cms-bucket.ws.126.net/2021/0814/ec798b0ap00qxt8s40014c0009c0070c.png?imageView&amp;thumbnail=234y146&amp;quality=45&amp;interlace=1&amp;enlarge=1&amp;type=png\" alt=\"男子乘坐滴滴被收4元空调费 司机直接甩锅滴滴官方\" data-v-10d3ffea></div></a></article><article class=\"news-card card-type-news\" data-v-10d3ffea data-v-51e963ee><a href=\"//3g.163.com/digi/article/GHBVSKFB001697V8.html?clickfrom=channel2018_digi_index_newslist#child=index&amp;offset=146\" data-v-10d3ffea><div class=\"news-info\" data-v-10d3ffea><h3 class=\"title\" data-v-10d3ffea>为何做仿生四足机器人？小米常程发文答疑解惑</h3><div class=\"detail\" data-v-10d3ffea><!----><!----><span class=\"pubtime\" data-v-10d3ffea>前天</span><span class=\"reply\" data-v-10d3ffea>540跟贴</span></div></div><div class=\"news-pic\" data-v-10d3ffea><img src=\"//cms-bucket.ws.126.net/2021/0814/59e2c00cp00qxt8ih000vc0009c0070c.png?imageView&amp;thumbnail=234y146&amp;quality=45&amp;interlace=1&amp;enlarge=1&amp;type=png\" alt=\"为何做仿生四足机器人？小米常程发文答疑解惑\" data-v-10d3ffea></div></a></article><article class=\"news-card card-type-three\" data-v-38411b8a data-v-51e963ee><a href=\"//3g.163.com/digi/article/GHBTHIM7001697V8.html?clickfrom=channel2018_digi_index_newslist#child=index&amp;offset=147\" data-v-38411b8a><h3 class=\"title\" data-v-38411b8a>AMD锐龙5 5600G APU开盖高清照：对比上代变化小</h3><div class=\"news-pic\" data-v-38411b8a><img src=\"//cms-bucket.ws.126.net/2021/0814/c5e1732fp00qxt6lu001mc0009c0070c.png?imageView&amp;thumbnail=234y146&amp;quality=45&amp;interlace=1&amp;enlarge=1&amp;type=png\" alt=\"AMD锐龙5 5600G APU开盖高清照：对比上代变化小\" data-v-38411b8a><img src=\"//cms-bucket.ws.126.net/2021/0814/ad20d3bap00qxt6lu001rc0009c0070c.png?imageView&amp;thumbnail=234y146&amp;quality=45&amp;interlace=1&amp;enlarge=1&amp;type=png\" alt=\"AMD锐龙5 5600G APU开盖高清照：对比上代变化小\" data-v-38411b8a><img src=\"//cms-bucket.ws.126.net/2021/0814/b8201b6ap00qxt6lu001tc0009c0070c.png?imageView&amp;thumbnail=234y146&amp;quality=45&amp;interlace=1&amp;enlarge=1&amp;type=png\" alt=\"AMD锐龙5 5600G APU开盖高清照：对比上代变化小\" data-v-38411b8a></div><div class=\"detail\" data-v-38411b8a><!----><!----><span class=\"pubtime\" data-v-38411b8a>前天</span><span class=\"reply\" data-v-38411b8a>6跟贴</span></div></a></article><article class=\"news-card card-type-one\" data-v-01df2405 data-v-51e963ee><a href=\"//3g.163.com/digi/article/GH3CBCKM001680P9.html?clickfrom=channel2018_digi_index_newslist#child=index&amp;offset=148\" data-v-01df2405><h3 class=\"title\" data-v-01df2405>小米电视6 OLED体验：为了这块屏祭出成本控制大法</h3><div class=\"news-pic\" data-v-01df2405><img src=\"//cms-bucket.ws.126.net/2021/0812/b97f1c80j00qxop5d008gc000s600e3c.jpg?imageView&amp;thumbnail=706y352&amp;quality=45&amp;interlace=1&amp;enlarge=1&amp;type=png\" alt=\"小米电视6 OLED体验：为了这块屏祭出成本控制大法\" data-v-01df2405></div><div class=\"detail\" data-v-01df2405><!----><!----><span class=\"pubtime\" data-v-01df2405>3天前</span><span class=\"reply\" data-v-01df2405>944跟贴</span></div></a></article><article class=\"news-card card-type-news\" data-v-10d3ffea data-v-51e963ee><a href=\"//3g.163.com/digi/article/GHBVV4U1001697V8.html?clickfrom=channel2018_digi_index_newslist#child=index&amp;offset=149\" data-v-10d3ffea><div class=\"news-info\" data-v-10d3ffea><h3 class=\"title\" data-v-10d3ffea>提前体验新系统！网页版Win11上线：不用下载安装</h3><div class=\"detail\" data-v-10d3ffea><!----><!----><span class=\"pubtime\" data-v-10d3ffea>前天</span><span class=\"reply\" data-v-10d3ffea>93跟贴</span></div></div><div class=\"news-pic\" data-v-10d3ffea><img src=\"//cms-bucket.ws.126.net/2021/0814/604db1dcp00qxt8kr0014c0009c0070c.png?imageView&amp;thumbnail=234y146&amp;quality=45&amp;interlace=1&amp;enlarge=1&amp;type=png\" alt=\"提前体验新系统！网页版Win11上线：不用下载安装\" data-v-10d3ffea></div></a></article><article class=\"news-card card-type-news\" data-v-10d3ffea data-v-51e963ee><a href=\"//3g.163.com/digi/article/GHBVJVMG001697V8.html?clickfrom=channel2018_digi_index_newslist#child=index&amp;offset=150\" data-v-10d3ffea><div class=\"news-info\" data-v-10d3ffea><h3 class=\"title\" data-v-10d3ffea>性能彪悍！苹果重磅新品开产：搭M1升级版</h3><div class=\"detail\" data-v-10d3ffea><!----><!----><span class=\"pubtime\" data-v-10d3ffea>前天</span><span class=\"reply\" data-v-10d3ffea>641跟贴</span></div></div><div class=\"news-pic\" data-v-10d3ffea><img src=\"//cms-bucket.ws.126.net/2021/0814/3535d598p00qxt8am000lc0009c0070c.png?imageView&amp;thumbnail=234y146&amp;quality=45&amp;interlace=1&amp;enlarge=1&amp;type=png\" alt=\"性能彪悍！苹果重磅新品开产：搭M1升级版\" data-v-10d3ffea></div></a></article><article class=\"news-card card-type-news\" data-v-10d3ffea data-v-51e963ee><a href=\"//3g.163.com/digi/article/GHBTE4T3001697V8.html?clickfrom=channel2018_digi_index_newslist#child=index&amp;offset=151\" data-v-10d3ffea><div class=\"news-info\" data-v-10d3ffea><h3 class=\"title\" data-v-10d3ffea>Windows 365云电脑存漏洞被攻破，被黑客成功窃取</h3><div class=\"detail\" data-v-10d3ffea><!----><!----><span class=\"pubtime\" data-v-10d3ffea>前天</span><span class=\"reply\" data-v-10d3ffea>0跟贴</span></div></div><div class=\"news-pic\" data-v-10d3ffea><img src=\"//cms-bucket.ws.126.net/2021/0814/6c0dc034p00qxt6j2000pc0009c0070c.png?imageView&amp;thumbnail=234y146&amp;quality=45&amp;interlace=1&amp;enlarge=1&amp;type=png\" alt=\"Windows 365云电脑存漏洞被攻破，被黑客成功窃取\" data-v-10d3ffea></div></a></article><article class=\"news-card card-type-news\" data-v-10d3ffea data-v-51e963ee><a href=\"//3g.163.com/digi/article/GHBVNK9Q001697V8.html?clickfrom=channel2018_digi_index_newslist#child=index&amp;offset=152\" data-v-10d3ffea><div class=\"news-info\" data-v-10d3ffea><h3 class=\"title\" data-v-10d3ffea>谷歌将为Android系统带来全新的时间选择器UI</h3><div class=\"detail\" data-v-10d3ffea><!----><!----><span class=\"pubtime\" data-v-10d3ffea>前天</span><span class=\"reply\" data-v-10d3ffea>32跟贴</span></div></div><div class=\"news-pic\" data-v-10d3ffea><img src=\"//cms-bucket.ws.126.net/2021/0814/99774af4p00qxt8df000xc0009c0070c.png?imageView&amp;thumbnail=234y146&amp;quality=45&amp;interlace=1&amp;enlarge=1&amp;type=png\" alt=\"谷歌将为Android系统带来全新的时间选择器UI\" data-v-10d3ffea></div></a></article><article class=\"news-card card-type-news\" data-v-10d3ffea data-v-51e963ee><a href=\"//3g.163.com/digi/article/GHC02BSF001697V8.html?clickfrom=channel2018_digi_index_newslist#child=index&amp;offset=153\" data-v-10d3ffea><div class=\"news-info\" data-v-10d3ffea><h3 class=\"title\" data-v-10d3ffea>苹果芯片M1革了Intel x86的命？其实这是个伪命题</h3><div class=\"detail\" data-v-10d3ffea><!----><!----><span class=\"pubtime\" data-v-10d3ffea>前天</span><span class=\"reply\" data-v-10d3ffea>81跟贴</span></div></div><div class=\"news-pic\" data-v-10d3ffea><img src=\"//cms-bucket.ws.126.net/2021/0814/db3d1e0cp00qxt8nb000wc0009c0070c.png?imageView&amp;thumbnail=234y146&amp;quality=45&amp;interlace=1&amp;enlarge=1&amp;type=png\" alt=\"苹果芯片M1革了Intel x86的命？其实这是个伪命题\" data-v-10d3ffea></div></a></article><article class=\"news-card card-type-news\" data-v-10d3ffea data-v-51e963ee><a href=\"//3g.163.com/digi/article/GH88AN4K001697V8.html?clickfrom=channel2018_digi_index_newslist#child=index&amp;offset=154\" data-v-10d3ffea><div class=\"news-info\" data-v-10d3ffea><h3 class=\"title\" data-v-10d3ffea>科技满满的微型摄像头有多可怕？看完细思极恐</h3><div class=\"detail\" data-v-10d3ffea><!----><!----><span class=\"pubtime\" data-v-10d3ffea>3天前</span><span class=\"reply\" data-v-10d3ffea>163跟贴</span></div></div><div class=\"news-pic\" data-v-10d3ffea><img src=\"//cms-bucket.ws.126.net/2021/0813/110e295dj00qxqjzh0031c000s600e3c.jpg?imageView&amp;thumbnail=234y146&amp;quality=45&amp;interlace=1&amp;enlarge=1&amp;type=png\" alt=\"科技满满的微型摄像头有多可怕？看完细思极恐\" data-v-10d3ffea></div></a></article><article class=\"news-card card-type-news\" data-v-10d3ffea data-v-51e963ee><a href=\"//3g.163.com/digi/article/GH9A3G4A001697V8.html?clickfrom=channel2018_digi_index_newslist#child=index&amp;offset=155\" data-v-10d3ffea><div class=\"news-info\" data-v-10d3ffea><h3 class=\"title\" data-v-10d3ffea>微软Instagram账号发梗图嘲笑自家Xbox Series X的命名法</h3><div class=\"detail\" data-v-10d3ffea><!----><!----><span class=\"pubtime\" data-v-10d3ffea>3天前</span><span class=\"reply\" data-v-10d3ffea>70跟贴</span></div></div><div class=\"news-pic\" data-v-10d3ffea><img src=\"//cms-bucket.ws.126.net/2021/0813/005e8a89p00qxrb3w002mc000s600e3c.png?imageView&amp;thumbnail=234y146&amp;quality=45&amp;interlace=1&amp;enlarge=1&amp;type=png\" alt=\"微软Instagram账号发梗图嘲笑自家Xbox Series X的命名法\" data-v-10d3ffea></div></a></article></div><div class=\"nomore\" style=\"display:none;\">没有更多新闻了</div><div class=\"loading-list\" style=\"display:none;\" data-v-6aab3e12><div class=\"loader\" data-v-6aab3e12><svg viewBox=\"25 25 50 50\" class=\"circular\" data-v-6aab3e12><circle cx=\"50\" cy=\"50\" r=\"20\" fill=\"none\" stroke-width=\"4\" stroke-miterlimit=\"10\" class=\"path\" data-v-6aab3e12></circle></svg></div></div></div></div><script>window.__INITIAL_STATE__={\"items\":{\"digi\":[{\"liveInfo\":null,\"docid\":\"GHGTAPOD001697V8\",\"source\":\"IT之家\",\"title\":\"郭明錤：MacBook Pro将用mini LED屏并推动出货量\",\"priority\":90,\"hasImg\":1,\"url\":\"https:\\\\u002F\\\\u002F3g.163.com\\\\u002Fdigi\\\\u002Farticle\\\\u002FGHGTAPOD001697V8.html\",\"commentCount\":21,\"imgsrc3gtype\":\"1\",\"stitle\":\"\",\"digest\":\"在一份新的投资者说明中，可靠的分析师郭明��详细介绍了苹果库\",\"imgsrc\":\"http:\\\\u002F\\\\u002Fcms-bucket.ws.126.net\\\\u002F2021\\\\u002F0816\\\\u002F84f02663j00qxwrxv004vc000s600e3c.jpg\",\"ptime\":\"2021-08-16 09:24:18\"},{\"imgextra\":[{\"imgsrc\":\"http:\\\\u002F\\\\u002Fcms-bucket.ws.126.net\\\\u002F2021\\\\u002F0816\\\\u002Fe2847807p00qxwt6f0015c0009c0070c.png\"},{\"imgsrc\":\"http:\\\\u002F\\\\u002Fcms-bucket.ws.126.net\\\\u002F2021\\\\u002F0816\\\\u002F233ea6a8p00qxwt6f0016c0009c0070c.png\"}],\"liveInfo\":null,\"docid\":\"GHGUTD4V001697V8\",\"source\":\"3DMGAME\",\"title\":\"日本妹COS《赛博朋克2077》美图：霸气魅惑逼真还原\",\"priority\":87,\"hasImg\":1,\"url\":\"https:\\\\u002F\\\\u002F3g.163.com\\\\u002Fdigi\\\\u002Farticle\\\\u002FGHGUTD4V001697V8.html\",\"commentCount\":23,\"imgsrc3gtype\":\"2\",\"stitle\":\"\",\"digest\":\"《赛博朋克2077》里许多NPC都散发着强大的魅力。比如丽姿\",\"imgsrc\":\"http:\\\\u002F\\\\u002Fcms-bucket.ws.126.net\\\\u002F2021\\\\u002F0816\\\\u002F7537374cp00qxwt6f0016c0009c0070c.png\",\"ptime\":\"2021-08-16 09:51:56\"},{\"liveInfo\":null,\"docid\":\"GHGUH47S001697V8\",\"source\":\"游民星空\",\"title\":\"罗永浩吐槽新版Apple Music难用：省去海量脏话\",\"priority\":86,\"hasImg\":1,\"url\":\"https:\\\\u002F\\\\u002F3g.163.com\\\\u002Fdigi\\\\u002Farticle\\\\u002FGHGUH47S001697V8.html\",\"commentCount\":1093,\"imgsrc3gtype\":\"1\",\"stitle\":\"\",\"digest\":\"近日，@罗永浩发布微博吐槽苹果新版AppleMusic，称新\",\"imgsrc\":\"http:\\\\u002F\\\\u002Fcms-bucket.ws.126.net\\\\u002F2021\\\\u002F0816\\\\u002Ff5ddcf83p00qxwsva0016c0009c0070c.png\",\"ptime\":\"2021-08-16 09:45:14\"},{\"liveInfo\":null,\"docid\":\"GHGUC2T6001697V8\",\"source\":\"cnbeta网站\",\"title\":\"微软承诺对Win11会对更多的内置应用程序进行改造\",\"priority\":85,\"hasImg\":1,\"url\":\"https:\\\\u002F\\\\u002F3g.163.com\\\\u002Fdigi\\\\u002Farticle\\\\u002FGHGUC2T6001697V8.html\",\"commentCount\":0,\"imgsrc3gtype\":\"1\",\"stitle\":\"\",\"digest\":\"Windows11将在今年晚些时候推出，并在设计上有重大改进\",\"imgsrc\":\"http:\\\\u002F\\\\u002Fcms-bucket.ws.126.net\\\\u002F2021\\\\u002F0816\\\\u002F37703693p00qxwsqp000qc0009c0070c.png\",\"ptime\":\"2021-08-16 09:42:29\"},{\"liveInfo\":null,\"docid\":\"GHGTV897001697V8\",\"source\":\"太平洋电脑网\",\"title\":\"复刻镜头玩上瘾 福伦达将推50mmF1.5镜头\",\"priority\":85,\"hasImg\":1,\"url\":\"https:\\\\u002F\\\\u002F3g.163.com\\\\u002Fdigi\\\\u002Farticle\\\\u002FGHGTV897001697V8.html\",\"commentCount\":0,\"imgsrc3gtype\":\"1\",\"stitle\":\"\",\"digest\":\"确善能最近要推出一款复古镜头，型号是福伦达HELIARCla\",\"imgsrc\":\"http:\\\\u002F\\\\u002Fcms-bucket.ws.126.net\\\\u002F2021\\\\u002F0816\\\\u002F846111b0p00qxwsf0001cc0009c0070c.png\",\"ptime\":\"2021-08-16 09:35:28\"},{\"liveInfo\":null,\"docid\":\"GHGTS354001697V8\",\"source\":\"中关村在线\",\"title\":\"微软新款Surface笔记本曝光：采用全新设计语言\",\"priority\":85,\"hasImg\":1,\"url\":\"https:\\\\u002F\\\\u002F3g.163.com\\\\u002Fdigi\\\\u002Farticle\\\\u002FGHGTS354001697V8.html\",\"commentCount\":48,\"imgsrc3gtype\":\"1\",\"stitle\":\"\",\"digest\":\"微软SurfaceBook于2015年与Windows10操\",\"imgsrc\":\"http:\\\\u002F\\\\u002Fcms-bucket.ws.126.net\\\\u002F2021\\\\u002F0816\\\\u002Ffeef384dp00qxwsc5000vc0009c0070c.png\",\"ptime\":\"2021-08-16 09:33:45\"},{\"liveInfo\":null,\"docid\":\"GHGTQ8MO001697V8\",\"source\":\"中关村在线\",\"title\":\"AMD CDNA2架构年底问世：128GB显存史无前例\",\"priority\":85,\"hasImg\":1,\"url\":\"https:\\\\u002F\\\\u002F3g.163.com\\\\u002Fdigi\\\\u002Farticle\\\\u002FGHGTQ8MO001697V8.html\",\"commentCount\":45,\"imgsrc3gtype\":\"1\",\"stitle\":\"\",\"digest\":\"AMD的GPU架构去年也开始将游戏与计算分开了，显卡现在用的\",\"imgsrc\":\"http:\\\\u002F\\\\u002Fcms-bucket.ws.126.net\\\\u002F2021\\\\u002F0816\\\\u002F5451f634p00qxwsah0012c0009c0070c.png\",\"ptime\":\"2021-08-16 09:32:45\"},{\"liveInfo\":null,\"docid\":\"GHGTE16C001697V8\",\"source\":\"中关村在线\",\"title\":\"AMD下代显卡曝光：Navi 31、Navi 33已获确认\",\"priority\":85,\"hasImg\":1,\"url\":\"https:\\\\u002F\\\\u002F3g.163.com\\\\u002Fdigi\\\\u002Farticle\\\\u002FGHGTE16C001697V8.html\",\"commentCount\":1,\"imgsrc3gtype\":\"1\",\"stitle\":\"\",\"digest\":\"目前最新的ROCclr代码中，已经可以看到Navi31、Na\",\"imgsrc\":\"http:\\\\u002F\\\\u002Fcms-bucket.ws.126.net\\\\u002F2021\\\\u002F0816\\\\u002Fd34f3a7ep00qxwrzc0014c0009c0070c.png\",\"ptime\":\"2021-08-16 09:26:04\"},{\"liveInfo\":null,\"docid\":\"GHGT8IBF001697V8\",\"source\":\"中关村在线\",\"title\":\"二手真香警告？ 苹果官方翻新产品悄然上新\",\"priority\":85,\"hasImg\":1,\"url\":\"https:\\\\u002F\\\\u002F3g.163.com\\\\u002Fdigi\\\\u002Farticle\\\\u002FGHGT8IBF001697V8.html\",\"commentCount\":828,\"imgsrc3gtype\":\"1\",\"stitle\":\"\",\"digest\":\"要说到二手产品我们最先会想到什么，我估计大部分人第一反应应该\",\"imgsrc\":\"http:\\\\u002F\\\\u002Fcms-bucket.ws.126.net\\\\u002F2021\\\\u002F0816\\\\u002F28d152d3p00qxwrud000hc0009c0070c.png\",\"ptime\":\"2021-08-16 09:23:05\"},{\"liveInfo\":null,\"docid\":\"GHGUDKRI001697V8\",\"source\":\"IT之家\",\"title\":\"TWS耳机销量5年暴增25倍：电池工厂忙扩产\",\"priority\":84,\"hasImg\":1,\"url\":\"https:\\\\u002F\\\\u002F3g.163.com\\\\u002Fdigi\\\\u002Farticle\\\\u002FGHGUDKRI001697V8.html\",\"commentCount\":19,\"imgsrc3gtype\":\"1\",\"stitle\":\"\",\"digest\":\"据央视财经报道，数据显示，TWS耳机在2016年问世时，全球\",\"imgsrc\":\"http:\\\\u002F\\\\u002Fcms-bucket.ws.126.net\\\\u002F2021\\\\u002F0816\\\\u002F0746d6aep00qxwss4001hc0009c0070c.png\",\"ptime\":\"2021-08-16 09:43:20\"},{\"liveInfo\":null,\"docid\":\"GHGU9082001697V8\",\"source\":\"快科技\",\"title\":\"iOS开始审查用户照片：为“后门”问题统一员工口径\",\"priority\":84,\"hasImg\":1,\"url\":\"https:\\\\u002F\\\\u002F3g.163.com\\\\u002Fdigi\\\\u002Farticle\\\\u002FGHGU9082001697V8.html\",\"commentCount\":143,\"imgsrc3gtype\":\"1\",\"stitle\":\"\",\"digest\":\"苹果一直标榜自家的手机及iOS系统在用户隐私上的牢不可破，甚\",\"imgsrc\":\"http:\\\\u002F\\\\u002Fcms-bucket.ws.126.net\\\\u002F2021\\\\u002F0816\\\\u002F529755fbp00qxwsnv001fc0009c0070c.png\",\"ptime\":\"2021-08-16 09:40:48\"},{\"liveInfo\":null,\"docid\":\"GHGU6O23001697V8\",\"source\":\"快科技\",\"title\":\"国产屏下摄像头方案领先三星！王腾：部分指标反超\",\"priority\":84,\"hasImg\":1,\"url\":\"https:\\\\u002F\\\\u002F3g.163.com\\\\u002Fdigi\\\\u002Farticle\\\\u002FGHGU6O23001697V8.html\",\"commentCount\":38,\"imgsrc3gtype\":\"1\",\"stitle\":\"\",\"digest\":\"本周三星发布了GalaxyZFold3和三星GalaxyZF\",\"imgsrc\":\"http:\\\\u002F\\\\u002Fcms-bucket.ws.126.net\\\\u002F2021\\\\u002F0816\\\\u002Ff78b969fp00qxwslt000yc0009c0070c.png\",\"ptime\":\"2021-08-16 09:39:34\"},{\"liveInfo\":null,\"docid\":\"GHGU4EI5001697V8\",\"source\":\"cnbeta网站\",\"title\":\"下一代Fitbit Charge 5手环泄露：现在有了彩色屏幕\",\"priority\":84,\"hasImg\":1,\"url\":\"https:\\\\u002F\\\\u002F3g.163.com\\\\u002Fdigi\\\\u002Farticle\\\\u002FGHGU4EI5001697V8.html\",\"commentCount\":20,\"imgsrc3gtype\":\"1\",\"stitle\":\"\",\"digest\":\"新一代的Fitbits即将问世，可靠的泄密者EvanBlas\",\"imgsrc\":\"http:\\\\u002F\\\\u002Fcms-bucket.ws.126.net\\\\u002F2021\\\\u002F0816\\\\u002F366007f8p00qxwsjp000zc0009c0070c.png\",\"ptime\":\"2021-08-16 09:38:19\"},{\"liveInfo\":null,\"docid\":\"GHGU0TJ3001697V8\",\"source\":\"太平洋电脑网\",\"title\":\"富士秋季品发布会将定于9月初：新机新镜来了\",\"priority\":84,\"hasImg\":1,\"url\":\"https:\\\\u002F\\\\u002F3g.163.com\\\\u002Fdigi\\\\u002Farticle\\\\u002FGHGU0TJ3001697V8.html\",\"commentCount\":1,\"imgsrc3gtype\":\"1\",\"stitle\":\"\",\"digest\":\"之前有传闻称富士今年还会发布一款新的中画幅相机和一款中画幅镜\",\"imgsrc\":\"http:\\\\u002F\\\\u002Fcms-bucket.ws.126.net\\\\u002F2021\\\\u002F0816\\\\u002Ff41f4f77p00qxwsgj000zc0009c0070c.png\",\"ptime\":\"2021-08-16 09:36:23\"},{\"liveInfo\":null,\"docid\":\"GHGTM7OI001697V8\",\"source\":\"中关村在线\",\"title\":\"苹果败诉 将赔Optis公司3亿美元 侵犯无线技术专利\",\"priority\":84,\"hasImg\":1,\"url\":\"https:\\\\u002F\\\\u002F3g.163.com\\\\u002Fdigi\\\\u002Farticle\\\\u002FGHGTM7OI001697V8.html\",\"commentCount\":0,\"imgsrc3gtype\":\"1\",\"stitle\":\"\",\"digest\":\"美国当地时间上周五，得州法院陪审团裁定，苹果因侵犯无线技术专\",\"imgsrc\":\"http:\\\\u002F\\\\u002Fcms-bucket.ws.126.net\\\\u002F2021\\\\u002F0816\\\\u002Ffb8d0327p00qxws6t001fc0009c0070c.png\",\"ptime\":\"2021-08-16 09:30:33\"},{\"liveInfo\":null,\"docid\":\"GHEAE7I4001697V8\",\"source\":\"中关村在线\",\"title\":\"LGD都不这么玩，小米OLED电视为啥这么便宜？\",\"priority\":90,\"hasImg\":1,\"url\":\"https:\\\\u002F\\\\u002F3g.163.com\\\\u002Fdigi\\\\u002Farticle\\\\u002FGHEAE7I4001697V8.html\",\"commentCount\":609,\"imgsrc3gtype\":\"1\",\"stitle\":\"\",\"digest\":\"小米2021秋季新品发布会，终于推出了大家梦寐以求的新品OL\",\"imgsrc\":\"http:\\\\u002F\\\\u002Fcms-bucket.ws.126.net\\\\u002F2021\\\\u002F0815\\\\u002F7194c8dcj00qxuwwb0086c000s600e3c.jpg\",\"ptime\":\"2021-08-15 09:15:39\"},{\"liveInfo\":null,\"docid\":\"GHEF54HL001697V8\",\"source\":\"快科技\",\"title\":\"夫妻俩火车上手机外放刷视频 结果多人被围殴\",\"priority\":86,\"hasImg\":1,\"url\":\"https:\\\\u002F\\\\u002F3g.163.com\\\\u002Fdigi\\\\u002Farticle\\\\u002FGHEF54HL001697V8.html\",\"commentCount\":87051,\"imgsrc3gtype\":\"1\",\"stitle\":\"\",\"digest\":\"在公共属性较大的公共汽车、列车上，一些人时常会肆无忌惮的打开\",\"imgsrc\":\"http:\\\\u002F\\\\u002Fcms-bucket.ws.126.net\\\\u002F2021\\\\u002F0815\\\\u002Fee8db186p00qxv0n6001fc0009c0070c.png\",\"ptime\":\"2021-08-15 10:38:04\"},{\"liveInfo\":null,\"docid\":\"GHEEECVF001697V8\",\"source\":\"太平洋电脑网\",\"title\":\"高通下代骁龙898前瞻：三星4nm工艺 今年年底登场\",\"priority\":85,\"hasImg\":1,\"url\":\"https:\\\\u002F\\\\u002F3g.163.com\\\\u002Fdigi\\\\u002Farticle\\\\u002FGHEEECVF001697V8.html\",\"commentCount\":198,\"imgsrc3gtype\":\"1\",\"stitle\":\"\",\"digest\":\"高通下一代处理器在此前被曝光，型号为SM8450，可能是骁龙\",\"imgsrc\":\"http:\\\\u002F\\\\u002Fcms-bucket.ws.126.net\\\\u002F2021\\\\u002F0815\\\\u002F2043d58cp00qxv02k000rc0009c0070c.png\",\"ptime\":\"2021-08-15 10:25:39\"},{\"liveInfo\":null,\"docid\":\"GHEHVFKR001697V8\",\"source\":\"雷科技\",\"title\":\"华为鸿蒙这个独占功能，所有安卓手机都能用了\",\"priority\":84,\"hasImg\":1,\"url\":\"https:\\\\u002F\\\\u002F3g.163.com\\\\u002Fdigi\\\\u002Farticle\\\\u002FGHEHVFKR001697V8.html\",\"commentCount\":1110,\"imgsrc3gtype\":\"1\",\"stitle\":\"\",\"digest\":\"小雷也算是混机圈多年，这几年来感受到最大的变化就是，喜欢折腾\",\"imgsrc\":\"http:\\\\u002F\\\\u002Fcms-bucket.ws.126.net\\\\u002F2021\\\\u002F0815\\\\u002Fe395d966p00qxv2xh0012c0009c0070c.png\",\"ptime\":\"2021-08-15 11:27:24\"},{\"liveInfo\":null,\"docid\":\"GHEF1A5B001697V8\",\"source\":\"快科技\",\"title\":\"蔚来自动辅助驾驶事故致人死亡！此前蔚来副总演示车内吃饭\",\"priority\":84,\"hasImg\":1,\"url\":\"https:\\\\u002F\\\\u002F3g.163.com\\\\u002Fdigi\\\\u002Farticle\\\\u002FGHEF1A5B001697V8.html\",\"commentCount\":10501,\"imgsrc3gtype\":\"1\",\"stitle\":\"\",\"digest\":\"蔚来自动辅助驾驶事故致驾驶员死亡！此前蔚来副总裁演示车内吃饭\",\"imgsrc\":\"http:\\\\u002F\\\\u002Fcms-bucket.ws.126.net\\\\u002F2021\\\\u002F0815\\\\u002F689e387ap00qxv0jr001ac0009c0070c.png\",\"ptime\":\"2021-08-15 10:35:58\"},{\"liveInfo\":null,\"docid\":\"GHEHE5HF001697V8\",\"source\":\"手机中国\",\"title\":\"实机曝光！天美联手Xbox打造战略手游《重返帝国》\",\"priority\":83,\"hasImg\":1,\"url\":\"https:\\\\u002F\\\\u002F3g.163.com\\\\u002Fdigi\\\\u002Farticle\\\\u002FGHEHE5HF001697V8.html\",\"commentCount\":50,\"imgsrc3gtype\":\"1\",\"stitle\":\"\",\"digest\":\"《王者荣耀》相信很多人都有玩过，该游戏出自于天美工作室。在此\",\"imgsrc\":\"http:\\\\u002F\\\\u002Fcms-bucket.ws.126.net\\\\u002F2021\\\\u002F0815\\\\u002F86b2558dp00qxv2hq001dc0009c0070c.png\",\"ptime\":\"2021-08-15 11:17:57\"},{\"liveInfo\":null,\"docid\":\"GHEHAIRV001697V8\",\"source\":\"IT之家\",\"title\":\"realme Book正面亮屏照曝光：窄边框+3:2屏幕比例\",\"priority\":83,\"hasImg\":1,\"url\":\"https:\\\\u002F\\\\u002F3g.163.com\\\\u002Fdigi\\\\u002Farticle\\\\u002FGHEHAIRV001697V8.html\",\"commentCount\":25,\"imgsrc3gtype\":\"1\",\"stitle\":\"\",\"digest\":\"今日，realme官方曝光了realmeBook正面亮屏照，\",\"imgsrc\":\"http:\\\\u002F\\\\u002Fcms-bucket.ws.126.net\\\\u002F2021\\\\u002F0815\\\\u002Fc2c5b5a5p00qxv2ea000wc0009c0070c.png\",\"ptime\":\"2021-08-15 11:15:59\"},{\"liveInfo\":null,\"docid\":\"GHEET4DV001697V8\",\"source\":\"中关村在线\",\"title\":\"挑战HomePod mini ？499元小米Sound究竟有何能耐\",\"priority\":83,\"hasImg\":1,\"url\":\"https:\\\\u002F\\\\u002F3g.163.com\\\\u002Fdigi\\\\u002Farticle\\\\u002FGHEET4DV001697V8.html\",\"commentCount\":121,\"imgsrc3gtype\":\"1\",\"stitle\":\"\",\"digest\":\"前几天发布会小米推出了一堆新品，其中有一款小米在音响上的全新\",\"imgsrc\":\"http:\\\\u002F\\\\u002Fcms-bucket.ws.126.net\\\\u002F2021\\\\u002F0815\\\\u002F0a9131b9p00qxv0g00019c0009c0070c.png\",\"ptime\":\"2021-08-15 10:33:41\"},{\"liveInfo\":null,\"docid\":\"GHEEC15L001697V8\",\"source\":\"IT之家\",\"title\":\"以CSAM之名扫描手机，苹果提醒员工为iPhone后门做好准备\",\"priority\":83,\"hasImg\":1,\"url\":\"https:\\\\u002F\\\\u002F3g.163.com\\\\u002Fdigi\\\\u002Farticle\\\\u002FGHEEC15L001697V8.html\",\"commentCount\":29,\"imgsrc3gtype\":\"1\",\"stitle\":\"\",\"digest\":\"众所周知，苹果此前推出了一项新政策，可在不经过用户许可的情况\",\"imgsrc\":\"http:\\\\u002F\\\\u002Fcms-bucket.ws.126.net\\\\u002F2021\\\\u002F0815\\\\u002F71280d5dp00qxv00c000fc0009c0070c.png\",\"ptime\":\"2021-08-15 10:24:21\"},{\"liveInfo\":null,\"docid\":\"GHEHP60B001697V8\",\"source\":\"威锋网\",\"title\":\"侵犯4G LTE专利？苹果将被勒令赔偿3亿美元\",\"priority\":82,\"hasImg\":1,\"url\":\"https:\\\\u002F\\\\u002F3g.163.com\\\\u002Fdigi\\\\u002Farticle\\\\u002FGHEHP60B001697V8.html\",\"commentCount\":0,\"imgsrc3gtype\":\"1\",\"stitle\":\"\",\"digest\":\"德克萨斯州的一个联邦陪审团周五命令苹果向非执业实体PanOp\",\"imgsrc\":\"http:\\\\u002F\\\\u002Fcms-bucket.ws.126.net\\\\u002F2021\\\\u002F0815\\\\u002F244c0c50p00qxv2qy000rc0009c0070c.png\",\"ptime\":\"2021-08-15 11:23:58\"},{\"liveInfo\":null,\"docid\":\"GHEHL4OJ001697V8\",\"source\":\"快科技\",\"title\":\"128GB显存史无前例 AMD确认CDNA2架构加速卡年底亮相\",\"priority\":82,\"hasImg\":1,\"url\":\"https:\\\\u002F\\\\u002F3g.163.com\\\\u002Fdigi\\\\u002Farticle\\\\u002FGHEHL4OJ001697V8.html\",\"commentCount\":38,\"imgsrc3gtype\":\"1\",\"stitle\":\"\",\"digest\":\"AMD的GPU架构去年也开始将游戏与计算分开了，显卡现在用的\",\"imgsrc\":\"http:\\\\u002F\\\\u002Fcms-bucket.ws.126.net\\\\u002F2021\\\\u002F0815\\\\u002F43530d4bp00qxv2np0014c0009c0070c.png\",\"ptime\":\"2021-08-15 11:21:45\"},{\"liveInfo\":null,\"docid\":\"GHBTA0L3001697V8\",\"source\":\"中关村在线\",\"title\":\"消失4年后，苹果曾经最失败产品要卷土重来了\",\"priority\":88,\"hasImg\":1,\"url\":\"https:\\\\u002F\\\\u002F3g.163.com\\\\u002Fdigi\\\\u002Farticle\\\\u002FGHBTA0L3001697V8.html\",\"commentCount\":184,\"imgsrc3gtype\":\"1\",\"stitle\":\"\",\"digest\":\"还记得12英寸的MacBook吗？苹果早在2015年首次发布\",\"imgsrc\":\"http:\\\\u002F\\\\u002Fcms-bucket.ws.126.net\\\\u002F2021\\\\u002F0814\\\\u002F2323c228p00qxt6fb000gc0009c0070c.png\",\"ptime\":\"2021-08-14 10:47:40\"},{\"liveInfo\":null,\"docid\":\"GHBSUBS2001697V8\",\"source\":\"快科技\",\"title\":\"超值行货官翻12.9英寸iPad Pro了解下 最低5999元\",\"priority\":88,\"hasImg\":1,\"url\":\"https:\\\\u002F\\\\u002F3g.163.com\\\\u002Fdigi\\\\u002Farticle\\\\u002FGHBSUBS2001697V8.html\",\"commentCount\":300,\"imgsrc3gtype\":\"1\",\"stitle\":\"\",\"digest\":\"苹果性价比更高的iPadPro了解下：A12Z处理器加持性能\",\"imgsrc\":\"http:\\\\u002F\\\\u002Fcms-bucket.ws.126.net\\\\u002F2021\\\\u002F0814\\\\u002F681324faj00qxt6cw005sc000s600e3c.jpg\",\"ptime\":\"2021-08-14 10:41:18\"},{\"imgextra\":[{\"imgsrc\":\"http:\\\\u002F\\\\u002Fcms-bucket.ws.126.net\\\\u002F2021\\\\u002F0811\\\\u002F0ee50820j00qxoj3e0086c0009c0070c.jpg\"},{\"imgsrc\":\"http:\\\\u002F\\\\u002Fcms-bucket.ws.126.net\\\\u002F2021\\\\u002F0811\\\\u002Fb3773dfbj00qxoj3e005cc0009c0070c.jpg\"}],\"liveInfo\":null,\"docid\":\"GH5DEURI0011819H\",\"source\":\"网易手机\",\"title\":\"三星Z Fold3\\\\u002FFlip3双折叠旗舰登场 功能更强价更低\",\"priority\":87,\"hasImg\":1,\"url\":\"https:\\\\u002F\\\\u002F3g.163.com\\\\u002Fmobile\\\\u002Farticle\\\\u002FGH5DEURI0011819H.html\",\"commentCount\":18136,\"imgsrc3gtype\":\"2\",\"stitle\":\"\",\"digest\":\"网易手机讯，2021年8月11日消息，这个月的手机圈确实有点\",\"imgsrc\":\"http:\\\\u002F\\\\u002Fcms-bucket.ws.126.net\\\\u002F2021\\\\u002F0811\\\\u002F41cac602j00qxoj3e0041c0009c0070c.jpg\",\"ptime\":\"2021-08-11 22:15:18\"},{\"liveInfo\":null,\"docid\":\"GHC076FF001697V8\",\"source\":\"快科技\",\"title\":\"男子乘坐滴滴被收4元空调费 司机直接甩锅滴滴官方\",\"priority\":86,\"hasImg\":1,\"url\":\"https:\\\\u002F\\\\u002F3g.163.com\\\\u002Fdigi\\\\u002Farticle\\\\u002FGHC076FF001697V8.html\",\"commentCount\":1103,\"imgsrc3gtype\":\"1\",\"stitle\":\"\",\"digest\":\"8月11日，辽宁沈阳网友陈先生报料称，他在乘坐滴滴网约车时被\",\"imgsrc\":\"http:\\\\u002F\\\\u002Fcms-bucket.ws.126.net\\\\u002F2021\\\\u002F0814\\\\u002Fec798b0ap00qxt8s40014c0009c0070c.png\",\"ptime\":\"2021-08-14 11:38:34\"},{\"liveInfo\":null,\"docid\":\"GHBVSKFB001697V8\",\"source\":\"手机中国\",\"title\":\"为何做仿生四足机器人？小米常程发文答疑解惑\",\"priority\":86,\"hasImg\":1,\"url\":\"https:\\\\u002F\\\\u002F3g.163.com\\\\u002Fdigi\\\\u002Farticle\\\\u002FGHBVSKFB001697V8.html\",\"commentCount\":540,\"imgsrc3gtype\":\"1\",\"stitle\":\"\",\"digest\":\"此前的8月10日，小米发布了首款仿生四足机器人——Cyber\",\"imgsrc\":\"http:\\\\u002F\\\\u002Fcms-bucket.ws.126.net\\\\u002F2021\\\\u002F0814\\\\u002F59e2c00cp00qxt8ih000vc0009c0070c.png\",\"ptime\":\"2021-08-14 11:32:47\"},{\"imgextra\":[{\"imgsrc\":\"http:\\\\u002F\\\\u002Fcms-bucket.ws.126.net\\\\u002F2021\\\\u002F0814\\\\u002Fad20d3bap00qxt6lu001rc0009c0070c.png\"},{\"imgsrc\":\"http:\\\\u002F\\\\u002Fcms-bucket.ws.126.net\\\\u002F2021\\\\u002F0814\\\\u002Fb8201b6ap00qxt6lu001tc0009c0070c.png\"}],\"liveInfo\":null,\"docid\":\"GHBTHIM7001697V8\",\"source\":\"快科技\",\"title\":\"AMD锐龙5 5600G APU开盖高清照：对比上代变化小\",\"priority\":86,\"hasImg\":1,\"url\":\"https:\\\\u002F\\\\u002F3g.163.com\\\\u002Fdigi\\\\u002Farticle\\\\u002FGHBTHIM7001697V8.html\",\"commentCount\":6,\"imgsrc3gtype\":\"2\",\"stitle\":\"\",\"digest\":\"AMDZen3架构的锐龙5000GAPU终于进入了零售市场，\",\"imgsrc\":\"http:\\\\u002F\\\\u002Fcms-bucket.ws.126.net\\\\u002F2021\\\\u002F0814\\\\u002Fc5e1732fp00qxt6lu001mc0009c0070c.png\",\"ptime\":\"2021-08-14 10:51:48\"},{\"liveInfo\":null,\"docid\":\"GH3CBCKM001680P9\",\"source\":\"易评机\",\"title\":\"小米电视6 OLED体验：为了这块屏祭出成本控制大法\",\"priority\":85,\"hasImg\":1,\"url\":\"https:\\\\u002F\\\\u002F3g.163.com\\\\u002Fdigi\\\\u002Farticle\\\\u002FGH3CBCKM001680P9.html\",\"commentCount\":944,\"imgsrc3gtype\":\"3\",\"stitle\":\"\",\"digest\":\"作者|两朵铁花出品|网易手机&数码《易评机》栏目组2019年\",\"imgsrc\":\"http:\\\\u002F\\\\u002Fcms-bucket.ws.126.net\\\\u002F2021\\\\u002F0812\\\\u002Fb97f1c80j00qxop5d008gc000s600e3c.jpg\",\"ptime\":\"2021-08-11 03:17:24\"},{\"liveInfo\":null,\"docid\":\"GHBVV4U1001697V8\",\"source\":\"雷科技\",\"title\":\"提前体验新系统！网页版Win11上线：不用下载安装\",\"priority\":84,\"hasImg\":1,\"url\":\"https:\\\\u002F\\\\u002F3g.163.com\\\\u002Fdigi\\\\u002Farticle\\\\u002FGHBVV4U1001697V8.html\",\"commentCount\":93,\"imgsrc3gtype\":\"1\",\"stitle\":\"\",\"digest\":\"Windows7发布至今已有13年，后面微软又发布了Wind\",\"imgsrc\":\"http:\\\\u002F\\\\u002Fcms-bucket.ws.126.net\\\\u002F2021\\\\u002F0814\\\\u002F604db1dcp00qxt8kr0014c0009c0070c.png\",\"ptime\":\"2021-08-14 11:34:10\"},{\"liveInfo\":null,\"docid\":\"GHBVJVMG001697V8\",\"source\":\"中关村在线\",\"title\":\"性能彪悍！苹果重磅新品开产：搭M1升级版\",\"priority\":84,\"hasImg\":1,\"url\":\"https:\\\\u002F\\\\u002F3g.163.com\\\\u002Fdigi\\\\u002Farticle\\\\u002FGHBVJVMG001697V8.html\",\"commentCount\":641,\"imgsrc3gtype\":\"1\",\"stitle\":\"\",\"digest\":\"据供应链消息，苹果已经开始量产新miniLED背光MacBo\",\"imgsrc\":\"http:\\\\u002F\\\\u002Fcms-bucket.ws.126.net\\\\u002F2021\\\\u002F0814\\\\u002F3535d598p00qxt8am000lc0009c0070c.png\",\"ptime\":\"2021-08-14 11:28:04\"},{\"liveInfo\":null,\"docid\":\"GHBTE4T3001697V8\",\"source\":\"IT之家\",\"title\":\"Windows 365云电脑存漏洞被攻破，被黑客成功窃取\",\"priority\":84,\"hasImg\":1,\"url\":\"https:\\\\u002F\\\\u002F3g.163.com\\\\u002Fdigi\\\\u002Farticle\\\\u002FGHBTE4T3001697V8.html\",\"commentCount\":0,\"imgsrc3gtype\":\"1\",\"stitle\":\"\",\"digest\":\"上个月，微软宣布了Windows365，这是一项面向商业客户\",\"imgsrc\":\"http:\\\\u002F\\\\u002Fcms-bucket.ws.126.net\\\\u002F2021\\\\u002F0814\\\\u002F6c0dc034p00qxt6j2000pc0009c0070c.png\",\"ptime\":\"2021-08-14 10:49:56\"},{\"liveInfo\":null,\"docid\":\"GHBVNK9Q001697V8\",\"source\":\"IT之家\",\"title\":\"谷歌将为Android系统带来全新的时间选择器UI\",\"priority\":83,\"hasImg\":1,\"url\":\"https:\\\\u002F\\\\u002F3g.163.com\\\\u002Fdigi\\\\u002Farticle\\\\u002FGHBVNK9Q001697V8.html\",\"commentCount\":32,\"imgsrc3gtype\":\"1\",\"stitle\":\"\",\"digest\":\"谷歌在今年早些时候的I\\\\u002FO大会上发布了其Material设计\",\"imgsrc\":\"http:\\\\u002F\\\\u002Fcms-bucket.ws.126.net\\\\u002F2021\\\\u002F0814\\\\u002F99774af4p00qxt8df000xc0009c0070c.png\",\"ptime\":\"2021-08-14 11:30:03\"},{\"liveInfo\":null,\"docid\":\"GHC02BSF001697V8\",\"source\":\"雷锋网\",\"title\":\"苹果芯片M1革了Intel x86的命？其实这是个伪命题\",\"priority\":82,\"hasImg\":1,\"url\":\"https:\\\\u002F\\\\u002F3g.163.com\\\\u002Fdigi\\\\u002Farticle\\\\u002FGHC02BSF001697V8.html\",\"commentCount\":81,\"imgsrc3gtype\":\"1\",\"stitle\":\"\",\"digest\":\"在过去一两年中，苹果Mac的自研芯片转型，以及ARM在数据中\",\"imgsrc\":\"http:\\\\u002F\\\\u002Fcms-bucket.ws.126.net\\\\u002F2021\\\\u002F0814\\\\u002Fdb3d1e0cp00qxt8nb000wc0009c0070c.png\",\"ptime\":\"2021-08-14 11:35:55\"},{\"liveInfo\":null,\"docid\":\"GH88AN4K001697V8\",\"source\":\"中关村在线\",\"title\":\"科技满满的微型摄像头有多可怕？看完细思极恐\",\"priority\":87,\"hasImg\":1,\"url\":\"https:\\\\u002F\\\\u002F3g.163.com\\\\u002Fdigi\\\\u002Farticle\\\\u002FGH88AN4K001697V8.html\",\"commentCount\":163,\"imgsrc3gtype\":\"1\",\"stitle\":\"\",\"digest\":\"也许，我们的生活正在被“隐身”的摄像头非法记录着。相关新闻称\",\"imgsrc\":\"http:\\\\u002F\\\\u002Fcms-bucket.ws.126.net\\\\u002F2021\\\\u002F0813\\\\u002F110e295dj00qxqjzh0031c000s600e3c.jpg\",\"ptime\":\"2021-08-13 00:43:20\"},{\"liveInfo\":null,\"docid\":\"GH9A3G4A001697V8\",\"source\":\"cnbeta\",\"title\":\"微软Instagram账号发梗图嘲笑自家Xbox Series X的命名法\",\"priority\":86,\"hasImg\":1,\"url\":\"https:\\\\u002F\\\\u002F3g.163.com\\\\u002Fdigi\\\\u002Farticle\\\\u002FGH9A3G4A001697V8.html\",\"commentCount\":70,\"imgsrc3gtype\":\"1\",\"stitle\":\"\",\"digest\":\"近年来，微软在Xbox命名的问题上被指责混乱不堪。XboxS\",\"imgsrc\":\"http:\\\\u002F\\\\u002Fcms-bucket.ws.126.net\\\\u002F2021\\\\u002F0813\\\\u002F005e8a89p00qxrb3w002mc000s600e3c.png\",\"ptime\":\"2021-08-13 10:33:35\"}]},\"route\":{\"name\":\"channel_digi\",\"path\":\"\\\\u002Ftouch\\\\u002Fdigi\",\"hash\":\"\",\"query\":{\"ver\":\"c\",\"clickfrom\":\"index2018_header_main\"},\"params\":{},\"fullPath\":\"\\\\u002Ftouch\\\\u002Fdigi?ver=c&clickfrom=index2018_header_main\",\"meta\":{},\"from\":{\"name\":null,\"path\":\"\\\\u002F\",\"hash\":\"\",\"query\":{},\"params\":{},\"fullPath\":\"\\\\u002F\",\"meta\":{}}}};(function(){var s;(s=document.currentScript||document.scripts[document.scripts.length-1]).parentNode.removeChild(s);}());</script><script src=\"//static.ws.126.net/163/wap/f2e/isomorphism_digi/manifest.0fac37d230f6d45b84e9.js\" defer></script><script src=\"//static.ws.126.net/163/wap/f2e/isomorphism_digi/0.da0d25b72406a563cf8a.js\" defer></script><script src=\"//static.ws.126.net/163/wap/f2e/isomorphism_digi/vendor.80ebc9adad0f3c4d6026.js\" defer></script><script src=\"//static.ws.126.net/163/wap/f2e/isomorphism_digi/app.be1c5eddc96e7a693dd8.js\" defer></script>\\n  <script>\\n  ! function () {\\n    function n(n, e, t) {\\n      if (!n.href.match(/3g\\\\.163\\\\.com/)) return !0;\\n      var r = e.filter(function (e) {\\n        return t = e, r = n.href, !new RegExp(\"(\\\\\\\\?|#|&)\" + t + \"=.+\").test(r);\\n        var t, r\\n      }).map(function (n) {\\n        return {\\n          k: n,\\n          v: function (n) {\\n            var e = new RegExp(\"(?:\\\\\\\\?|&|#)\" + n + \"=(.*?)(?:$|&|#)\"),\\n              t = window.location.href.match(e);\\n            if (t && t[1] && t[1].length) return t[1]\\n          }(n)\\n        }\\n      }).filter(function (n) {\\n        return n.v\\n      }).map(function (n) {\\n        return n.k + \"=\" + n.v\\n      }).join(\"&\");\\n      if (r.length) {\\n        var o = n.search;\\n        return \"&\" === o.substr(-1) && (o = o.substr(0, o.length - 1)), n.search = o.length ? o + \"&\" + r : \"?\" + r, !0\\n      }\\n    }! function (e) {\\n      if (!e.length) return;\\n      if (function (n) {\\n          for (var e = !0, t = 0; t < n.length; t++) {\\n            var r = n[t];\\n            new RegExp(\"(\\\\\\\\?|#|&)\" + r + \"=\").test(window.location.href) && (e = !1)\\n          }\\n          return e\\n        }(e)) return;\\n      ! function (n, e) {\\n        document.body.addEventListener(\"click\", function (t) {\\n          for (var r = t.target; r.parentNode !== document && \"a\" !== r.tagName.toLowerCase();) r = r.parentNode;\\n          var o = r;\\n          return o !== document && o.href && o.href.indexOf(\"3g.163.com\") > -1 && n && n.call(null, o, e, t), !0\\n        })\\n      }(n, e)\\n    }([\"qd\", \"ver\"])\\n  }();\\n</script>\\n  </body>\\n</html>\\n'"
      ]
     },
     "execution_count": 1,
     "metadata": {},
     "output_type": "execute_result"
    }
   ],
   "source": [
    "import requests\n",
    "\n",
    "URL = \"https://3g.163.com/touch/digi/?ver=c&clickfrom=index2018_header_main\"  # 避免反复复制粘贴\n",
    "\n",
    "r = requests.get(URL)\n",
    "\n",
    "# 设置文本编码\n",
    "r.encoding = \"utf-8\"\n",
    "\n",
    "# 查看解码后的文本内容（就是HTML代码）\n",
    "r.text"
   ]
  },
  {
   "cell_type": "code",
   "execution_count": 2,
   "id": "ad03d14b",
   "metadata": {},
   "outputs": [
    {
     "data": {
      "text/plain": [
       "lxml.html.HtmlElement"
      ]
     },
     "execution_count": 2,
     "metadata": {},
     "output_type": "execute_result"
    }
   ],
   "source": [
    "from lxml import html\n",
    "\n",
    "# 将HTML代码转换为HtmlElement（树节点对象）\n",
    "# 目前拿到的tree对象，其实就是根节点的对象\n",
    "# 查找我们所需的信息，一般也是从根节点开始查找\n",
    "tree = html.fromstring(r.text)\n",
    "type(tree)"
   ]
  },
  {
   "cell_type": "code",
   "execution_count": 4,
   "id": "6e298d64",
   "metadata": {
    "scrolled": true
   },
   "outputs": [
    {
     "data": {
      "text/plain": [
       "[<Element article at 0x22a051b1818>,\n",
       " <Element article at 0x22a051b19f8>,\n",
       " <Element article at 0x22a051b1958>,\n",
       " <Element article at 0x22a051b1a48>,\n",
       " <Element article at 0x22a051b1a98>,\n",
       " <Element article at 0x22a051b1ae8>,\n",
       " <Element article at 0x22a051b1b38>,\n",
       " <Element article at 0x22a051b1b88>,\n",
       " <Element article at 0x22a051b1bd8>,\n",
       " <Element article at 0x22a051b1c28>,\n",
       " <Element article at 0x22a051b1c78>,\n",
       " <Element article at 0x22a051b1cc8>,\n",
       " <Element article at 0x22a051b1d18>,\n",
       " <Element article at 0x22a051b1d68>,\n",
       " <Element article at 0x22a051b1db8>,\n",
       " <Element article at 0x22a051b1e08>,\n",
       " <Element article at 0x22a051b1e58>,\n",
       " <Element article at 0x22a051b1ea8>,\n",
       " <Element article at 0x22a051b1ef8>,\n",
       " <Element article at 0x22a051b1f48>,\n",
       " <Element article at 0x22a051b1f98>,\n",
       " <Element article at 0x22a051b7048>,\n",
       " <Element article at 0x22a051b7098>,\n",
       " <Element article at 0x22a051b70e8>,\n",
       " <Element article at 0x22a051b7138>,\n",
       " <Element article at 0x22a051b7188>,\n",
       " <Element article at 0x22a051b71d8>,\n",
       " <Element article at 0x22a051b7228>,\n",
       " <Element article at 0x22a051b7278>,\n",
       " <Element article at 0x22a051b72c8>,\n",
       " <Element article at 0x22a051b7318>,\n",
       " <Element article at 0x22a051b7368>,\n",
       " <Element article at 0x22a051b73b8>,\n",
       " <Element article at 0x22a051b7408>,\n",
       " <Element article at 0x22a051b7458>]"
      ]
     },
     "execution_count": 4,
     "metadata": {},
     "output_type": "execute_result"
    }
   ],
   "source": [
    "# 提取元素对象列表\n",
    "articles = tree.xpath(\"//div[contains(@class, 'tab-content')]//article[contains(@class, 'card-type-news')]\")\n",
    "# 先用text()取到文字看看\n",
    "# articles = tree.xpath(\"//div[contains(@class, 'tab-content')]//article[contains(@class, 'card-type-news')]//h3/text()\")\n",
    "articles"
   ]
  },
  {
   "cell_type": "code",
   "execution_count": 23,
   "id": "8cf8f715",
   "metadata": {
    "scrolled": true
   },
   "outputs": [
    {
     "data": {
      "text/plain": [
       "[{'title': '罗永浩吐槽新版Apple Music难用：省去海量脏话',\n",
       "  'href': 'https://3g.163.com/digi/article/GHGUH47S001697V8.html?clickfrom=channel2018_digi_index_newslist#child=index&offset=118',\n",
       "  'pic_src': 'https://cms-bucket.ws.126.net/2021/0816/f5ddcf83p00qxwsva0016c0009c0070c.png?imageView&thumbnail=234y146&quality=45&interlace=1&enlarge=1&type=png',\n",
       "  'replies': '1093跟贴'},\n",
       " {'title': '微软承诺对Win11会对更多的内置应用程序进行改造',\n",
       "  'href': 'https://3g.163.com/digi/article/GHGUC2T6001697V8.html?clickfrom=channel2018_digi_index_newslist#child=index&offset=119',\n",
       "  'pic_src': 'https://cms-bucket.ws.126.net/2021/0816/37703693p00qxwsqp000qc0009c0070c.png?imageView&thumbnail=234y146&quality=45&interlace=1&enlarge=1&type=png',\n",
       "  'replies': '0跟贴'},\n",
       " {'title': '复刻镜头玩上瘾 福伦达将推50mmF1.5镜头',\n",
       "  'href': 'https://3g.163.com/digi/article/GHGTV897001697V8.html?clickfrom=channel2018_digi_index_newslist#child=index&offset=120',\n",
       "  'pic_src': 'https://cms-bucket.ws.126.net/2021/0816/846111b0p00qxwsf0001cc0009c0070c.png?imageView&thumbnail=234y146&quality=45&interlace=1&enlarge=1&type=png',\n",
       "  'replies': '0跟贴'},\n",
       " {'title': '微软新款Surface笔记本曝光：采用全新设计语言',\n",
       "  'href': 'https://3g.163.com/digi/article/GHGTS354001697V8.html?clickfrom=channel2018_digi_index_newslist#child=index&offset=121',\n",
       "  'pic_src': 'https://cms-bucket.ws.126.net/2021/0816/feef384dp00qxwsc5000vc0009c0070c.png?imageView&thumbnail=234y146&quality=45&interlace=1&enlarge=1&type=png',\n",
       "  'replies': '48跟贴'},\n",
       " {'title': 'AMD CDNA2架构年底问世：128GB显存史无前例',\n",
       "  'href': 'https://3g.163.com/digi/article/GHGTQ8MO001697V8.html?clickfrom=channel2018_digi_index_newslist#child=index&offset=122',\n",
       "  'pic_src': 'https://cms-bucket.ws.126.net/2021/0816/5451f634p00qxwsah0012c0009c0070c.png?imageView&thumbnail=234y146&quality=45&interlace=1&enlarge=1&type=png',\n",
       "  'replies': '45跟贴'},\n",
       " {'title': 'AMD下代显卡曝光：Navi 31、Navi 33已获确认',\n",
       "  'href': 'https://3g.163.com/digi/article/GHGTE16C001697V8.html?clickfrom=channel2018_digi_index_newslist#child=index&offset=123',\n",
       "  'pic_src': 'https://cms-bucket.ws.126.net/2021/0816/d34f3a7ep00qxwrzc0014c0009c0070c.png?imageView&thumbnail=234y146&quality=45&interlace=1&enlarge=1&type=png',\n",
       "  'replies': '1跟贴'},\n",
       " {'title': '二手真香警告？ 苹果官方翻新产品悄然上新',\n",
       "  'href': 'https://3g.163.com/digi/article/GHGT8IBF001697V8.html?clickfrom=channel2018_digi_index_newslist#child=index&offset=124',\n",
       "  'pic_src': 'https://cms-bucket.ws.126.net/2021/0816/28d152d3p00qxwrud000hc0009c0070c.png?imageView&thumbnail=234y146&quality=45&interlace=1&enlarge=1&type=png',\n",
       "  'replies': '828跟贴'},\n",
       " {'title': 'TWS耳机销量5年暴增25倍：电池工厂忙扩产',\n",
       "  'href': 'https://3g.163.com/digi/article/GHGUDKRI001697V8.html?clickfrom=channel2018_digi_index_newslist#child=index&offset=125',\n",
       "  'pic_src': 'https://cms-bucket.ws.126.net/2021/0816/0746d6aep00qxwss4001hc0009c0070c.png?imageView&thumbnail=234y146&quality=45&interlace=1&enlarge=1&type=png',\n",
       "  'replies': '19跟贴'},\n",
       " {'title': 'iOS开始审查用户照片：为“后门”问题统一员工口径',\n",
       "  'href': 'https://3g.163.com/digi/article/GHGU9082001697V8.html?clickfrom=channel2018_digi_index_newslist#child=index&offset=126',\n",
       "  'pic_src': 'https://cms-bucket.ws.126.net/2021/0816/529755fbp00qxwsnv001fc0009c0070c.png?imageView&thumbnail=234y146&quality=45&interlace=1&enlarge=1&type=png',\n",
       "  'replies': '143跟贴'},\n",
       " {'title': '国产屏下摄像头方案领先三星！王腾：部分指标反超',\n",
       "  'href': 'https://3g.163.com/digi/article/GHGU6O23001697V8.html?clickfrom=channel2018_digi_index_newslist#child=index&offset=127',\n",
       "  'pic_src': 'https://cms-bucket.ws.126.net/2021/0816/f78b969fp00qxwslt000yc0009c0070c.png?imageView&thumbnail=234y146&quality=45&interlace=1&enlarge=1&type=png',\n",
       "  'replies': '38跟贴'},\n",
       " {'title': '下一代Fitbit Charge 5手环泄露：现在有了彩色屏幕',\n",
       "  'href': 'https://3g.163.com/digi/article/GHGU4EI5001697V8.html?clickfrom=channel2018_digi_index_newslist#child=index&offset=128',\n",
       "  'pic_src': 'https://cms-bucket.ws.126.net/2021/0816/366007f8p00qxwsjp000zc0009c0070c.png?imageView&thumbnail=234y146&quality=45&interlace=1&enlarge=1&type=png',\n",
       "  'replies': '20跟贴'},\n",
       " {'title': '富士秋季品发布会将定于9月初：新机新镜来了',\n",
       "  'href': 'https://3g.163.com/digi/article/GHGU0TJ3001697V8.html?clickfrom=channel2018_digi_index_newslist#child=index&offset=129',\n",
       "  'pic_src': 'https://cms-bucket.ws.126.net/2021/0816/f41f4f77p00qxwsgj000zc0009c0070c.png?imageView&thumbnail=234y146&quality=45&interlace=1&enlarge=1&type=png',\n",
       "  'replies': '1跟贴'},\n",
       " {'title': '苹果败诉 将赔Optis公司3亿美元 侵犯无线技术专利',\n",
       "  'href': 'https://3g.163.com/digi/article/GHGTM7OI001697V8.html?clickfrom=channel2018_digi_index_newslist#child=index&offset=130',\n",
       "  'pic_src': 'https://cms-bucket.ws.126.net/2021/0816/fb8d0327p00qxws6t001fc0009c0070c.png?imageView&thumbnail=234y146&quality=45&interlace=1&enlarge=1&type=png',\n",
       "  'replies': '0跟贴'},\n",
       " {'title': 'LGD都不这么玩，小米OLED电视为啥这么便宜？',\n",
       "  'href': 'https://3g.163.com/digi/article/GHEAE7I4001697V8.html?clickfrom=channel2018_digi_index_newslist#child=index&offset=131',\n",
       "  'pic_src': 'https://cms-bucket.ws.126.net/2021/0815/7194c8dcj00qxuwwb0086c000s600e3c.jpg?imageView&thumbnail=234y146&quality=45&interlace=1&enlarge=1&type=png',\n",
       "  'replies': '609跟贴'},\n",
       " {'title': '夫妻俩火车上手机外放刷视频 结果多人被围殴',\n",
       "  'href': 'https://3g.163.com/digi/article/GHEF54HL001697V8.html?clickfrom=channel2018_digi_index_newslist#child=index&offset=132',\n",
       "  'pic_src': 'https://cms-bucket.ws.126.net/2021/0815/ee8db186p00qxv0n6001fc0009c0070c.png?imageView&thumbnail=234y146&quality=45&interlace=1&enlarge=1&type=png',\n",
       "  'replies': '8.7万跟贴'},\n",
       " {'title': '高通下代骁龙898前瞻：三星4nm工艺 今年年底登场',\n",
       "  'href': 'https://3g.163.com/digi/article/GHEEECVF001697V8.html?clickfrom=channel2018_digi_index_newslist#child=index&offset=133',\n",
       "  'pic_src': 'https://cms-bucket.ws.126.net/2021/0815/2043d58cp00qxv02k000rc0009c0070c.png?imageView&thumbnail=234y146&quality=45&interlace=1&enlarge=1&type=png',\n",
       "  'replies': '198跟贴'},\n",
       " {'title': '华为鸿蒙这个独占功能，所有安卓手机都能用了',\n",
       "  'href': 'https://3g.163.com/digi/article/GHEHVFKR001697V8.html?clickfrom=channel2018_digi_index_newslist#child=index&offset=134',\n",
       "  'pic_src': 'https://cms-bucket.ws.126.net/2021/0815/e395d966p00qxv2xh0012c0009c0070c.png?imageView&thumbnail=234y146&quality=45&interlace=1&enlarge=1&type=png',\n",
       "  'replies': '1110跟贴'},\n",
       " {'title': '蔚来自动辅助驾驶事故致人死亡！此前蔚来副总演示车内吃饭',\n",
       "  'href': 'https://3g.163.com/digi/article/GHEF1A5B001697V8.html?clickfrom=channel2018_digi_index_newslist#child=index&offset=135',\n",
       "  'pic_src': 'https://cms-bucket.ws.126.net/2021/0815/689e387ap00qxv0jr001ac0009c0070c.png?imageView&thumbnail=234y146&quality=45&interlace=1&enlarge=1&type=png',\n",
       "  'replies': '1.1万跟贴'},\n",
       " {'title': '实机曝光！天美联手Xbox打造战略手游《重返帝国》',\n",
       "  'href': 'https://3g.163.com/digi/article/GHEHE5HF001697V8.html?clickfrom=channel2018_digi_index_newslist#child=index&offset=136',\n",
       "  'pic_src': 'https://cms-bucket.ws.126.net/2021/0815/86b2558dp00qxv2hq001dc0009c0070c.png?imageView&thumbnail=234y146&quality=45&interlace=1&enlarge=1&type=png',\n",
       "  'replies': '50跟贴'},\n",
       " {'title': 'realme Book正面亮屏照曝光：窄边框+3:2屏幕比例',\n",
       "  'href': 'https://3g.163.com/digi/article/GHEHAIRV001697V8.html?clickfrom=channel2018_digi_index_newslist#child=index&offset=137',\n",
       "  'pic_src': 'https://cms-bucket.ws.126.net/2021/0815/c2c5b5a5p00qxv2ea000wc0009c0070c.png?imageView&thumbnail=234y146&quality=45&interlace=1&enlarge=1&type=png',\n",
       "  'replies': '25跟贴'},\n",
       " {'title': '挑战HomePod mini ？499元小米Sound究竟有何能耐',\n",
       "  'href': 'https://3g.163.com/digi/article/GHEET4DV001697V8.html?clickfrom=channel2018_digi_index_newslist#child=index&offset=138',\n",
       "  'pic_src': 'https://cms-bucket.ws.126.net/2021/0815/0a9131b9p00qxv0g00019c0009c0070c.png?imageView&thumbnail=234y146&quality=45&interlace=1&enlarge=1&type=png',\n",
       "  'replies': '121跟贴'},\n",
       " {'title': '以CSAM之名扫描手机，苹果提醒员工为iPhone后门做好准备',\n",
       "  'href': 'https://3g.163.com/digi/article/GHEEC15L001697V8.html?clickfrom=channel2018_digi_index_newslist#child=index&offset=139',\n",
       "  'pic_src': 'https://cms-bucket.ws.126.net/2021/0815/71280d5dp00qxv00c000fc0009c0070c.png?imageView&thumbnail=234y146&quality=45&interlace=1&enlarge=1&type=png',\n",
       "  'replies': '29跟贴'},\n",
       " {'title': '侵犯4G LTE专利？苹果将被勒令赔偿3亿美元',\n",
       "  'href': 'https://3g.163.com/digi/article/GHEHP60B001697V8.html?clickfrom=channel2018_digi_index_newslist#child=index&offset=140',\n",
       "  'pic_src': 'https://cms-bucket.ws.126.net/2021/0815/244c0c50p00qxv2qy000rc0009c0070c.png?imageView&thumbnail=234y146&quality=45&interlace=1&enlarge=1&type=png',\n",
       "  'replies': '0跟贴'},\n",
       " {'title': '128GB显存史无前例 AMD确认CDNA2架构加速卡年底亮相',\n",
       "  'href': 'https://3g.163.com/digi/article/GHEHL4OJ001697V8.html?clickfrom=channel2018_digi_index_newslist#child=index&offset=141',\n",
       "  'pic_src': 'https://cms-bucket.ws.126.net/2021/0815/43530d4bp00qxv2np0014c0009c0070c.png?imageView&thumbnail=234y146&quality=45&interlace=1&enlarge=1&type=png',\n",
       "  'replies': '38跟贴'},\n",
       " {'title': '消失4年后，苹果曾经最失败产品要卷土重来了',\n",
       "  'href': 'https://3g.163.com/digi/article/GHBTA0L3001697V8.html?clickfrom=channel2018_digi_index_newslist#child=index&offset=142',\n",
       "  'pic_src': 'https://cms-bucket.ws.126.net/2021/0814/2323c228p00qxt6fb000gc0009c0070c.png?imageView&thumbnail=234y146&quality=45&interlace=1&enlarge=1&type=png',\n",
       "  'replies': '184跟贴'},\n",
       " {'title': '超值行货官翻12.9英寸iPad Pro了解下 最低5999元',\n",
       "  'href': 'https://3g.163.com/digi/article/GHBSUBS2001697V8.html?clickfrom=channel2018_digi_index_newslist#child=index&offset=143',\n",
       "  'pic_src': 'https://cms-bucket.ws.126.net/2021/0814/681324faj00qxt6cw005sc000s600e3c.jpg?imageView&thumbnail=234y146&quality=45&interlace=1&enlarge=1&type=png',\n",
       "  'replies': '300跟贴'},\n",
       " {'title': '男子乘坐滴滴被收4元空调费 司机直接甩锅滴滴官方',\n",
       "  'href': 'https://3g.163.com/digi/article/GHC076FF001697V8.html?clickfrom=channel2018_digi_index_newslist#child=index&offset=145',\n",
       "  'pic_src': 'https://cms-bucket.ws.126.net/2021/0814/ec798b0ap00qxt8s40014c0009c0070c.png?imageView&thumbnail=234y146&quality=45&interlace=1&enlarge=1&type=png',\n",
       "  'replies': '1103跟贴'},\n",
       " {'title': '为何做仿生四足机器人？小米常程发文答疑解惑',\n",
       "  'href': 'https://3g.163.com/digi/article/GHBVSKFB001697V8.html?clickfrom=channel2018_digi_index_newslist#child=index&offset=146',\n",
       "  'pic_src': 'https://cms-bucket.ws.126.net/2021/0814/59e2c00cp00qxt8ih000vc0009c0070c.png?imageView&thumbnail=234y146&quality=45&interlace=1&enlarge=1&type=png',\n",
       "  'replies': '540跟贴'},\n",
       " {'title': '提前体验新系统！网页版Win11上线：不用下载安装',\n",
       "  'href': 'https://3g.163.com/digi/article/GHBVV4U1001697V8.html?clickfrom=channel2018_digi_index_newslist#child=index&offset=149',\n",
       "  'pic_src': 'https://cms-bucket.ws.126.net/2021/0814/604db1dcp00qxt8kr0014c0009c0070c.png?imageView&thumbnail=234y146&quality=45&interlace=1&enlarge=1&type=png',\n",
       "  'replies': '93跟贴'},\n",
       " {'title': '性能彪悍！苹果重磅新品开产：搭M1升级版',\n",
       "  'href': 'https://3g.163.com/digi/article/GHBVJVMG001697V8.html?clickfrom=channel2018_digi_index_newslist#child=index&offset=150',\n",
       "  'pic_src': 'https://cms-bucket.ws.126.net/2021/0814/3535d598p00qxt8am000lc0009c0070c.png?imageView&thumbnail=234y146&quality=45&interlace=1&enlarge=1&type=png',\n",
       "  'replies': '641跟贴'},\n",
       " {'title': 'Windows 365云电脑存漏洞被攻破，被黑客成功窃取',\n",
       "  'href': 'https://3g.163.com/digi/article/GHBTE4T3001697V8.html?clickfrom=channel2018_digi_index_newslist#child=index&offset=151',\n",
       "  'pic_src': 'https://cms-bucket.ws.126.net/2021/0814/6c0dc034p00qxt6j2000pc0009c0070c.png?imageView&thumbnail=234y146&quality=45&interlace=1&enlarge=1&type=png',\n",
       "  'replies': '0跟贴'},\n",
       " {'title': '谷歌将为Android系统带来全新的时间选择器UI',\n",
       "  'href': 'https://3g.163.com/digi/article/GHBVNK9Q001697V8.html?clickfrom=channel2018_digi_index_newslist#child=index&offset=152',\n",
       "  'pic_src': 'https://cms-bucket.ws.126.net/2021/0814/99774af4p00qxt8df000xc0009c0070c.png?imageView&thumbnail=234y146&quality=45&interlace=1&enlarge=1&type=png',\n",
       "  'replies': '32跟贴'},\n",
       " {'title': '苹果芯片M1革了Intel x86的命？其实这是个伪命题',\n",
       "  'href': 'https://3g.163.com/digi/article/GHC02BSF001697V8.html?clickfrom=channel2018_digi_index_newslist#child=index&offset=153',\n",
       "  'pic_src': 'https://cms-bucket.ws.126.net/2021/0814/db3d1e0cp00qxt8nb000wc0009c0070c.png?imageView&thumbnail=234y146&quality=45&interlace=1&enlarge=1&type=png',\n",
       "  'replies': '81跟贴'},\n",
       " {'title': '科技满满的微型摄像头有多可怕？看完细思极恐',\n",
       "  'href': 'https://3g.163.com/digi/article/GH88AN4K001697V8.html?clickfrom=channel2018_digi_index_newslist#child=index&offset=154',\n",
       "  'pic_src': 'https://cms-bucket.ws.126.net/2021/0813/110e295dj00qxqjzh0031c000s600e3c.jpg?imageView&thumbnail=234y146&quality=45&interlace=1&enlarge=1&type=png',\n",
       "  'replies': '163跟贴'},\n",
       " {'title': '微软Instagram账号发梗图嘲笑自家Xbox Series X的命名法',\n",
       "  'href': 'https://3g.163.com/digi/article/GH9A3G4A001697V8.html?clickfrom=channel2018_digi_index_newslist#child=index&offset=155',\n",
       "  'pic_src': 'https://cms-bucket.ws.126.net/2021/0813/005e8a89p00qxrb3w002mc000s600e3c.png?imageView&thumbnail=234y146&quality=45&interlace=1&enlarge=1&type=png',\n",
       "  'replies': '70跟贴'}]"
      ]
     },
     "execution_count": 23,
     "metadata": {},
     "output_type": "execute_result"
    }
   ],
   "source": [
    "from urllib.parse import urljoin, urlparse\n",
    "\n",
    "# 整理文章信息\n",
    "# 仅仅是xpath提取后整理信息，生成 list-dict的数据形式\n",
    "new_articles = []\n",
    "for a in articles:\n",
    "    title = a.xpath(\".//h3/text()\")[0]\n",
    "    replies = a.xpath(\".//span[contains(@class, 'reply')]/text()\")[0]  # 跟帖数改在这里取哈\n",
    "    href = urljoin(URL, a.xpath(\".//a/@href\")[0])  # 拼合url\n",
    "    pic_src = urljoin(URL, a.xpath(\".//img/@src\")[0])  # 拼合url\n",
    "    \n",
    "    new_articles.append({\n",
    "        \"title\": title,\n",
    "        \"href\": href,\n",
    "        \"pic_src\": pic_src,\n",
    "        \"replies\": replies,\n",
    "    })\n",
    "\n",
    "new_articles"
   ]
  },
  {
   "cell_type": "code",
   "execution_count": 24,
   "id": "478dd662",
   "metadata": {
    "scrolled": true
   },
   "outputs": [
    {
     "data": {
      "text/plain": [
       "['.ipynb_checkpoints',\n",
       " '128GB显存史无前例 AMD确认CDNA2架构加速卡年底亮相',\n",
       " '20210813__爬虫入门1--参考.ipynb',\n",
       " '20210816__爬虫入门1--作业演示1.ipynb',\n",
       " '20210816__爬虫入门1--作业演示模板.ipynb',\n",
       " 'AMD CDNA2架构年底问世：128GB显存史无前例',\n",
       " 'AMD下代显卡曝光：Navi 31、Navi 33已获确认',\n",
       " 'iOS开始审查用户照片：为“后门”问题统一员工口径',\n",
       " 'LGD都不这么玩，小米OLED电视为啥这么便宜？',\n",
       " 'realme Book正面亮屏照曝光：窄边框+3：2屏幕比例',\n",
       " 'TWS耳机销量5年暴增25倍：电池工厂忙扩产',\n",
       " 'Windows 365云电脑存漏洞被攻破，被黑客成功窃取',\n",
       " '下一代Fitbit Charge 5手环泄露：现在有了彩色屏幕',\n",
       " '为何做仿生四足机器人？小米常程发文答疑解惑',\n",
       " '二手真香警告？ 苹果官方翻新产品悄然上新',\n",
       " '以CSAM之名扫描手机，苹果提醒员工为iPhone后门做好准备',\n",
       " '侵犯4G LTE专利？苹果将被勒令赔偿3亿美元',\n",
       " '华为鸿蒙这个独占功能，所有安卓手机都能用了',\n",
       " '国产屏下摄像头方案领先三星！王腾：部分指标反超',\n",
       " '复刻镜头玩上瘾 福伦达将推50mmF1.5镜头',\n",
       " '夫妻俩火车上手机外放刷视频 结果多人被围殴',\n",
       " '实机曝光！天美联手Xbox打造战略手游《重返帝国》',\n",
       " '富士秋季品发布会将定于9月初：新机新镜来了',\n",
       " '微软Instagram账号发梗图嘲笑自家Xbox Series X的命名法',\n",
       " '微软承诺对Win11会对更多的内置应用程序进行改造',\n",
       " '微软新款Surface笔记本曝光：采用全新设计语言',\n",
       " '性能彪悍！苹果重磅新品开产：搭M1升级版',\n",
       " '挑战HomePod mini ？499元小米Sound究竟有何能耐',\n",
       " '提前体验新系统！网页版Win11上线：不用下载安装',\n",
       " '消失4年后，苹果曾经最失败产品要卷土重来了',\n",
       " '男子乘坐滴滴被收4元空调费 司机直接甩锅滴滴官方',\n",
       " '科技满满的微型摄像头有多可怕？看完细思极恐',\n",
       " '罗永浩吐槽新版Apple Music难用：省去海量脏话',\n",
       " '苹果芯片M1革了Intel x86的命？其实这是个伪命题',\n",
       " '苹果败诉 将赔Optis公司3亿美元 侵犯无线技术专利',\n",
       " '蔚来自动辅助驾驶事故致人死亡！此前蔚来副总演示车内吃饭',\n",
       " '谷歌将为Android系统带来全新的时间选择器UI',\n",
       " '超值行货官翻12.9英寸iPad Pro了解下 最低5999元',\n",
       " '高通下代骁龙898前瞻：三星4nm工艺 今年年底登场']"
      ]
     },
     "execution_count": 24,
     "metadata": {},
     "output_type": "execute_result"
    }
   ],
   "source": [
    "import os\n",
    "from time import sleep\n",
    "\n",
    "# 做每篇文章具体的事情\n",
    "for a in new_articles:\n",
    "    # 准备输出目录\n",
    "    # 以新闻标题起名文件夹\n",
    "    output_dir = a[\"title\"]\n",
    "    # 注意“窄边框+3:2屏幕比例”中的冒号不能作为文件名、文件夹名的问题！\n",
    "    output_dir = output_dir.replace(\":\", \"：\")  # 简单将英文冒号替换成中文冒号\n",
    "    a[\"output_dir\"] = output_dir  # 把它保存起来，待会写入具体文件时拼接路径会用到\n",
    "    os.makedirs(output_dir, exist_ok=True)\n",
    "    \n",
    "    # 获取正文了接下来\n",
    "    href = a[\"href\"]\n",
    "    r = requests.get(href)\n",
    "    r.encoding = \"utf-8\"\n",
    "    tree = html.fromstring(r.text)\n",
    "    content = tree.xpath(\"string(//div[@class='article-content']/div[@class='content'])\")  # 这里简单粗暴把所有段落直接全部转换成文字\n",
    "    pub_time = tree.xpath(\"//span[contains(@class, 'js-time')]/text()\")\n",
    "    pub_time = pub_time[0] if len(pub_time) > 0 else \"\"\n",
    "    source = tree.xpath(\"//a[contains(@class, 'source-sub')]/text()\")\n",
    "    source = source[0] if len(source) > 0 else \"\"\n",
    "    \n",
    "    a.update({\n",
    "        \"content\": content,\n",
    "        \"pub_time\": pub_time,\n",
    "        \"source\": source,\n",
    "    })\n",
    "\n",
    "    sleep(0.01)  # 请求不要太频繁\n",
    "\n",
    "os.listdir(\".\")"
   ]
  },
  {
   "cell_type": "code",
   "execution_count": 25,
   "id": "1a3563e3",
   "metadata": {},
   "outputs": [
    {
     "data": {
      "text/plain": [
       "{'title': '罗永浩吐槽新版Apple Music难用：省去海量脏话',\n",
       " 'href': 'https://3g.163.com/digi/article/GHGUH47S001697V8.html?clickfrom=channel2018_digi_index_newslist#child=index&offset=118',\n",
       " 'pic_src': 'https://cms-bucket.ws.126.net/2021/0816/f5ddcf83p00qxwsva0016c0009c0070c.png?imageView&thumbnail=234y146&quality=45&interlace=1&enlarge=1&type=png',\n",
       " 'replies': '1093跟贴',\n",
       " 'output_dir': '罗永浩吐槽新版Apple Music难用：省去海量脏话',\n",
       " 'content': '近日，@罗永浩 发布微博吐槽苹果新版Apple Music，称新版Apple Music虽然音质不错，但是功能难用到令自己这个优秀的产品经理看不下去，而且老罗还是用了“此处省去海量脏话”来形容新版Apple Music的难用。\\n                  \\n                      \\n                      \\n                  \\n              该微博原文内容如下：“因为spotify迟迟没有上无损，而apple music已经上了，所以忍不住在 Mac 上试了一下。音质还好，但这xx软件的新版难用到我就...此处省去海量脏话。作为这个星球上最优秀的软件产品经理（嗯，之一，如果算上过世的），对我来说，输赢成败发财破产之类的早就不是事了，但看着xx软件胜出，确实有点失眠。”\\n                  \\n                      \\n                      \\n                  \\n              苹果于不久前推出新版Apple Music，针对其订阅用户，评估在新版Apple Music中带来了无损（Lossless）音乐和杜比全景声（Dolby Atmos）服务，并且维持原订阅价格不变。 (责任编辑：陈功_NT3893)',\n",
       " 'pub_time': '2021-08-16 09:45:14',\n",
       " 'source': '游民星空'}"
      ]
     },
     "execution_count": 25,
     "metadata": {},
     "output_type": "execute_result"
    }
   ],
   "source": [
    "new_articles[0]"
   ]
  },
  {
   "cell_type": "code",
   "execution_count": 26,
   "id": "097b1b31",
   "metadata": {},
   "outputs": [],
   "source": [
    "# 做每篇文章具体的事情 #2\n",
    "for a in new_articles:\n",
    "    # 下载图片\n",
    "    pic_src = a[\"pic_src\"]\n",
    "    output_dir = a[\"output_dir\"]\n",
    "    r = requests.get(pic_src)  # 还是通过GET方法，获取图片数据\n",
    "    filename = os.path.basename(urlparse(pic_src).path)  # 解析出链接中的文件名\n",
    "    \n",
    "    # 拼接路径，写到指定输出目录下\n",
    "    with open(os.path.join(output_dir, filename), \"wb\") as fp:\n",
    "        fp.write(r.content)  # 与r.text的解码文本不同，r.content是原始的未解码数据\n",
    "    \n",
    "    sleep(0.01)  # 请求不要太频繁"
   ]
  },
  {
   "cell_type": "code",
   "execution_count": 27,
   "id": "cf1d7b84",
   "metadata": {},
   "outputs": [],
   "source": [
    "# 做每篇文章具体的事情 #3\n",
    "for a in new_articles:\n",
    "    # 写入正文\n",
    "    content = a[\"content\"]\n",
    "    output_dir = a[\"output_dir\"]\n",
    "    \n",
    "    # 拼接路径，写到指定输出目录下\n",
    "    filename = output_dir + \".txt\"\n",
    "    with open(os.path.join(output_dir, filename), \"w\", encoding=\"utf-8\") as fp:\n",
    "        fp.write(content)"
   ]
  },
  {
   "cell_type": "code",
   "execution_count": 28,
   "id": "53f77438",
   "metadata": {},
   "outputs": [],
   "source": [
    "# 做一张汇总表\n",
    "\n",
    "from csv import DictWriter\n",
    "\n",
    "fieldnames = ['标题', '链接', '发布日期', '媒体名称', '跟帖数量']\n",
    "\n",
    "with open(\"news.csv\", \"w\", encoding=\"utf-8\", newline='') as fp:  # 记得要加newline=''；官方文档中有说明\n",
    "    w = DictWriter(fp, fieldnames=fieldnames)\n",
    "    w.writeheader()  # 写入表头\n",
    "    for a in new_articles:\n",
    "        row = {\n",
    "            '标题': a['title'],\n",
    "            '链接': a['href'],\n",
    "            '发布日期': a['pub_time'],\n",
    "            '媒体名称': a['source'],\n",
    "            '跟帖数量': a['replies'],\n",
    "        }\n",
    "        w.writerow(row)\n",
    "\n",
    "# 执行完成后，用EmEditor、UltraEdit等软件去查看news.csv"
   ]
  },
  {
   "cell_type": "markdown",
   "id": "e1b4d65f",
   "metadata": {},
   "source": [
    "# 全部完成啦！谢谢观看！"
   ]
  }
 ],
 "metadata": {
  "kernelspec": {
   "display_name": "Python 3",
   "language": "python",
   "name": "python3"
  },
  "language_info": {
   "codemirror_mode": {
    "name": "ipython",
    "version": 3
   },
   "file_extension": ".py",
   "mimetype": "text/x-python",
   "name": "python",
   "nbconvert_exporter": "python",
   "pygments_lexer": "ipython3",
   "version": "3.7.6"
  }
 },
 "nbformat": 4,
 "nbformat_minor": 5
}
