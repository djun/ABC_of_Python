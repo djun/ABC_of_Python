{
 "cells": [
  {
   "cell_type": "markdown",
   "id": "ca87443a",
   "metadata": {},
   "source": [
    "*By DJun (github.com/djun); 2021-8-12*\n",
    "\n",
    "### 背景\n",
    "\n",
    "#### 为什么学爬虫\n",
    "- 简单容易上手\n",
    "- 练习写Python代码的极佳方式\n",
    "- 学习了解抓取用来分析的数据的方法\n",
    "- 抓取网络上我们感兴趣的信息，加以利用\n",
    "\n",
    "#### “爬虫”是什么\n",
    "- 本质是从网络上爬取公开数据\n",
    "- 程序根据我们预先设定好的规则，沿着线索爬取所需数据\n",
    "- 例子：抓取 新闻列表 -> 每篇新闻正文"
   ]
  },
  {
   "cell_type": "markdown",
   "id": "05ab3fcd",
   "metadata": {},
   "source": [
    "### 准备工作\n",
    "\n",
    "#### 工具\n",
    "- Anaconda 3（推荐，大部分所需模块，Anaconda已帮我们准备好）\n",
    "- Jupyter Notebook（推荐在学习研究时使用，适合“看一下走一步”）\n",
    "- PyCharm（推荐在开发项目时使用）\n",
    "\n",
    "#### 整体流程\n",
    "- 从网络上获取原始数据（网页，RestfulAPI，WebSocket，等）\n",
    "- 经过特定的解析（解析HTML/CSS/JavaScript，JSON，XML，长文本，其他特殊格式）\n",
    "- 最终整理为我们所需的数据（真正需要的能为我所用的内容）\n",
    "\n",
    "#### 常用分析工具\n",
    "- 【重点讲】浏览器的开发者工具（在浏览器中按F12调出）\n",
    "- Fiddler（个人使用免费）\n",
    "- Charles（付费）\n",
    "\n",
    "*注1：F12工具一般在浏览器中自带，常用“元素”（查看页面HTML代码、CSS样式、事件），“控制台”（通过JavaScript进行测试），“源”（查看运行在页面上的JavaScript等源代码），“网络”（类似Fiddler、Charles中的页面加载监控功能）。*\n",
    "\n",
    "*注2：Fiddler、Charles的原理，都是在本机开一个代理服务器，浏览器或者其他软件通过这个本机代理访问网络，它们就可以把过程中的HTTP数据抓取下来；推荐在了解清楚大致原理后再使用，推荐使用Fiddler。*\n",
    "\n",
    "#### 相关Python模块（最小化）\n",
    "- 访问网络：【重点讲】requests（简单http操作）；其他有 selenium（通过浏览器模拟网页操作）\n",
    "- 解析数据：【重点讲】lxml（解析HTML、XML）；其他有 BeautifulSoup（解析HTML），自带模块json（解析JSON），自带模块re（正则表达式，提取文本），js2py（解析JavaScript）\n",
    "- 持久储存数据：自带的文件操作open（直接写入文本文件），自带的csv（写入csv文本文件），【下次重点讲】自带的sqlite3（写入轻量级文件型数据库）"
   ]
  },
  {
   "cell_type": "markdown",
   "id": "fec54e94",
   "metadata": {},
   "source": [
    "### 参考资料\n",
    "\n",
    "#### 教程与文档\n",
    "- XPath教程（使用lxml通过编写XPath规则来提取所需数据） https://www.runoob.com/xpath/xpath-syntax.html\n",
    "- requests文档（推荐使用的HTTP客户端模块，热门，资料多；当然也可以用自带的urllib，但并不好用） https://docs.python-requests.org/zh_CN/latest/\n",
    "\n",
    "#### 陈同学的博客，可参考思路和写法\n",
    "- 爬取新闻页面中的网页链接 https://blog.csdn.net/c348762444/article/details/118694793\n",
    "- 爬取网页数据并导入excel表格 https://blog.csdn.net/c348762444/article/details/118701879\n",
    "- 尝试先爬取新闻链接，然后爬取链接后的正文（XPath） https://blog.csdn.net/c348762444/article/details/119170469\n",
    "\n",
    "#### 其他博客\n",
    "- 使用Python爬取多篇各类新闻文章（beautifulsoup） https://blog.csdn.net/qq_43179991/article/details/103243743"
   ]
  },
  {
   "cell_type": "markdown",
   "id": "dcbd4bbf",
   "metadata": {},
   "source": [
    "### 实操演示"
   ]
  },
  {
   "cell_type": "markdown",
   "id": "55a45ff2",
   "metadata": {},
   "source": [
    "#### 例子1：爬取网易新闻标题，下载新闻封面图片"
   ]
  },
  {
   "cell_type": "code",
   "execution_count": 1,
   "id": "adf6599f",
   "metadata": {},
   "outputs": [
    {
     "data": {
      "text/plain": [
       "'<!DOCTYPE html>\\n<html lang=\"en\">\\n  <head>\\n    <meta charset=\"UTF-8\" />\\n    <link rel=\"dns-prefetch\" href=\"//cms-bucket.nosdn.127.net\" />\\n    <link rel=\"dns-prefetch\" href=\"//pic-bucket.nosdn.127.net\" />\\n    <link rel=\"dns-prefetch\" href=\"//static.ws.126.net\" />\\n    <meta name=\"viewport\" content=\"width=device-width, initial-scale=1.0\" />\\n    <meta http-equiv=\"X-UA-Compatible\" content=\"ie=edge\" />\\n    <title>网易新闻_手机网易网</title>\\n    <meta content=\"telephone=no\" name=\"format-detection\" />\\n    <meta name=\"keywords\" content=\"新闻,网易,163,网易新闻,新闻中心,新闻频道,时事,报道,时政,国际,国内,社会,聚焦,评论,文化,教育,深度,网评,专题,环球,传播,论坛,图片,军事,焦点,排行,环保,校园,法治\" />\\n    <meta name=\"description\" content=\"提供时政新闻,国内新闻,国际新闻,社会新闻,时事评论,新闻图片,新闻专题,新闻论坛,军事,历史等最热门一手的新闻资讯。手机网易网新闻频道-https://3g.163.com/touch/news\" />\\n    <meta name=\"google-site-verification\" content=\"vDJDt0eLizo98mTqFjhG4ONEm8DlFI7bdonVyRDi-EY\" />\\n    <script type=\\'text/javascript\\'>window._ANT_PROJECT_ID=\"NTM-5AE0KFYY-2\";(function(){var domainMatches=[{test:/163\\\\.com$/i,domain:\"163\"},{test:/baidu\\\\.com$/i,domain:\"baidu\"},{test:/sm\\\\.cn$/i,domain:\"sm\"},{test:/sogou\\\\.com$/i,domain:\"sogou\"},{test:/so\\\\.com$/i,domain:\"360\"},{test:/google/i,domain:\"google\"},{test:/bing/i,domain:\"bing\"},{test:/weibo/i,domain:\"weibo\"},{test:/toutiao/i,domain:\"toutiao\"}];var referrer=document.referrer;var referDomain=\"\";var currentPageReferFrom=\"\";if(referrer){var urlRegexp=/^([hH][tT]{2}[pP]:\\\\/\\\\/|[hH][tT]{2}[pP][sS]:\\\\/\\\\/)([^\\\\/]+).*?/;var urlMatch=referrer.match(urlRegexp);referDomain=urlMatch&&urlMatch[2]?urlMatch[2]:referDomain}if(referDomain){currentPageReferFrom=referDomain;domainMatches.some(function(item){if(item.test.test(referDomain)){currentPageReferFrom=item.domain;return true}return false})}window._REFER_VAL=currentPageReferFrom;var targetProtocol=\"https:\";if(window.location.protocol!=targetProtocol){var host=window.location.host;var pathname=window.location.pathname;var search=window.location.search;var hash=window.location.hash;if(host!==\"3g.163.com\"){return}if(search){var searchParams=search.substr(1).split(\"&\");if(searchParams.length>0){var newParams=[];var filterParams=[\"referFrom\",\"isFromOtherWeb\"];for(var i=0,len=searchParams.length;i<len;i++){var param=searchParams[i];if(filterParams.indexOf(param.split(\"=\")[0])===-1){newParams.push(param)}}search=\"?\"+newParams.join(\"&\")}search=search+(search.length===1?\"\":\"&\")+\"referFrom=\"+currentPageReferFrom}else{search=\"?referFrom=\"+currentPageReferFrom}if(referrer&&currentPageReferFrom!==\"163\"){search=search+\"&isFromOtherWeb=true\"}var targetHref=targetProtocol+\"//\"+host+pathname+search+hash;window.location.replace(targetHref)}else{var localParam=function(search,hash){var s=search||window.location.search;var h=hash||window.location.hash;var fn=function(str,reg){var data={};if(str){str.replace(reg,function($0,$1,$2,$3){data[$1]=$3});return data}return null};return{search:fn(s,new RegExp(\"([^?=&]+)(=([^&]*))?\",\"g\"))||{},hash:fn(h,new RegExp(\"([^#=&]+)(=([^&]*))?\",\"g\"))||{}}};var urlSearchReferFrom=localParam().search.referFrom;if(/referFrom/.test(window.location.search)&&currentPageReferFrom==\"163\"){window._REFER_VAL=urlSearchReferFrom||\"\"}}})();</script>\\n  <link rel=\"preload\" href=\"//static.ws.126.net/163/wap/f2e/isomorphism_news/manifest.dd0bd0936f1109d14a56.js\" as=\"script\"><link rel=\"preload\" href=\"//static.ws.126.net/163/wap/f2e/isomorphism_news/vendor.d96119b8f67129f5bd0a.js\" as=\"script\"><link rel=\"preload\" href=\"//static.ws.126.net/163/wap/f2e/isomorphism_news/app.d914efaf7d53adbae954.js\" as=\"script\"><link rel=\"preload\" href=\"//static.ws.126.net/163/wap/f2e/isomorphism_news/common.221dfd06c9e166803dc8a0bf02ffc6a4.css\" as=\"style\"><link rel=\"preload\" href=\"//static.ws.126.net/163/wap/f2e/isomorphism_news/0.e6811c237828f01eeeb2.js\" as=\"script\"><link rel=\"prefetch\" href=\"//static.ws.126.net/163/wap/f2e/isomorphism_news/6.c9eeb640cf1345eb7f4f.js\"><link rel=\"prefetch\" href=\"//static.ws.126.net/163/wap/f2e/isomorphism_news/1.ab1b137be8e3b918a3dc.js\"><link rel=\"prefetch\" href=\"//static.ws.126.net/163/wap/f2e/isomorphism_news/2.91415ed56da32dcd8cc7.js\"><link rel=\"prefetch\" href=\"//static.ws.126.net/163/wap/f2e/isomorphism_news/3.5843c49ef397cbf26905.js\"><link rel=\"prefetch\" href=\"//static.ws.126.net/163/wap/f2e/isomorphism_news/4.f3f2e9128b09195fe61a.js\"><link rel=\"prefetch\" href=\"//static.ws.126.net/163/wap/f2e/isomorphism_news/5.4665225e38d2c54c82ee.js\"><link rel=\"prefetch\" href=\"//static.ws.126.net/163/wap/f2e/isomorphism_news/7.f094886c265f2cecb8a7.js\"><link rel=\"prefetch\" href=\"//static.ws.126.net/163/wap/f2e/isomorphism_news/8.21927d3a8600cdecbcf1.js\"><link rel=\"stylesheet\" href=\"//static.ws.126.net/163/wap/f2e/isomorphism_news/common.221dfd06c9e166803dc8a0bf02ffc6a4.css\"><style data-vue-ssr-id=\"c0f41676:0 4ce3519d:0 341da888:0 5615e474:0\">.news .recommend-list .news-card{border-top:1px solid #f5f7f9;border-bottom:none}.news .recommend-list .card-type-top{border:none}\\n.wap-section.section-focus[data-v-ca8ea5f0]{width:100%;padding:0;margin-bottom:0;height:3.7rem;background:#ccc;color:#fff;position:relative}.wap-section.section-focus .slider-item[data-v-ca8ea5f0]{position:relative;height:3.7rem;overflow:hidden}.wap-section.section-focus .slider-item img[data-v-ca8ea5f0]{width:100%}.wap-section.section-focus .slider-item .focus-title[data-v-ca8ea5f0]{position:absolute;left:0;bottom:0;color:#fff;width:86%;height:.8rem;font-size:.34rem;line-height:.8rem;padding:0 10% 0 4%;text-overflow:ellipsis;overflow:hidden;white-space:nowrap;background:-webkit-gradient(linear,left top,left bottom,color-stop(8%,transparent),color-stop(40%,rgba(0,0,0,.24)),color-stop(47%,rgba(0,0,0,.29)),color-stop(95%,rgba(0,0,0,.65)));background:linear-gradient(180deg,transparent 8%,rgba(0,0,0,.24) 40%,rgba(0,0,0,.29) 47%,rgba(0,0,0,.65) 95%)}.wap-section.section-focus .pagination[data-v-ca8ea5f0]{position:absolute;right:0;bottom:0;padding:.2rem;z-index:1}.wap-section.section-focus .pagination .total-count[data-v-ca8ea5f0]{color:hsla(0,0%,100%,.8)}\\n.recommend-list[data-v-1e1e1374]{margin-bottom:.12rem;background:#fff;padding:.22rem}\\n.card-type-news a[data-v-ec5a05cc]{display:-webkit-box;display:-webkit-flex;display:-ms-flexbox;display:flex;-webkit-box-align:start;-webkit-align-items:flex-start;-ms-flex-align:start;align-items:flex-start;-webkit-box-pack:justify;-webkit-justify-content:space-between;-ms-flex-pack:justify;justify-content:space-between}.card-type-news .news-info[data-v-ec5a05cc]{-webkit-box-flex:2;-webkit-flex:2 2 auto;-ms-flex:2 2 auto;flex:2 2 auto}.card-type-news .title[data-v-ec5a05cc]{padding-right:.12rem}.card-type-news .news-source[data-v-ec5a05cc]{text-overflow:ellipsis;max-width:8em}.card-type-news .news-pic[data-v-ec5a05cc]{width:2.34rem;-webkit-box-flex:0;-webkit-flex:0 0 auto;-ms-flex:0 0 auto;flex:0 0 auto;overflow:hidden}.card-type-news .news-pic img[data-v-ec5a05cc]{display:block;height:1.46rem;margin:0 auto}.card-type-news .detail .unlike[data-v-ec5a05cc],.card-type-news .unlike[data-v-ec5a05cc]{margin-right:.12rem}</style></head>\\n  <body>\\n  <script src=\\'https://static.ws.126.net/163/frontend/libs/raven-3.26.2.min.js\\' crossorigin=\\'anonymous\\'></script>\\n    <script type=\"text/javascript\">\\n        window.dynamicYear = \"2021\"\\n    </script>\\n<script>\\n    try {\\n        Raven.config(\\'https://a36426be24784bd9a4d62f3d9cb89614@sentry.music.163.com/1026\\', {\\n            sampleRate: 0.5,\\n            blacklisturls: [\\n                \\'sntzq.com\\',\\n                \\'duoroumao.cn\\',\\n                \\'gstatic.com\\',\\n                \\'analytics.163.com\\'\\n            ],\\n            ignoreErrors: [\\n                \"Cannot read property \\'appendChild\\' of undefined\",\\n                \"Cannot read property \\'style\\' of undefined\",\\n                \"null is not an object (evaluating \\'r.className\\')\",\\n                \"Cannot read property \\'style\\' of null\",\\n                \\'MyAppGetHTMLElementsAtPoint\\',\\n                \\'MyAppGetLinkTitleNameAtPoint\\',\\n                \\'MyAppGetLinkHREFAtPoint\\',\\n                \\'MyAppGetLinkSRCAtPoint\\',\\n                \\'CPJsApi\\',\\n                \\'WeixinJSBridge\\',\\n                \\'initiated by a user gesture\\',\\n                \\'interrupted by a call to pause\\',\\n                \\'game\\',\\n                \\'TouTiao\\',\\n                \\'JikeHybrid\\',\\n                \\'not allowed by the user agent or the platform in the current context\\',\\n                \\'WeiboJSBridge\\',\\n                \\'ServerLocation\\',\\n                \\'mapp\\',\\n                \\'SkinSwitch\\',\\n                \\'ResizeObserver loop limit exceeded\\',\\n                \\'getPercent\\',\\n                \\'Return statements are only valid inside functions\\',\\n                \\'play() failed because the user\\',\\n                \\'The operation is not supported\\',\\n                \\'cefQuery\\',\\n                \\'The operation was aborted\\',\\n                \\'PREUCBROWSER_THEME_CHANGE_TO_EYE_PROTECT\\',\\n                \\'reduce of empty array with no initial value\\',\\n                \\'window._setbackXML_ is not a function\\',\\n                \\'Failed to fetch\\',\\n                \\'Network request failed\\',\\n                \\'Illegal operation on WrappedNative prototype object\\',\\n                \\'SyntaxError: The string did not match the expected pattern.\\',\\n                \\'Unexpected identifier \"object\"\\',\\n                \\'handleMessageFromNative is not defined\\',\\n                \\'vivoNewsDetailPage.getNewsReadStatus4Vivo is not a function\\',\\n                \\'SecurityError: Blocked a frame with origin \"https://3g.163.com\" from accessing a cross-origin frame\\',\\n                \\'window.__$_qihoo360_$__.dayMode is not a function. (In \"window.__$_qihoo360_$__.dayMode()\", \"window.__$_qihoo360_$__.dayMode\" is undefined)\\',\\n                \\'[object Event]\\',\\n                \\'beforeClick is not defined\\',\\n                \\'processRandomSelector is not defined\\',\\n                \\'JSON Parse error: Unexpected identifier \"PREUCBROWSER_THEME_CHANGE_TO_NIGHT_MODE\"\\',\\n                \\'Non-Error exception captured with keys: success\\',\\n                \\'undefined is not an object (evaluating \"window.ucbrowser.smWeather.changecity\")\\',\\n                \"Can\\'t find variable: UCBrowserMessageCenter\",\\n                \\'WebViewJavascriptBridge is not defined\\',\\n                \\'onClickFail is not defined\\',\\n                \\'doPreloadClicked_BD is not defined\\',\\n                \\'insertStyle is not defined\\',\\n                \\'window.normalfooter_commentnum_cb is not a function\\',\\n                \\'window.HtmlStatisticJSInterface.showTitleBar is not a function\\',\\n                \\'sdk is not defined\\',\\n                \\'afterScroll is not defined\\',\\n                \\'videoEnterFullScreen is not defined\\',\\n                \\'the url is not defined \\',\\n                \\'_bdbox_js_169 is not defined\\',\\n                \\'getSearchKeyword is not defined\\',\\n                \\'slideForbiddenArea is not defined\\',\\n                \\'AccessDeny\\',\\n                \\'Unexpected token =>\\',\\n                \\'Missing helper: \"getone\"\\',\\n                \\'webViewDidLoad is not defined\\',\\n                \\'viewDidAppear is not defined\\',\\n                \\'requestImgLoading is not defined\\',\\n                \\'bobaoCallback is not defined\\',\\n                \\'Cannot read property \"showSource\" of undefined\\',\\n                \\'Cannot read property \"dispatch\" of undefined\\',\\n                \\'VConsole is not defined\\',\\n                \\'start_ is not defined\\',\\n                \\'zkgetWebConfig is not defined\\',\\n                \\'Cannot read property \"changeSkinModel\" of undefined\\',\\n                \\'Cannot read property \"logout\" of undefined\\',\\n                \\'_Box_ is not defined\\',\\n                \\'window.syncCallback is not a function\\',\\n                \\'qb_bridge.fireEvent is not a function\\',\\n                \\'onGreenteaEvent is not defined\\',\\n                \\'Cannot read property \"disconnect\" of null\\',\\n                \\'f.T(utils/misc)\\',\\n                \\'window.__$_qihoo360_$__.dayMode is not a function. (In \"window.__$_qihoo360_$__.dayMode()\", \"window.__$_qihoo360_$__.dayMode\" is undefined)\\',\\n                \\'onAudioStateChanged is not defined\\',\\n                \\'viewDidDisAppear is not defined\\',\\n                \\'requestNoTitle is not defined\\',\\n                \\'Loading chunk 1 failed.\\',\\n                \\'Unexpected end of input\\',\\n                \\'No identifiers allowed directly after numeric literal\\',\\n                \\'window.oppoShareSuccCall is not a function\\',\\n                \\'androidDirectInvoke is not defined\\',\\n                \\'Cannot read property \"getChatLog\" of null\\',\\n                \"Can\\'t find variable: UC_NEWS_PAUSE_ALL_VIDEOS\",\\n                \\'DomNode has not been set for this SimpleScriptable: com.gargoylesoftware.htmlunit.javascript.host.html.HTMLFormElement\\',\\n                \\'网络连接已中断。\\',\\n                \\'getArticalHeight is not defined\\',\\n                \\'ajaxRefreshByMobile\\',\\n                \\'diableNightMode\\',\\n                \\'com_baidu_channel_feed_assistmessage\\',\\n                \\'hwbrNotifyNotInMultiWinMode is not defined\\',\\n                \\'reCallback is not defined\\',\\n                \\'metaPauseMedia is not defined\\',\\n                \"\\'undefined\\' is not an object\",\\n                \\'document.getElementsByClassName.ToString is not a function\\',\\n                \\'auto_fill_form is not defined\\',\\n                \\'\"undefined\" is not a function\\',\\n                \\'JSON Parse error: Unexpected EOF\\',\\n                \\'Unexpected end of JSON input\\',\\n                \"Cannot read property \\'length\\' of undefined\",\\n                \"undefined is not an object (evaluating \\'document.getElementsByTagName(\\'video\\')[0].childNodes\\')\",\\n                \\'HJApp.service_hideLoading\\',\\n                \\'_invokeApp_0 is not defined\\',\\n                \\'image_viewer_simple_swipe_1576127092860 is not defined\\',\\n                \"\\'undefined\\' is not a function\",\\n                \\'module_switches is not defined\\',\\n                \\'document.querySelector(\".wakeup_client\").getBoundingClientRect\\',\\n                \\'ljHl is not defined\\',\\n                \\'image_na_close1576210908933 is not defined\\',\\n                \"Cannot read property \\'replace\\' of null\",\\n                \\'_mz_preloadFinished is not defined\\',\\n                \\'manualBlockByLocationAutomatically is not defined\\',\\n                \\'Cannot read property \"uv\" of undefined\\',\\n                \\'undefined is not a function\\',\\n                \\'gtb is not defined\\',\\n                \"Cannot read property \\'2\\' of null\",\\n                \\'n is undefined\\',\\n                \\'laJl is not defined\\',\\n                \"null is not an object (evaluating \\'n[0]\\')\",\\n                \\'laBl is not defined\\',\\n                \\'_g_common_js is not defined\\',\\n                \\'_this is not defined\\',\\n                \\'__tv_keydown\\',\\n                \"undefined is not an object (evaluating \\'cfg.log\\')\",\\n                \\'document.getElementById(\"head_\"+t.container).style\\',\\n                \\'unused_view is not defined\\',\\n                /appendChild/,\\n                /style/,\\n                /updateBookMallStatus/,\\n                /show_rule_files/,\\n                /JSBehavior/,\\n                /this\\\\[__Ox64361\\\\[176\\\\]\\\\]/,\\n                /retryFunction/,\\n                /updateImgCount/,\\n                /lawl/,\\n                /getNetType2/,\\n                /lhPl/,\\n                /uv/,\\n                /Syntax error/,\\n                /_mz_/,\\n                /letv/,\\n                /全局缩放 is not defined/,\\n                /initReady/,\\n                /wakeup_client/,\\n                /changeSkinModel/,\\n                /f.T\\\\(utils\\\\/misc\\\\)/,\\n                /HJApp/,\\n                /getElementsByTagName/,\\n                /find/,\\n                /content/,\\n                /remove/,\\n                /timeout/,\\n                /getmyapplist/,\\n                /replaceWith/,\\n                /ifr/,\\n                /meta/,\\n                /Music/,\\n                /UCShellJava/,\\n                /sdk/,\\n                /qiguoVideoManager/,\\n                /XiaoMi/,\\n                /hwbrNotifyNotInMultiWinMode/,\\n                /hw/,\\n                /Win/,\\n                /baidu/,\\n                /disconnect/,\\n                /qihoo360/,\\n                /Xfplay/,\\n                /require/,\\n                /showSource/,\\n                /bdbox/,\\n                /_bdbox_js_419/,\\n                /redefine/,\\n                /HupuBridge/,\\n                /registerDownloadProcessCb/,\\n                /androidDirectInvoke/,\\n                /oppo/,\\n                /vivo/,\\n                /UC/,\\n                /UCBrowserMessageCenter/,\\n                /UC_NEWS_PAUSE_ALL_VIDEOS/,\\n                /android/,\\n                /f.T/,\\n                /Nechat/,\\n                /getChatLog/,\\n                /dayMode/,\\n                /slideForbiddenArea/,\\n                /getAppIcon/,\\n                /theurl/,\\n                /utils\\\\/misc/,\\n                /Block-scoped/,\\n                /MaxTextZoomIndex/,\\n                /duplicate variable/,\\n                /strict mode/,\\n                /errormodule_switches/,\\n                /GetImageTagSrcFromPoint/,\\n                /execute/,\\n                /SimpleScriptable/,\\n                /CustomEvent/,\\n                /Wrapped org.w3c.dom.DOMException/,\\n                /Missing helper/,\\n                /ucbrowser/,\\n                /yujianobj/,\\n                /chunk/,\\n                /__$_qihoo360_$__/,\\n                /Network/,\\n                /Unexpected/,\\n                /identifiers/,\\n                /lHl/,\\n                /reshow/,\\n                /misc/,\\n                /Type error/,\\n                /webkitExitFullScreen/,\\n                /info/,\\n                /ucapi/,\\n                /zk_web_onscroll/,\\n                /_Box_/,\\n                /execWebFn/,\\n                /insecure/,\\n                /raven/,\\n                /token/,\\n                /ss_post_message_to_iframe_injection/,\\n                /AccessDeny/,\\n                /progress/,\\n                /postMessage/,\\n                /zte/,\\n                /zteAdbModule/,\\n                /tgetT/,\\n                /Player/,\\n                /NTESAntAnalysis/,\\n                /neteaseTracker/,\\n                /dispatch/,\\n                /mbrowser.autoSavePasswd/,\\n                /browser/,\\n                /logout/,\\n                /wap\\\\/special\\\\/article_cooper_piapia/,\\n                /getNetType\\\\d* is not a function/,\\n            ],\\n            shouldSendCallback: function (data) {\\n                var ua = window.navigator.userAgent.toLowerCase();\\n                if (typeof data.exception === \\'object\\') {\\n                    return true\\n                }\\n                if (data.exception && data.exception.indexOf(\"Cannot redefine property: platform\")) {\\n                    return false\\n                }\\n                if (/weibo/.test(ua) && data.exception && data.exception.indexOf(\"trim is not a function\") > -1) {\\n                    return false\\n                }\\n                if (data.exception && data.exception.indexOf(\"/wap/special/article_cooper_piapia/\") > -1) {\\n                    return false\\n                }\\n                if (/ucbrowser/.test(ua) && data.exception && data.exception.indexOf(\"Unexpected identifier\") > -1) {\\n                    return false\\n                }\\n                if (/qqbrowser/.test(ua) && data.exception && data.exception.indexOf(\"Maximum call stack size exceeded\") > -1) {\\n                    return false\\n                }\\n                if (/android/.test(ua) && data.exception && data.exception.indexOf(\"is not defined\") > -1) {\\n                    return false\\n                }\\n                if (/os\\\\s+5/.test(ua) && data.exception && data.exception.indexOf(\"\\'undefined\\' is not a function\") > -1) {\\n                    return false\\n                }\\n                if (/baidu/.test(ua) && data.exception && data.exception.indexOf(\"bds\") > -1) {\\n                    return false\\n                }\\n                if (/ucbrowser/.test(ua) && data.exception && data.exception.indexOf(\"is not an object\") > -1) {\\n                    return false\\n                }\\n                if (/windows/.test(ua) && data.exception && data.exception.indexOf(\"Cannot call method \\\\\"match\\\\\" of undefined \") > -1) {\\n                    return false\\n                }\\n                return true\\n            }\\n        }\\n        ).install();\\n    } catch (error) {}\\n</script>\\n<!-- START NetEase Devilfish 2006 -->\\n<script  type=\"text/javascript\">\\n   if (window.location.host.indexOf(\\'.163.com\\') < 0) {\\n       document.body.innerHTML=\\'\\';\\n   }\\n</script>\\n <script>\\n    (function() {\\n      window.neteaseTrackerCallbacks = [];\\n      var script = document.createElement(\\'script\\');\\n      script.type = \\'text/javascript\\';\\n      script.src = \\'//analytics.163.com/ntes.js\\';\\n      document.head.appendChild(script);\\n      script.onload = function() {\\n        window._ntes_nacc = \\'wap\\';\\n        neteaseTracker && neteaseTracker();\\n        neteaseClickStat && neteaseClickStat();\\n        for (var i = 0; i < window.neteaseTrackerCallbacks.length; i++) {\\n          var callback = window.neteaseTrackerCallbacks[i];\\n          if (callback && typeof callback === \\'function\\') {\\n            callback();\\n          }\\n        }\\n        window.neteaseTrackerCallbacks = [];\\n      };\\n    })();\\n  </script>\\n<!-- END NetEase Devilfish 2006 -->\\n<script>\\n  (function(){\\n    function isSupport() {\\n        var testKey = \\'test\\',\\n            storage = window.localStorage;\\n        try {\\n            storage.setItem(testKey, \\'testValue\\');\\n        } catch (error) {\\n            console.log(\"localStorage.setItem不可以执行\");\\n            return false;\\n        }\\n        try {\\n            if (storage.getItem(testKey) != \\'testValue\\') {\\n                return false\\n            } else {\\n                storage.removeItem(testKey);\\n                return true;\\n            }\\n        } catch (error) {\\n            console.log(\"localStorage.getItem不可以执行\");\\n            return false;\\n        }\\n    }\\n    if (!isSupport()) {\\n      window.localStorage = {\\n        setItem: function(key,value){console.log(\\'不支持localStorage\\',key,value);},\\n        getItem: function(key){console.log(\\'不支持localStorage\\',key);return \\'\\';},\\n      }\\n    }\\n  })()\\n</script>\\n<!-- START AntNest -->\\n<script type=\"text/javascript\">\\n    (function (w, d, s, n) {\\n        var f = d.getElementsByTagName(s)[0],\\n            k = d.createElement(s);\\n        k.async = true;\\n        //k.defer = true;\\n        k.src = \"//static.ws.126.net/163/frontend/antnest/\" + n + \".js?t=1627478155459\";\\n        f.parentNode.insertBefore(k, f);\\n      window.addEventListener(\"NTMReady\", function() {\\n        if(window.NTESAntAnalysisQueue&&window.NTESAntAnalysisQueue.length>0){\\n              for(var i=0;i<window.NTESAntAnalysisQueue.length;i++){\\n                  if (window.NTESAntAnalysis) {\\n                    window.NTESAntAnalysis.sendData({\\n                        projectid: window.NTESAntAnalysisQueue[i].projectid,\\n                        val_nm:window.NTESAntAnalysisQueue[i]. val_nm,\\n                        val_act: window.NTESAntAnalysisQueue[i].val_act\\n                    });\\n                  }\\n              }\\n          }\\n      });\\n    })(window, document, \"script\", \"NTM-5AE0KFYY-2\");\\n</script>\\n<!-- END AntNest --> \\n<!-- START Baidu autopush -->\\n<script>\\n    (function () {\\n        setTimeout(function () {\\n            var bp = document.createElement(\"script\");\\n            var curProtocol = window.location.protocol.split(\":\")[0];\\n            if (curProtocol === \"https\" && window.location.href.indexOf(\"wc18\") < 0) {\\n                bp.defer = true;\\n                bp.src = \"https://zz.bdstatic.com/linksubmit/push.js\";\\n                var s = document.getElementsByTagName(\"script\")[0];\\n                s.parentNode.insertBefore(bp, s);\\n            }\\n        }, 2500);\\n    })();\\n</script>\\n<!-- END Baidu autopush -->\\n\\n  <div id=\"app\" data-server-rendered=\"true\" class=\"wap-wrap\"><div class=\"wap-header-wrap\"></div><div class=\"wap-nav-wrap wap-channel-nav\" data-v-c973739e><div class=\"channel-nav\" data-v-c973739e><div class=\"channel-name\" data-v-c973739e><h1 data-v-c973739e>新闻频道</h1></div><div class=\"home-back\" data-v-c973739e><a href=\"https://3g.163.com/?ver=c\" data-v-c973739e><strong data-v-c973739e>手机网易网</strong></a></div></div><div class=\"subchannel-bar\" data-v-29ceee48 data-v-c973739e><ul data-v-29ceee48><a href=\"/touch/news/\" aria-current=\"page\" class=\"sublink-item item-active router-link-active\" data-v-29ceee48><span data-v-29ceee48>首页</span></a><a href=\"/touch/news/sub/domestic/\" class=\"sublink-item\" data-v-29ceee48><span data-v-29ceee48>国内</span></a><a href=\"/touch/news/sub/international/\" class=\"sublink-item\" data-v-29ceee48><span data-v-29ceee48>国际</span></a><a href=\"/touch/news/sub/history/\" class=\"sublink-item\" data-v-29ceee48><span data-v-29ceee48>历史</span></a></ul></div></div><div class=\"tab-content news\"><section class=\"wap-section section-focus\" data-v-ca8ea5f0><swiper options=\"[object Object]\" data-v-ca8ea5f0><swiper-slide class=\"slider-item\" data-v-ca8ea5f0><a href=\"//3g.163.com/news/special/S1628756046313.html?clickfrom=channel2018_news_index_focus#child=all&amp;offset=0\" class=\"focus-item\" data-v-ca8ea5f0><img src=\"http://cms-bucket.ws.126.net/2021/0813/1758e20bj00qxr4i40072c000s600e3c.jpg?imageView&amp;thumbnail=750y370&amp;quality=45&amp;interlace=1&amp;enlarge=1&amp;type=jpg\" alt=\"湖北随县强降雨致21人遇难4人失联\" data-v-ca8ea5f0><span class=\"focus-title\" data-v-ca8ea5f0>湖北随县强降雨致21人遇难4人失联</span></a></swiper-slide></swiper><!----></section><div infinite-scroll-immediate-check=\"false\" infinite-scroll-disabled=\"loading\" infinite-scroll-distance=\"100\" channel-config=\"[object Object]\" class=\"recommend-list\" data-v-1e1e1374><article class=\"news-card card-type-news card-type-top\" data-v-ec5a05cc data-v-1e1e1374><a href=\"//3g.163.com/news/article/GH95GLOJ000189FH.html?clickfrom=channel2018_news_newsList#offset=0\" data-v-ec5a05cc><div class=\"news-info\" data-v-ec5a05cc><h3 class=\"title\" data-v-ec5a05cc>治国理政新实践 | 绿色绘出幸福底色</h3><div class=\"detail\" data-v-ec5a05cc><!----><span class=\"news-source\" data-v-ec5a05cc>新华网</span><span class=\"pubtime\" data-v-ec5a05cc>2小时前</span><span class=\"reply\" data-v-ec5a05cc>329跟贴</span></div></div><!----></a></article><article class=\"news-card card-type-news card-type-top\" data-v-ec5a05cc data-v-1e1e1374><a href=\"//3g.163.com/news/article/GH95I3F0000189FH.html?clickfrom=channel2018_news_newsList#offset=1\" data-v-ec5a05cc><div class=\"news-info\" data-v-ec5a05cc><h3 class=\"title\" data-v-ec5a05cc>美国是当之无愧的全球第一抗疫失败国</h3><div class=\"detail\" data-v-ec5a05cc><!----><span class=\"news-source\" data-v-ec5a05cc>央视新闻客户端</span><span class=\"pubtime\" data-v-ec5a05cc>2小时前</span><span class=\"reply\" data-v-ec5a05cc>78跟贴</span></div></div><!----></a></article><article class=\"news-card card-type-news card-type-top\" data-v-ec5a05cc data-v-1e1e1374><a href=\"//3g.163.com/news/article/GH7D2FAD000189FH.html?clickfrom=channel2018_news_newsList#offset=2\" data-v-ec5a05cc><div class=\"news-info\" data-v-ec5a05cc><h3 class=\"title\" data-v-ec5a05cc>乌合麒麟发布新作，每个细节都是梗！</h3><div class=\"detail\" data-v-ec5a05cc><!----><span class=\"news-source\" data-v-ec5a05cc>北京日报</span><span class=\"pubtime\" data-v-ec5a05cc>18小时前</span><span class=\"reply\" data-v-ec5a05cc>1.9万跟贴</span></div></div><!----></a></article><article class=\"news-card card-type-news card-type-top\" data-v-ec5a05cc data-v-1e1e1374><a href=\"//3g.163.com/news/article/GH7A0T0B051497H3.html?clickfrom=channel2018_news_newsList#offset=3\" data-v-ec5a05cc><div class=\"news-info\" data-v-ec5a05cc><h3 class=\"title\" data-v-ec5a05cc>南京开展江宁部分区域第7轮核酸检测</h3><div class=\"detail\" data-v-ec5a05cc><!----><span class=\"news-source\" data-v-ec5a05cc>国际在线</span><span class=\"pubtime\" data-v-ec5a05cc>19小时前</span><span class=\"reply\" data-v-ec5a05cc>136跟贴</span></div></div><!----></a></article><article class=\"news-card card-type-news\" data-v-ec5a05cc data-v-1e1e1374><a href=\"//3g.163.com/news/article/GH794GS30512BEVO.html?clickfrom=channel2018_news_index_newslist#child=index&amp;offset=27420\" data-v-ec5a05cc><div class=\"news-info\" data-v-ec5a05cc><h3 class=\"title\" data-v-ec5a05cc>丈夫打赏女主播40万 患癌离世前告诉妻子:儿子靠你了</h3><div class=\"detail\" data-v-ec5a05cc><!----><!----><span class=\"pubtime\" data-v-ec5a05cc>1小时前</span><span class=\"reply\" data-v-ec5a05cc>1.3万跟贴</span></div></div><div class=\"news-pic\" data-v-ec5a05cc><img src=\"//cms-bucket.ws.126.net/2021/0813/e341a259p00qxr93z005ic000s600e3c.png?imageView&amp;thumbnail=234y146&amp;quality=45&amp;interlace=1&amp;enlarge=1&amp;type=png\" alt=\"丈夫打赏女主播40万 患癌离世前告诉妻子:儿子靠你了\" data-v-ec5a05cc></div></a></article><article class=\"news-card card-type-news\" data-v-ec5a05cc data-v-1e1e1374><a href=\"//3g.163.com/news/article/GH7S4IL3051492T3.html?clickfrom=channel2018_news_index_newslist#child=index&amp;offset=27421\" data-v-ec5a05cc><div class=\"news-info\" data-v-ec5a05cc><h3 class=\"title\" data-v-ec5a05cc>村党委书记夫妇遇袭一死一伤  嫌疑人落网时满身血迹</h3><div class=\"detail\" data-v-ec5a05cc><!----><!----><span class=\"pubtime\" data-v-ec5a05cc>2小时前</span><span class=\"reply\" data-v-ec5a05cc>7085跟贴</span></div></div><div class=\"news-pic\" data-v-ec5a05cc><img src=\"//cms-bucket.ws.126.net/2021/0813/f0a68abdj00qxr7rh001hc000s600e3c.jpg?imageView&amp;thumbnail=234y146&amp;quality=45&amp;interlace=1&amp;enlarge=1&amp;type=png\" alt=\"村党委书记夫妇遇袭一死一伤  嫌疑人落网时满身血迹\" data-v-ec5a05cc></div></a></article><article class=\"news-card card-type-news\" data-v-ec5a05cc data-v-1e1e1374><a href=\"//3g.163.com/news/article/GH91SV7F0514D3UH.html?clickfrom=channel2018_news_index_newslist#child=index&amp;offset=27422\" data-v-ec5a05cc><div class=\"news-info\" data-v-ec5a05cc><h3 class=\"title\" data-v-ec5a05cc>于月仙遗体告别仪式举行 赵本山夫人等数十位名人痛悼</h3><div class=\"detail\" data-v-ec5a05cc><!----><!----><span class=\"pubtime\" data-v-ec5a05cc>3小时前</span><span class=\"reply\" data-v-ec5a05cc>2.4万跟贴</span></div></div><div class=\"news-pic\" data-v-ec5a05cc><img src=\"//cms-bucket.ws.126.net/2021/0813/60622c6bp00qxr5qp004vc0009c0070c.png?imageView&amp;thumbnail=234y146&amp;quality=45&amp;interlace=1&amp;enlarge=1&amp;type=png\" alt=\"于月仙遗体告别仪式举行 赵本山夫人等数十位名人痛悼\" data-v-ec5a05cc></div></a></article><article class=\"news-card card-type-news\" data-v-ec5a05cc data-v-1e1e1374><a href=\"//3g.163.com/news/article/GH8TRT19052182V3.html?clickfrom=channel2018_news_index_newslist#child=index&amp;offset=27423\" data-v-ec5a05cc><div class=\"news-info\" data-v-ec5a05cc><h3 class=\"title\" data-v-ec5a05cc>巴方通报9名中国人遇袭身亡调查进展 中方深夜回应</h3><div class=\"detail\" data-v-ec5a05cc><!----><!----><span class=\"pubtime\" data-v-ec5a05cc>4小时前</span><span class=\"reply\" data-v-ec5a05cc>5946跟贴</span></div></div><div class=\"news-pic\" data-v-ec5a05cc><img src=\"//cms-bucket.ws.126.net/2021/0813/8715d063p00qxr72g0083c0009c0070c.png?imageView&amp;thumbnail=234y146&amp;quality=45&amp;interlace=1&amp;enlarge=1&amp;type=png\" alt=\"巴方通报9名中国人遇袭身亡调查进展 中方深夜回应\" data-v-ec5a05cc></div></a></article><article class=\"news-card card-type-news\" data-v-ec5a05cc data-v-1e1e1374><a href=\"//3g.163.com/news/article/GH75RQUQ0534695U.html?clickfrom=channel2018_news_index_newslist#child=index&amp;offset=27424\" data-v-ec5a05cc><div class=\"news-info\" data-v-ec5a05cc><h3 class=\"title\" data-v-ec5a05cc>教师因涉疫言论被拘15天 律师：个人观点 可行政复议</h3><div class=\"detail\" data-v-ec5a05cc><!----><!----><span class=\"pubtime\" data-v-ec5a05cc>4小时前</span><span class=\"reply\" data-v-ec5a05cc>19万跟贴</span></div></div><div class=\"news-pic\" data-v-ec5a05cc><img src=\"//bjnewsrec-cv.ws.126.net/little34384c6df66j00qxprwa004fd000u001cap.jpg?imageView&amp;thumbnail=234y146&amp;quality=45&amp;interlace=1&amp;enlarge=1&amp;type=png\" alt=\"教师因涉疫言论被拘15天 律师：个人观点 可行政复议\" data-v-ec5a05cc></div></a></article><article class=\"news-card card-type-news\" data-v-ec5a05cc data-v-1e1e1374><a href=\"//3g.163.com/news/article/GH803PGG0001899O.html?clickfrom=channel2018_news_index_newslist#child=index&amp;offset=27425\" data-v-ec5a05cc><div class=\"news-info\" data-v-ec5a05cc><h3 class=\"title\" data-v-ec5a05cc>立陶宛仍\"执迷不悟\":采取一切措施 说服中国大使回来</h3><div class=\"detail\" data-v-ec5a05cc><!----><!----><span class=\"pubtime\" data-v-ec5a05cc>13小时前</span><span class=\"reply\" data-v-ec5a05cc>3.6万跟贴</span></div></div><div class=\"news-pic\" data-v-ec5a05cc><img src=\"//cms-bucket.ws.126.net/2021/0812/8d24be8ep00qxqd4s001cc0009c0070c.png?imageView&amp;thumbnail=234y146&amp;quality=45&amp;interlace=1&amp;enlarge=1&amp;type=png\" alt=\"立陶宛仍&quot;执迷不悟&quot;:采取一切措施 说服中国大使回来\" data-v-ec5a05cc></div></a></article><article class=\"news-card card-type-news\" data-v-ec5a05cc data-v-1e1e1374><a href=\"//3g.163.com/news/article/GH7QAB9R0514R9OJ.html?clickfrom=channel2018_news_index_newslist#child=index&amp;offset=27426\" data-v-ec5a05cc><div class=\"news-info\" data-v-ec5a05cc><h3 class=\"title\" data-v-ec5a05cc>拜登召开\"民主峰会\"邀请蔡英文 媒体:大陆绝会不允许</h3><div class=\"detail\" data-v-ec5a05cc><!----><!----><span class=\"pubtime\" data-v-ec5a05cc>14小时前</span><span class=\"reply\" data-v-ec5a05cc>2.7万跟贴</span></div></div><div class=\"news-pic\" data-v-ec5a05cc><img src=\"//cms-bucket.ws.126.net/2021/0812/9345b43ap00qxq9t2001ac0009c0070c.png?imageView&amp;thumbnail=234y146&amp;quality=45&amp;interlace=1&amp;enlarge=1&amp;type=png\" alt=\"拜登召开&quot;民主峰会&quot;邀请蔡英文 媒体:大陆绝会不允许\" data-v-ec5a05cc></div></a></article><article class=\"news-card card-type-news\" data-v-ec5a05cc data-v-1e1e1374><a href=\"//3g.163.com/news/article/GH7IFK010001899O.html?clickfrom=channel2018_news_index_newslist#child=index&amp;offset=27427\" data-v-ec5a05cc><div class=\"news-info\" data-v-ec5a05cc><h3 class=\"title\" data-v-ec5a05cc>立陶宛驻华大使：我刚到北京隔离 就收到离境通知</h3><div class=\"detail\" data-v-ec5a05cc><!----><!----><span class=\"pubtime\" data-v-ec5a05cc>17小时前</span><span class=\"reply\" data-v-ec5a05cc>2.1万跟贴</span></div></div><div class=\"news-pic\" data-v-ec5a05cc><img src=\"//cms-bucket.ws.126.net/2021/0812/fae2eef9p00qxq24u003nc0009c0070c.png?imageView&amp;thumbnail=234y146&amp;quality=45&amp;interlace=1&amp;enlarge=1&amp;type=png\" alt=\"立陶宛驻华大使：我刚到北京隔离 就收到离境通知\" data-v-ec5a05cc></div></a></article><article class=\"news-card card-type-news\" data-v-ec5a05cc data-v-1e1e1374><a href=\"//3g.163.com/news/article/GH77JEDI0514R9KQ.html?clickfrom=channel2018_news_index_newslist#child=index&amp;offset=27428\" data-v-ec5a05cc><div class=\"news-info\" data-v-ec5a05cc><h3 class=\"title\" data-v-ec5a05cc>广东一家人遇车祸急救 有房有车众筹400万？最新回应</h3><div class=\"detail\" data-v-ec5a05cc><!----><!----><span class=\"pubtime\" data-v-ec5a05cc>18小时前</span><span class=\"reply\" data-v-ec5a05cc>10万跟贴</span></div></div><div class=\"news-pic\" data-v-ec5a05cc><img src=\"//cms-bucket.ws.126.net/2021/0812/0b495c28p00qxpyj10010c0009c0070c.png?imageView&amp;thumbnail=234y146&amp;quality=45&amp;interlace=1&amp;enlarge=1&amp;type=png\" alt=\"广东一家人遇车祸急救 有房有车众筹400万？最新回应\" data-v-ec5a05cc></div></a></article><article class=\"news-card card-type-news\" data-v-ec5a05cc data-v-1e1e1374><a href=\"//3g.163.com/news/article/GH5FRGM70550OOTO.html?clickfrom=channel2018_news_index_newslist#child=index&amp;offset=27429\" data-v-ec5a05cc><div class=\"news-info\" data-v-ec5a05cc><h3 class=\"title\" data-v-ec5a05cc>男子进山抓蜂失联3天被找到已身亡 身上还有3只蜂在蛰</h3><div class=\"detail\" data-v-ec5a05cc><!----><!----><span class=\"pubtime\" data-v-ec5a05cc>20小时前</span><span class=\"reply\" data-v-ec5a05cc>7.6万跟贴</span></div></div><div class=\"news-pic\" data-v-ec5a05cc><img src=\"//dingyue.ws.126.net/2021/0811/1885d256j00qxok6c001zc000go00cim.jpg?imageView&amp;thumbnail=234y146&amp;quality=45&amp;interlace=1&amp;enlarge=1&amp;type=png\" alt=\"男子进山抓蜂失联3天被找到已身亡 身上还有3只蜂在蛰\" data-v-ec5a05cc></div></a></article><article class=\"news-card card-type-news\" data-v-ec5a05cc data-v-1e1e1374><a href=\"//3g.163.com/news/article/GH74KFOH00019K82.html?clickfrom=channel2018_news_index_newslist#child=index&amp;offset=27430\" data-v-ec5a05cc><div class=\"news-info\" data-v-ec5a05cc><h3 class=\"title\" data-v-ec5a05cc>朱婷报案央媒力挺 是什么激怒了中国女排队长？</h3><div class=\"detail\" data-v-ec5a05cc><!----><!----><span class=\"pubtime\" data-v-ec5a05cc>21小时前</span><span class=\"reply\" data-v-ec5a05cc>5.9万跟贴</span></div></div><div class=\"news-pic\" data-v-ec5a05cc><img src=\"//cms-bucket.ws.126.net/2021/0812/5a3bc791p00qxpqw90014c0009c0070c.png?imageView&amp;thumbnail=234y146&amp;quality=45&amp;interlace=1&amp;enlarge=1&amp;type=png\" alt=\"朱婷报案央媒力挺 是什么激怒了中国女排队长？\" data-v-ec5a05cc></div></a></article><article class=\"news-card card-type-news\" data-v-ec5a05cc data-v-1e1e1374><a href=\"//3g.163.com/news/article/GH6RBHQF0001899O.html?clickfrom=channel2018_news_index_newslist#child=index&amp;offset=27431\" data-v-ec5a05cc><div class=\"news-info\" data-v-ec5a05cc><h3 class=\"title\" data-v-ec5a05cc>被曝潜规则32名女下属的行长获无期 主动交代贪1.31亿</h3><div class=\"detail\" data-v-ec5a05cc><!----><!----><span class=\"pubtime\" data-v-ec5a05cc>23小时前</span><span class=\"reply\" data-v-ec5a05cc>6.0万跟贴</span></div></div><div class=\"news-pic\" data-v-ec5a05cc><img src=\"//cms-bucket.ws.126.net/2021/0813/fc12719dp00qxr8f3000sc0009c0070c.png?imageView&amp;thumbnail=234y146&amp;quality=45&amp;interlace=1&amp;enlarge=1&amp;type=png\" alt=\"被曝潜规则32名女下属的行长获无期 主动交代贪1.31亿\" data-v-ec5a05cc></div></a></article><article class=\"news-card card-type-news\" data-v-ec5a05cc data-v-1e1e1374><a href=\"//3g.163.com/news/article/GH968AJK0519D3BI.html?clickfrom=channel2018_news_index_newslist#child=index&amp;offset=27432\" data-v-ec5a05cc><div class=\"news-info\" data-v-ec5a05cc><h3 class=\"title\" data-v-ec5a05cc>抱阿里大腿、遇劲敌抖音 靠耽改续命的优酷彻底掉队</h3><div class=\"detail\" data-v-ec5a05cc><!----><!----><span class=\"pubtime\" data-v-ec5a05cc>17分钟前</span><span class=\"reply\" data-v-ec5a05cc>43跟贴</span></div></div><div class=\"news-pic\" data-v-ec5a05cc><img src=\"//bjnewsrec-cv.ws.126.net/little75643c6538aj00qxr7zs02evc001xg01abg.jpg?imageView&amp;thumbnail=234y146&amp;quality=45&amp;interlace=1&amp;enlarge=1&amp;type=png\" alt=\"抱阿里大腿、遇劲敌抖音 靠耽改续命的优酷彻底掉队\" data-v-ec5a05cc></div></a></article><article class=\"news-card card-type-news\" data-v-ec5a05cc data-v-1e1e1374><a href=\"//3g.163.com/news/article/GH81PQRR0537E3LL.html?clickfrom=channel2018_news_index_newslist#child=index&amp;offset=27433\" data-v-ec5a05cc><div class=\"news-info\" data-v-ec5a05cc><h3 class=\"title\" data-v-ec5a05cc>曝顶流男星神社参加婚礼合影日本间谍 赵薇被拉下水?</h3><div class=\"detail\" data-v-ec5a05cc><!----><!----><span class=\"pubtime\" data-v-ec5a05cc>19分钟前</span><span class=\"reply\" data-v-ec5a05cc>3228跟贴</span></div></div><div class=\"news-pic\" data-v-ec5a05cc><img src=\"//cms-bucket.ws.126.net/2021/0813/bd493219p00qxrbms0039c0009c0070c.png?imageView&amp;thumbnail=234y146&amp;quality=45&amp;interlace=1&amp;enlarge=1&amp;type=png\" alt=\"曝顶流男星神社参加婚礼合影日本间谍 赵薇被拉下水?\" data-v-ec5a05cc></div></a></article><article class=\"news-card card-type-news\" data-v-ec5a05cc data-v-1e1e1374><a href=\"//3g.163.com/news/article/GH9A78D50517KC40.html?clickfrom=channel2018_news_index_newslist#child=index&amp;offset=27434\" data-v-ec5a05cc><div class=\"news-info\" data-v-ec5a05cc><h3 class=\"title\" data-v-ec5a05cc>中国第一位跳水女皇:金牌越多越害怕 退役后\"躲\"国外</h3><div class=\"detail\" data-v-ec5a05cc><!----><!----><span class=\"pubtime\" data-v-ec5a05cc>26分钟前</span><span class=\"reply\" data-v-ec5a05cc>859跟贴</span></div></div><div class=\"news-pic\" data-v-ec5a05cc><img src=\"//cms-bucket.ws.126.net/2021/0813/2dfb6c34p00qxrbe2004vc0009c0070c.png?imageView&amp;thumbnail=234y146&amp;quality=45&amp;interlace=1&amp;enlarge=1&amp;type=png\" alt=\"中国第一位跳水女皇:金牌越多越害怕 退役后&quot;躲&quot;国外\" data-v-ec5a05cc></div></a></article><article class=\"news-card card-type-news\" data-v-ec5a05cc data-v-1e1e1374><a href=\"//3g.163.com/news/article/GH85P9D605328YVR.html?clickfrom=channel2018_news_index_newslist#child=index&amp;offset=27435\" data-v-ec5a05cc><div class=\"news-info\" data-v-ec5a05cc><h3 class=\"title\" data-v-ec5a05cc>北极48度高温现史前生物遗骸 被冰封的病菌会苏醒吗?</h3><div class=\"detail\" data-v-ec5a05cc><!----><!----><span class=\"pubtime\" data-v-ec5a05cc>53分钟前</span><span class=\"reply\" data-v-ec5a05cc>189跟贴</span></div></div><div class=\"news-pic\" data-v-ec5a05cc><img src=\"//cms-bucket.ws.126.net/2021/0813/185c4deap00qxra2f0040c0009c0070c.png?imageView&amp;thumbnail=234y146&amp;quality=45&amp;interlace=1&amp;enlarge=1&amp;type=png\" alt=\"北极48度高温现史前生物遗骸 被冰封的病菌会苏醒吗?\" data-v-ec5a05cc></div></a></article><article class=\"news-card card-type-news\" data-v-ec5a05cc data-v-1e1e1374><a href=\"//3g.163.com/news/article/GH4FQM9E051285HS.html?clickfrom=channel2018_news_index_newslist#child=index&amp;offset=27436\" data-v-ec5a05cc><div class=\"news-info\" data-v-ec5a05cc><h3 class=\"title\" data-v-ec5a05cc>上海国际学校老师自嘲像服务员:收走游戏机学生报了警</h3><div class=\"detail\" data-v-ec5a05cc><!----><!----><span class=\"pubtime\" data-v-ec5a05cc>2小时前</span><span class=\"reply\" data-v-ec5a05cc>2220跟贴</span></div></div><div class=\"news-pic\" data-v-ec5a05cc><img src=\"//cms-bucket.ws.126.net/2021/0813/f04e1802p00qxr5ni0076c0009c0070c.png?imageView&amp;thumbnail=234y146&amp;quality=45&amp;interlace=1&amp;enlarge=1&amp;type=png\" alt=\"上海国际学校老师自嘲像服务员:收走游戏机学生报了警\" data-v-ec5a05cc></div></a></article><article class=\"news-card card-type-news\" data-v-ec5a05cc data-v-1e1e1374><a href=\"//3g.163.com/news/article/GH6QDEP6055299GF.html?clickfrom=channel2018_news_index_newslist#child=index&amp;offset=27437\" data-v-ec5a05cc><div class=\"news-info\" data-v-ec5a05cc><h3 class=\"title\" data-v-ec5a05cc>陈露美照曝光为霍尊辞副教授现遭威胁:送你进牢关10年</h3><div class=\"detail\" data-v-ec5a05cc><!----><!----><span class=\"pubtime\" data-v-ec5a05cc>2小时前</span><span class=\"reply\" data-v-ec5a05cc>1.6万跟贴</span></div></div><div class=\"news-pic\" data-v-ec5a05cc><img src=\"//cms-bucket.ws.126.net/2021/0813/61405aa4p00qxr579002mc000s600e3c.png?imageView&amp;thumbnail=234y146&amp;quality=45&amp;interlace=1&amp;enlarge=1&amp;type=png\" alt=\"陈露美照曝光为霍尊辞副教授现遭威胁:送你进牢关10年\" data-v-ec5a05cc></div></a></article><article class=\"news-card card-type-news\" data-v-ec5a05cc data-v-1e1e1374><a href=\"//3g.163.com/news/article/GH882AAS05521FC7.html?clickfrom=channel2018_news_index_newslist#child=index&amp;offset=27438\" data-v-ec5a05cc><div class=\"news-info\" data-v-ec5a05cc><h3 class=\"title\" data-v-ec5a05cc>\"渣\"遗传?霍尊父亲抛妻弃子娶嫩模:前任现任是好朋友</h3><div class=\"detail\" data-v-ec5a05cc><!----><!----><span class=\"pubtime\" data-v-ec5a05cc>3小时前</span><span class=\"reply\" data-v-ec5a05cc>5528跟贴</span></div></div><div class=\"news-pic\" data-v-ec5a05cc><img src=\"//cms-bucket.ws.126.net/2021/0813/bf75b5c3p00qxr2jw003dc0009c0070c.png?imageView&amp;thumbnail=234y146&amp;quality=45&amp;interlace=1&amp;enlarge=1&amp;type=png\" alt=\"&quot;渣&quot;遗传?霍尊父亲抛妻弃子娶嫩模:前任现任是好朋友\" data-v-ec5a05cc></div></a></article><article class=\"news-card card-type-news\" data-v-ec5a05cc data-v-1e1e1374><a href=\"//3g.163.com/news/article/GH7F7DVJ05525W9O.html?clickfrom=channel2018_news_index_newslist#child=index&amp;offset=27439\" data-v-ec5a05cc><div class=\"news-info\" data-v-ec5a05cc><h3 class=\"title\" data-v-ec5a05cc>霍尊被曝与多人上床还炫耀\"1晚3枪\" 大尺度聊天曝光</h3><div class=\"detail\" data-v-ec5a05cc><!----><!----><span class=\"pubtime\" data-v-ec5a05cc>4小时前</span><span class=\"reply\" data-v-ec5a05cc>4.8万跟贴</span></div></div><div class=\"news-pic\" data-v-ec5a05cc><img src=\"//cms-bucket.ws.126.net/2021/0813/59752005p00qxr2n7000wc000s600e3c.png?imageView&amp;thumbnail=234y146&amp;quality=45&amp;interlace=1&amp;enlarge=1&amp;type=png\" alt=\"霍尊被曝与多人上床还炫耀&quot;1晚3枪&quot; 大尺度聊天曝光\" data-v-ec5a05cc></div></a></article><article class=\"news-card card-type-news\" data-v-ec5a05cc data-v-1e1e1374><a href=\"//3g.163.com/news/article/GH87D4I505179RJN.html?clickfrom=channel2018_news_index_newslist#child=index&amp;offset=27440\" data-v-ec5a05cc><div class=\"news-info\" data-v-ec5a05cc><h3 class=\"title\" data-v-ec5a05cc>霍尊聊天群里都有谁?网友扒出四人 有明星还有钢琴家</h3><div class=\"detail\" data-v-ec5a05cc><!----><!----><span class=\"pubtime\" data-v-ec5a05cc>4小时前</span><span class=\"reply\" data-v-ec5a05cc>5.5万跟贴</span></div></div><div class=\"news-pic\" data-v-ec5a05cc><img src=\"//cms-bucket.ws.126.net/2021/0813/abd76a20p00qxr2lq004nc0009c0070c.png?imageView&amp;thumbnail=234y146&amp;quality=45&amp;interlace=1&amp;enlarge=1&amp;type=png\" alt=\"霍尊聊天群里都有谁?网友扒出四人 有明星还有钢琴家\" data-v-ec5a05cc></div></a></article><article class=\"news-card card-type-news\" data-v-ec5a05cc data-v-1e1e1374><a href=\"//3g.163.com/news/article/GH7JCVN9051986UM.html?clickfrom=channel2018_news_index_newslist#child=index&amp;offset=27441\" data-v-ec5a05cc><div class=\"news-info\" data-v-ec5a05cc><h3 class=\"title\" data-v-ec5a05cc>\"哈佛天才\"靠抽血实体企业敛财 搞垮3家中国上市公司</h3><div class=\"detail\" data-v-ec5a05cc><!----><!----><span class=\"pubtime\" data-v-ec5a05cc>13小时前</span><span class=\"reply\" data-v-ec5a05cc>2.4万跟贴</span></div></div><div class=\"news-pic\" data-v-ec5a05cc><img src=\"//cms-bucket.ws.126.net/2021/0812/02deed23p00qxq8j10036c0009c0070c.png?imageView&amp;thumbnail=234y146&amp;quality=45&amp;interlace=1&amp;enlarge=1&amp;type=png\" alt=\"&quot;哈佛天才&quot;靠抽血实体企业敛财 搞垮3家中国上市公司\" data-v-ec5a05cc></div></a></article><article class=\"news-card card-type-news\" data-v-ec5a05cc data-v-1e1e1374><a href=\"//3g.163.com/news/article/GH75K0GM05158C06.html?clickfrom=channel2018_news_index_newslist#child=index&amp;offset=27442\" data-v-ec5a05cc><div class=\"news-info\" data-v-ec5a05cc><h3 class=\"title\" data-v-ec5a05cc>首次亮相!解放军装备新型无人直升机 火力堪比武直10</h3><div class=\"detail\" data-v-ec5a05cc><!----><!----><span class=\"pubtime\" data-v-ec5a05cc>16小时前</span><span class=\"reply\" data-v-ec5a05cc>5456跟贴</span></div></div><div class=\"news-pic\" data-v-ec5a05cc><img src=\"//cms-bucket.ws.126.net/2021/0812/39f53c70p00qxq3ae0036c0009c0070c.png?imageView&amp;thumbnail=234y146&amp;quality=45&amp;interlace=1&amp;enlarge=1&amp;type=png\" alt=\"首次亮相!解放军装备新型无人直升机 火力堪比武直10\" data-v-ec5a05cc></div></a></article><article class=\"news-card card-type-news\" data-v-ec5a05cc data-v-1e1e1374><a href=\"//3g.163.com/news/article/GH7HM81U00038FO9.html?clickfrom=channel2018_news_index_newslist#child=index&amp;offset=27443\" data-v-ec5a05cc><div class=\"news-info\" data-v-ec5a05cc><h3 class=\"title\" data-v-ec5a05cc>野战嫖娼吃伟哥 自诩音乐家带\"仙气\"的霍尊这次要凉?</h3><div class=\"detail\" data-v-ec5a05cc><!----><!----><span class=\"pubtime\" data-v-ec5a05cc>17小时前</span><span class=\"reply\" data-v-ec5a05cc>13万跟贴</span></div></div><div class=\"news-pic\" data-v-ec5a05cc><img src=\"//cms-bucket.ws.126.net/2021/0812/8ffcccd1p00qxq1gg001dc0009c0070c.png?imageView&amp;thumbnail=234y146&amp;quality=45&amp;interlace=1&amp;enlarge=1&amp;type=png\" alt=\"野战嫖娼吃伟哥 自诩音乐家带&quot;仙气&quot;的霍尊这次要凉?\" data-v-ec5a05cc></div></a></article><article class=\"news-card card-type-news\" data-v-ec5a05cc data-v-1e1e1374><a href=\"//3g.163.com/news/article/GH764RKS051285EO.html?clickfrom=channel2018_news_index_newslist#child=index&amp;offset=27444\" data-v-ec5a05cc><div class=\"news-info\" data-v-ec5a05cc><h3 class=\"title\" data-v-ec5a05cc>青岛新机场开通却被吐槽越搬越远 乘客：还不如高铁</h3><div class=\"detail\" data-v-ec5a05cc><!----><!----><span class=\"pubtime\" data-v-ec5a05cc>17小时前</span><span class=\"reply\" data-v-ec5a05cc>1.0万跟贴</span></div></div><div class=\"news-pic\" data-v-ec5a05cc><img src=\"//cms-bucket.ws.126.net/2021/0812/3dc6e8edp00qxpy4y007cc0009c0070c.png?imageView&amp;thumbnail=234y146&amp;quality=45&amp;interlace=1&amp;enlarge=1&amp;type=png\" alt=\"青岛新机场开通却被吐槽越搬越远 乘客：还不如高铁\" data-v-ec5a05cc></div></a></article><article class=\"news-card card-type-news\" data-v-ec5a05cc data-v-1e1e1374><a href=\"//3g.163.com/news/article/GH7DT7FG0528CSE1.html?clickfrom=channel2018_news_index_newslist#child=index&amp;offset=27445\" data-v-ec5a05cc><div class=\"news-info\" data-v-ec5a05cc><h3 class=\"title\" data-v-ec5a05cc>\"涝疫接核\"郑州人民哭了:洪水退了真正的困难却来了</h3><div class=\"detail\" data-v-ec5a05cc><!----><!----><span class=\"pubtime\" data-v-ec5a05cc>17小时前</span><span class=\"reply\" data-v-ec5a05cc>17万跟贴</span></div></div><div class=\"news-pic\" data-v-ec5a05cc><img src=\"//dingyue.ws.126.net/2021/0812/14c675fbj00qxpyeh0020d000ip00e1p.jpg?imageView&amp;thumbnail=234y146&amp;quality=45&amp;interlace=1&amp;enlarge=1&amp;type=png\" alt=\"&quot;涝疫接核&quot;郑州人民哭了:洪水退了真正的困难却来了\" data-v-ec5a05cc></div></a></article><article class=\"news-card card-type-news\" data-v-ec5a05cc data-v-1e1e1374><a href=\"//3g.163.com/news/article/GH78N57U0537IP2E.html?clickfrom=channel2018_news_index_newslist#child=index&amp;offset=27446\" data-v-ec5a05cc><div class=\"news-info\" data-v-ec5a05cc><h3 class=\"title\" data-v-ec5a05cc>名校大学生\"非5000万富二代不嫁\"被全网嘲 7年后怎样</h3><div class=\"detail\" data-v-ec5a05cc><!----><!----><span class=\"pubtime\" data-v-ec5a05cc>19小时前</span><span class=\"reply\" data-v-ec5a05cc>6.8万跟贴</span></div></div><div class=\"news-pic\" data-v-ec5a05cc><img src=\"//cms-bucket.ws.126.net/2021/0812/aa33e881p00qxpwwq001kc0009c0070c.png?imageView&amp;thumbnail=234y146&amp;quality=45&amp;interlace=1&amp;enlarge=1&amp;type=png\" alt=\"名校大学生&quot;非5000万富二代不嫁&quot;被全网嘲 7年后怎样\" data-v-ec5a05cc></div></a></article><article class=\"news-card card-type-news\" data-v-ec5a05cc data-v-1e1e1374><a href=\"//3g.163.com/news/article/GH78S1T400038FO9.html?clickfrom=channel2018_news_index_newslist#child=index&amp;offset=27447\" data-v-ec5a05cc><div class=\"news-info\" data-v-ec5a05cc><h3 class=\"title\" data-v-ec5a05cc>陈露晒出聊天记录 霍尊自曝两天一炮 曾与乐手一夜情</h3><div class=\"detail\" data-v-ec5a05cc><!----><!----><span class=\"pubtime\" data-v-ec5a05cc>19小时前</span><span class=\"reply\" data-v-ec5a05cc>15万跟贴</span></div></div><div class=\"news-pic\" data-v-ec5a05cc><img src=\"//cms-bucket.ws.126.net/2021/0812/9de204ebp00qxpubr000yc0009c0070c.png?imageView&amp;thumbnail=234y146&amp;quality=45&amp;interlace=1&amp;enlarge=1&amp;type=png\" alt=\"陈露晒出聊天记录 霍尊自曝两天一炮 曾与乐手一夜情\" data-v-ec5a05cc></div></a></article><article class=\"news-card card-type-news\" data-v-ec5a05cc data-v-1e1e1374><a href=\"//3g.163.com/news/article/GH6SLIHG055221YJ.html?clickfrom=channel2018_news_index_newslist#child=index&amp;offset=27448\" data-v-ec5a05cc><div class=\"news-info\" data-v-ec5a05cc><h3 class=\"title\" data-v-ec5a05cc>小米发布会次日股价下挫 雷军该急的不是1个全球第1</h3><div class=\"detail\" data-v-ec5a05cc><!----><!----><span class=\"pubtime\" data-v-ec5a05cc>20小时前</span><span class=\"reply\" data-v-ec5a05cc>4064跟贴</span></div></div><div class=\"news-pic\" data-v-ec5a05cc><img src=\"//cms-bucket.ws.126.net/2021/0812/bf6c1158p00qxptfw001jc0009c0070c.png?imageView&amp;thumbnail=234y146&amp;quality=45&amp;interlace=1&amp;enlarge=1&amp;type=png\" alt=\"小米发布会次日股价下挫 雷军该急的不是1个全球第1\" data-v-ec5a05cc></div></a></article><article class=\"news-card card-type-news\" data-v-ec5a05cc data-v-1e1e1374><a href=\"//3g.163.com/news/article/GH50II1G051784VS.html?clickfrom=channel2018_news_index_newslist#child=index&amp;offset=27449\" data-v-ec5a05cc><div class=\"news-info\" data-v-ec5a05cc><h3 class=\"title\" data-v-ec5a05cc>出轨男星直言缺了妈妈没法活 拍照亲密动作引人不适</h3><div class=\"detail\" data-v-ec5a05cc><!----><!----><span class=\"pubtime\" data-v-ec5a05cc>20小时前</span><span class=\"reply\" data-v-ec5a05cc>4.2万跟贴</span></div></div><div class=\"news-pic\" data-v-ec5a05cc><img src=\"//cms-bucket.ws.126.net/2021/0812/c457bd14j00qxpuym0010c0009c0070c.jpg?imageView&amp;thumbnail=234y146&amp;quality=45&amp;interlace=1&amp;enlarge=1&amp;type=png\" alt=\"出轨男星直言缺了妈妈没法活 拍照亲密动作引人不适\" data-v-ec5a05cc></div></a></article><article class=\"news-card card-type-news\" data-v-ec5a05cc data-v-1e1e1374><a href=\"https://3g.163.com/news/article/EUM2KO9N000189FH.html?#offset=0\" data-v-ec5a05cc><div class=\"news-info\" data-v-ec5a05cc><h3 class=\"title\" data-v-ec5a05cc>“没有不能揭的黑，没有不敢碰的恶” </h3><div class=\"detail\" data-v-ec5a05cc><!----><span class=\"news-source\" data-v-ec5a05cc>人民网-人民日报</span><!----><span class=\"reply\" data-v-ec5a05cc>20跟贴</span></div></div><div class=\"news-pic\" data-v-ec5a05cc><img src=\"//cms-bucket.ws.126.net/2019/11/23/ada886b8e75f4b36be972b10b1b89de7.jpeg?imageView&amp;thumbnail=234y146&amp;quality=45&amp;interlace=1&amp;enlarge=1&amp;type=png\" alt=\"“没有不能揭的黑，没有不敢碰的恶” \" data-v-ec5a05cc></div></a></article><article class=\"news-card card-type-news\" data-v-ec5a05cc data-v-1e1e1374><a href=\"https://3g.163.com/news/article/EUM24BRS000189FH.html?#offset=1\" data-v-ec5a05cc><div class=\"news-info\" data-v-ec5a05cc><h3 class=\"title\" data-v-ec5a05cc>新华时评：5G不能被政治化 </h3><div class=\"detail\" data-v-ec5a05cc><!----><span class=\"news-source\" data-v-ec5a05cc>新华网</span><span class=\"pubtime\" data-v-ec5a05cc>3天前</span><span class=\"reply\" data-v-ec5a05cc>86跟贴</span></div></div><div class=\"news-pic\" data-v-ec5a05cc><img src=\"//cms-bucket.ws.126.net/2019/11/23/b1190b8af33c41c697f1c62466e7db1c.jpeg?imageView&amp;thumbnail=234y146&amp;quality=45&amp;interlace=1&amp;enlarge=1&amp;type=png\" alt=\"新华时评：5G不能被政治化 \" data-v-ec5a05cc></div></a></article><article class=\"news-card card-type-news\" data-v-ec5a05cc data-v-1e1e1374><a href=\"https://3g.163.com/news/article/EUJ790P7000189FH.html?#offset=2\" data-v-ec5a05cc><div class=\"news-info\" data-v-ec5a05cc><h3 class=\"title\" data-v-ec5a05cc>“让世界享受中国创新、开放所带来的红利” </h3><div class=\"detail\" data-v-ec5a05cc><!----><span class=\"news-source\" data-v-ec5a05cc>光明日报</span><span class=\"pubtime\" data-v-ec5a05cc>3天前</span><span class=\"reply\" data-v-ec5a05cc>26跟贴</span></div></div><div class=\"news-pic\" data-v-ec5a05cc><img src=\"//cms-bucket.ws.126.net/2019/11/22/d5793b62b5f34b4ea4b7f4f85ab715d4.jpeg?imageView&amp;thumbnail=234y146&amp;quality=45&amp;interlace=1&amp;enlarge=1&amp;type=png\" alt=\"“让世界享受中国创新、开放所带来的红利” \" data-v-ec5a05cc></div></a></article><article class=\"news-card card-type-news\" data-v-ec5a05cc data-v-1e1e1374><a href=\"https://3g.163.com/news/article/EUJ76SJ2000189FH.html?#offset=3\" data-v-ec5a05cc><div class=\"news-info\" data-v-ec5a05cc><h3 class=\"title\" data-v-ec5a05cc>推动数字技术制造业深度融合是推动高质量发展关键</h3><div class=\"detail\" data-v-ec5a05cc><!----><span class=\"news-source\" data-v-ec5a05cc>中国日报</span><span class=\"pubtime\" data-v-ec5a05cc>3天前</span><span class=\"reply\" data-v-ec5a05cc>7跟贴</span></div></div><div class=\"news-pic\" data-v-ec5a05cc><img src=\"//cms-bucket.ws.126.net/2019/11/22/532515ba453b47469b2b174af758418c.jpeg?imageView&amp;thumbnail=234y146&amp;quality=45&amp;interlace=1&amp;enlarge=1&amp;type=png\" alt=\"推动数字技术制造业深度融合是推动高质量发展关键\" data-v-ec5a05cc></div></a></article><article class=\"news-card card-type-news\" data-v-ec5a05cc data-v-1e1e1374><a href=\"https://3g.163.com/news/article/EUJ75M7V000189FH.html?#offset=4\" data-v-ec5a05cc><div class=\"news-info\" data-v-ec5a05cc><h3 class=\"title\" data-v-ec5a05cc>穆巴达拉公司CEO：中国是值得外国人来投资的国家</h3><div class=\"detail\" data-v-ec5a05cc><!----><span class=\"news-source\" data-v-ec5a05cc>经济日报</span><span class=\"pubtime\" data-v-ec5a05cc>3天前</span><span class=\"reply\" data-v-ec5a05cc>85跟贴</span></div></div><div class=\"news-pic\" data-v-ec5a05cc><img src=\"//cms-bucket.ws.126.net/2019/11/22/0e37b5455c5040db8537f2a6555dede4.jpeg?imageView&amp;thumbnail=234y146&amp;quality=45&amp;interlace=1&amp;enlarge=1&amp;type=png\" alt=\"穆巴达拉公司CEO：中国是值得外国人来投资的国家\" data-v-ec5a05cc></div></a></article><article class=\"news-card card-type-news\" data-v-ec5a05cc data-v-1e1e1374><a href=\"https://3g.163.com/news/article/EUJ72ESB000189FH.html?#offset=5\" data-v-ec5a05cc><div class=\"news-info\" data-v-ec5a05cc><h3 class=\"title\" data-v-ec5a05cc>贸易摩擦严重冲击中国经济？美智库：高估了 </h3><div class=\"detail\" data-v-ec5a05cc><!----><span class=\"news-source\" data-v-ec5a05cc>中国新闻网</span><span class=\"pubtime\" data-v-ec5a05cc>3天前</span><span class=\"reply\" data-v-ec5a05cc>26跟贴</span></div></div><div class=\"news-pic\" data-v-ec5a05cc><img src=\"//cms-bucket.ws.126.net/2019/11/22/3b349ad6b7174f78afc3fff6028c66c5.jpeg?imageView&amp;thumbnail=234y146&amp;quality=45&amp;interlace=1&amp;enlarge=1&amp;type=png\" alt=\"贸易摩擦严重冲击中国经济？美智库：高估了 \" data-v-ec5a05cc></div></a></article><article class=\"news-card card-type-news\" data-v-ec5a05cc data-v-1e1e1374><a href=\"https://3g.163.com/news/article/EUJ70D5R000189FH.html?#offset=6\" data-v-ec5a05cc><div class=\"news-info\" data-v-ec5a05cc><h3 class=\"title\" data-v-ec5a05cc>“开放带来共赢” ——记2019年创新经济论坛</h3><div class=\"detail\" data-v-ec5a05cc><!----><span class=\"news-source\" data-v-ec5a05cc>人民网-人民日报</span><!----><span class=\"reply\" data-v-ec5a05cc>0跟贴</span></div></div><div class=\"news-pic\" data-v-ec5a05cc><img src=\"//cms-bucket.ws.126.net/2019/11/22/e894e83d709549bfa3102e519300b60c.jpeg?imageView&amp;thumbnail=234y146&amp;quality=45&amp;interlace=1&amp;enlarge=1&amp;type=png\" alt=\"“开放带来共赢” ——记2019年创新经济论坛\" data-v-ec5a05cc></div></a></article><article class=\"news-card card-type-news\" data-v-ec5a05cc data-v-1e1e1374><a href=\"https://3g.163.com/news/article/E6KATJC70514HDK6.html?#offset=7\" data-v-ec5a05cc><div class=\"news-info\" data-v-ec5a05cc><h3 class=\"title\" data-v-ec5a05cc>【网络祝年】“公益慢火车”让回家的脚步更从容</h3><div class=\"detail\" data-v-ec5a05cc><!----><span class=\"news-source\" data-v-ec5a05cc>燕鸣</span><span class=\"pubtime\" data-v-ec5a05cc>3天前</span><span class=\"reply\" data-v-ec5a05cc>3跟贴</span></div></div><div class=\"news-pic\" data-v-ec5a05cc><img src=\"//dingyue.ws.126.net/NqiI2114HF4xFhOEAmH7G8Q4vj=Gf0JH4M9RDrNebXEjS1548661331028.jpeg?imageView&amp;thumbnail=234y146&amp;quality=45&amp;interlace=1&amp;enlarge=1&amp;type=png\" alt=\"【网络祝年】“公益慢火车”让回家的脚步更从容\" data-v-ec5a05cc></div></a></article><article class=\"news-card card-type-news\" data-v-ec5a05cc data-v-1e1e1374><a href=\"https://3g.163.com/news/article/E6KA44UI0514HDK6.html?#offset=8\" data-v-ec5a05cc><div class=\"news-info\" data-v-ec5a05cc><h3 class=\"title\" data-v-ec5a05cc>昔有桃园三结义，今赞携手京津冀</h3><div class=\"detail\" data-v-ec5a05cc><!----><span class=\"news-source\" data-v-ec5a05cc>燕鸣</span><span class=\"pubtime\" data-v-ec5a05cc>3天前</span><span class=\"reply\" data-v-ec5a05cc>21跟贴</span></div></div><div class=\"news-pic\" data-v-ec5a05cc><img src=\"//dingyue.ws.126.net/lyJyotefRweuq5LsXDziTFFBeL8a0PGwpKWhlL6TXHAlw1548659669892.jpeg?imageView&amp;thumbnail=234y146&amp;quality=45&amp;interlace=1&amp;enlarge=1&amp;type=png\" alt=\"昔有桃园三结义，今赞携手京津冀\" data-v-ec5a05cc></div></a></article><article class=\"news-card card-type-news\" data-v-ec5a05cc data-v-1e1e1374><a href=\"https://3g.163.com/news/article/E6K77H210514HDK6.html?#offset=9\" data-v-ec5a05cc><div class=\"news-info\" data-v-ec5a05cc><h3 class=\"title\" data-v-ec5a05cc>【网络祝年】别样年货，文化年味</h3><div class=\"detail\" data-v-ec5a05cc><!----><span class=\"news-source\" data-v-ec5a05cc>燕鸣</span><span class=\"pubtime\" data-v-ec5a05cc>3天前</span><span class=\"reply\" data-v-ec5a05cc>0跟贴</span></div></div><div class=\"news-pic\" data-v-ec5a05cc><img src=\"//dingyue.ws.126.net/t4zdLA5pPjFYV15VkXOdfP0NLRffY9B7X=ihakH1wPT9h1548657461342.jpeg?imageView&amp;thumbnail=234y146&amp;quality=45&amp;interlace=1&amp;enlarge=1&amp;type=png\" alt=\"【网络祝年】别样年货，文化年味\" data-v-ec5a05cc></div></a></article></div><div class=\"nomore\" style=\"display:none;\">没有更多新闻了</div><div class=\"loading-list\" style=\"display:none;\" data-v-472bf15e><div class=\"loader\" data-v-472bf15e><svg viewBox=\"25 25 50 50\" class=\"circular\" data-v-472bf15e><circle cx=\"50\" cy=\"50\" r=\"20\" fill=\"none\" stroke-width=\"4\" stroke-miterlimit=\"10\" class=\"path\" data-v-472bf15e></circle></svg></div></div></div></div><script>window.__INITIAL_STATE__={\"items\":{\"insert\":[{\"addata\":null,\"category\":\"新闻\",\"channel\":null,\"digest\":\"他是一名巡视组组长，用忠诚和担当扛起党和人民的重托；他是一名\",\"docid\":\"EUM2KO9N000189FH\",\"imgsrc3gtype\":1,\"imgsrcFrom\":null,\"isTop\":null,\"link\":\"https:\\\\u002F\\\\u002F3g.163.com\\\\u002Fall\\\\u002Farticle\\\\u002FEUM2KO9N000189FH.html\",\"liveInfo\":null,\"olympicCard\":null,\"picInfo\":[{\"height\":null,\"ref\":null,\"url\":\"http:\\\\u002F\\\\u002Fcms-bucket.ws.126.net\\\\u002F2019\\\\u002F11\\\\u002F23\\\\u002Fada886b8e75f4b36be972b10b1b89de7.jpeg\",\"width\":null}],\"plugin\":null,\"priority\":88,\"ptime\":\"2019-11-23 14:12:46\",\"source\":\"人民网-人民日报\",\"tag\":\"\",\"tcount\":20,\"title\":\"“没有不能揭的黑，没有不敢碰的恶” \",\"type\":\"doc\",\"typeid\":\"\",\"unlikeReason\":\"重复、旧闻\\\\u002F6,内容质量差\\\\u002F6\",\"videoInfo\":null},{\"addata\":null,\"category\":\"新闻\",\"channel\":null,\"digest\":\"新华社北京11月22日电（记者韩洁、张辛欣）“5G技术缘何会\",\"docid\":\"EUM24BRS000189FH\",\"imgsrc3gtype\":1,\"imgsrcFrom\":null,\"isTop\":null,\"link\":\"https:\\\\u002F\\\\u002F3g.163.com\\\\u002Fall\\\\u002Farticle\\\\u002FEUM24BRS000189FH.html\",\"liveInfo\":null,\"olympicCard\":null,\"picInfo\":[{\"height\":null,\"ref\":null,\"url\":\"http:\\\\u002F\\\\u002Fcms-bucket.ws.126.net\\\\u002F2019\\\\u002F11\\\\u002F23\\\\u002Fb1190b8af33c41c697f1c62466e7db1c.jpeg\",\"width\":null}],\"plugin\":null,\"priority\":88,\"ptime\":\"2019-11-23 14:03:49\",\"source\":\"新华网\",\"tag\":\"\",\"tcount\":86,\"title\":\"新华时评：5G不能被政治化 \",\"type\":\"doc\",\"typeid\":\"\",\"unlikeReason\":\"重复、旧闻\\\\u002F6,内容质量差\\\\u002F6\",\"videoInfo\":null},{\"addata\":null,\"category\":\"新闻\",\"channel\":null,\"digest\":\"“如果要谈到对世界经济的贡献，中国的贡献无疑是最大的，因为中\",\"docid\":\"EUJ790P7000189FH\",\"imgsrc3gtype\":1,\"imgsrcFrom\":null,\"isTop\":null,\"link\":\"https:\\\\u002F\\\\u002F3g.163.com\\\\u002Fall\\\\u002Farticle\\\\u002FEUJ790P7000189FH.html\",\"liveInfo\":null,\"olympicCard\":null,\"picInfo\":[{\"height\":null,\"ref\":null,\"url\":\"http:\\\\u002F\\\\u002Fcms-bucket.ws.126.net\\\\u002F2019\\\\u002F11\\\\u002F22\\\\u002Fd5793b62b5f34b4ea4b7f4f85ab715d4.jpeg\",\"width\":null}],\"plugin\":null,\"priority\":88,\"ptime\":\"2019-11-22 11:36:01\",\"source\":\"光明日报\",\"tag\":\"\",\"tcount\":26,\"title\":\"“让世界享受中国创新、开放所带来的红利” \",\"type\":\"doc\",\"typeid\":\"\",\"unlikeReason\":\"重复、旧闻\\\\u002F6,内容质量差\\\\u002F6\",\"videoInfo\":null},{\"addata\":null,\"category\":\"新闻\",\"channel\":null,\"digest\":\"中国日报网11月21日电（记者樊菲菲）中国国际经济交流中心首\",\"docid\":\"EUJ76SJ2000189FH\",\"imgsrc3gtype\":1,\"imgsrcFrom\":null,\"isTop\":null,\"link\":\"https:\\\\u002F\\\\u002F3g.163.com\\\\u002Fall\\\\u002Farticle\\\\u002FEUJ76SJ2000189FH.html\",\"liveInfo\":null,\"olympicCard\":null,\"picInfo\":[{\"height\":null,\"ref\":null,\"url\":\"http:\\\\u002F\\\\u002Fcms-bucket.ws.126.net\\\\u002F2019\\\\u002F11\\\\u002F22\\\\u002F532515ba453b47469b2b174af758418c.jpeg\",\"width\":null}],\"plugin\":null,\"priority\":88,\"ptime\":\"2019-11-22 11:34:52\",\"source\":\"中国日报\",\"tag\":\"\",\"tcount\":7,\"title\":\"推动数字技术制造业深度融合是推动高质量发展关键\",\"type\":\"doc\",\"typeid\":\"\",\"unlikeReason\":\"重复、旧闻\\\\u002F6,内容质量差\\\\u002F6\",\"videoInfo\":null},{\"addata\":null,\"category\":\"新闻\",\"channel\":null,\"digest\":\"穆巴达拉公司首席执行官哈尔墩·穆巴达拉21日在2019创新经\",\"docid\":\"EUJ75M7V000189FH\",\"imgsrc3gtype\":1,\"imgsrcFrom\":null,\"isTop\":null,\"link\":\"https:\\\\u002F\\\\u002F3g.163.com\\\\u002Fall\\\\u002Farticle\\\\u002FEUJ75M7V000189FH.html\",\"liveInfo\":null,\"olympicCard\":null,\"picInfo\":[{\"height\":null,\"ref\":null,\"url\":\"http:\\\\u002F\\\\u002Fcms-bucket.ws.126.net\\\\u002F2019\\\\u002F11\\\\u002F22\\\\u002F0e37b5455c5040db8537f2a6555dede4.jpeg\",\"width\":null}],\"plugin\":null,\"priority\":88,\"ptime\":\"2019-11-22 11:34:12\",\"source\":\"经济日报\",\"tag\":\"\",\"tcount\":85,\"title\":\"穆巴达拉公司CEO：中国是值得外国人来投资的国家\",\"type\":\"doc\",\"typeid\":\"\",\"unlikeReason\":\"重复、旧闻\\\\u002F6,内容质量差\\\\u002F6\",\"videoInfo\":null},{\"addata\":null,\"category\":\"新闻\",\"channel\":null,\"digest\":\"贸易摩擦严重冲击中国经济？21日参加2019创新经济论坛的多\",\"docid\":\"EUJ72ESB000189FH\",\"imgsrc3gtype\":1,\"imgsrcFrom\":null,\"isTop\":null,\"link\":\"https:\\\\u002F\\\\u002F3g.163.com\\\\u002Fall\\\\u002Farticle\\\\u002FEUJ72ESB000189FH.html\",\"liveInfo\":null,\"olympicCard\":null,\"picInfo\":[{\"height\":null,\"ref\":null,\"url\":\"http:\\\\u002F\\\\u002Fcms-bucket.ws.126.net\\\\u002F2019\\\\u002F11\\\\u002F22\\\\u002F3b349ad6b7174f78afc3fff6028c66c5.jpeg\",\"width\":null}],\"plugin\":null,\"priority\":88,\"ptime\":\"2019-11-22 11:32:26\",\"source\":\"中国新闻网\",\"tag\":\"\",\"tcount\":26,\"title\":\"贸易摩擦严重冲击中国经济？美智库：高估了 \",\"type\":\"doc\",\"typeid\":\"\",\"unlikeReason\":\"重复、旧闻\\\\u002F6,内容质量差\\\\u002F6\",\"videoInfo\":null},{\"addata\":null,\"category\":\"新闻\",\"channel\":null,\"digest\":\"人民网北京11月21日电（记者宦翔王远车斌李应齐韩鑫）创新，\",\"docid\":\"EUJ70D5R000189FH\",\"imgsrc3gtype\":1,\"imgsrcFrom\":null,\"isTop\":null,\"link\":\"https:\\\\u002F\\\\u002F3g.163.com\\\\u002Fall\\\\u002Farticle\\\\u002FEUJ70D5R000189FH.html\",\"liveInfo\":null,\"olympicCard\":null,\"picInfo\":[{\"height\":null,\"ref\":null,\"url\":\"http:\\\\u002F\\\\u002Fcms-bucket.ws.126.net\\\\u002F2019\\\\u002F11\\\\u002F22\\\\u002Fe894e83d709549bfa3102e519300b60c.jpeg\",\"width\":null}],\"plugin\":null,\"priority\":88,\"ptime\":\"2019-11-22 11:31:19\",\"source\":\"人民网-人民日报\",\"tag\":\"\",\"tcount\":0,\"title\":\"“开放带来共赢” ——记2019年创新经济论坛\",\"type\":\"doc\",\"typeid\":\"\",\"unlikeReason\":\"重复、旧闻\\\\u002F6,内容质量差\\\\u002F6\",\"videoInfo\":null},{\"addata\":null,\"category\":\"推荐\",\"channel\":null,\"digest\":\"1月21日，为期40天的2019年春运大幕全面拉开。虽然我们\",\"docid\":\"E6KATJC70514HDK6\",\"imgsrc3gtype\":1,\"imgsrcFrom\":null,\"isTop\":null,\"link\":\"https:\\\\u002F\\\\u002F3g.163.com\\\\u002Fall\\\\u002Farticle\\\\u002FE6KATJC70514HDK6.html\",\"liveInfo\":null,\"olympicCard\":null,\"picInfo\":[{\"height\":null,\"ref\":null,\"url\":\"http:\\\\u002F\\\\u002Fdingyue.ws.126.net\\\\u002FNqiI2114HF4xFhOEAmH7G8Q4vj=Gf0JH4M9RDrNebXEjS1548661331028.jpeg\",\"width\":null}],\"plugin\":null,\"priority\":80,\"ptime\":\"2019-01-28 15:42:13\",\"source\":\"燕鸣\",\"tag\":\"\",\"tcount\":3,\"title\":\"【网络祝年】“公益慢火车”让回家的脚步更从容\",\"type\":\"doc\",\"typeid\":\"\",\"unlikeReason\":\"重复、旧闻\\\\u002F6,内容质量差\\\\u002F6\",\"videoInfo\":null},{\"addata\":null,\"category\":\"推荐\",\"channel\":null,\"digest\":\"新的一年伊始，北京市在推进和落实京津冀协同发展的“战役”中，\",\"docid\":\"E6KA44UI0514HDK6\",\"imgsrc3gtype\":1,\"imgsrcFrom\":null,\"isTop\":null,\"link\":\"https:\\\\u002F\\\\u002F3g.163.com\\\\u002Fall\\\\u002Farticle\\\\u002FE6KA44UI0514HDK6.html\",\"liveInfo\":null,\"olympicCard\":null,\"picInfo\":[{\"height\":null,\"ref\":null,\"url\":\"http:\\\\u002F\\\\u002Fdingyue.ws.126.net\\\\u002FlyJyotefRweuq5LsXDziTFFBeL8a0PGwpKWhlL6TXHAlw1548659669892.jpeg\",\"width\":null}],\"plugin\":null,\"priority\":80,\"ptime\":\"2019-01-28 15:28:20\",\"source\":\"燕鸣\",\"tag\":\"\",\"tcount\":21,\"title\":\"昔有桃园三结义，今赞携手京津冀\",\"type\":\"doc\",\"typeid\":\"\",\"unlikeReason\":\"重复、旧闻\\\\u002F6,内容质量差\\\\u002F6\",\"videoInfo\":null},{\"addata\":null,\"category\":\"推荐\",\"channel\":null,\"digest\":\"办年货过大年，买来送人，或是自家过年用，年货是过年的必备品，\",\"docid\":\"E6K77H210514HDK6\",\"imgsrc3gtype\":1,\"imgsrcFrom\":null,\"isTop\":null,\"link\":\"https:\\\\u002F\\\\u002F3g.163.com\\\\u002Fall\\\\u002Farticle\\\\u002FE6K77H210514HDK6.html\",\"liveInfo\":null,\"olympicCard\":null,\"picInfo\":[{\"height\":null,\"ref\":null,\"url\":\"http:\\\\u002F\\\\u002Fdingyue.ws.126.net\\\\u002Ft4zdLA5pPjFYV15VkXOdfP0NLRffY9B7X=ihakH1wPT9h1548657461342.jpeg\",\"width\":null}],\"plugin\":null,\"priority\":80,\"ptime\":\"2019-01-28 14:37:45\",\"source\":\"燕鸣\",\"tag\":\"\",\"tcount\":0,\"title\":\"【网络祝年】别样年货，文化年味\",\"type\":\"doc\",\"typeid\":\"\",\"unlikeReason\":\"重复、旧闻\\\\u002F6,内容质量差\\\\u002F6\",\"videoInfo\":null}],\"focus\":[{\"liveInfo\":null,\"docid\":\"GH91H2P50001899O\",\"source\":\"央视新闻客户端\",\"title\":\"湖北随县强降雨致21人遇难4人失联\",\"priority\":256,\"hasImg\":1,\"url\":\"https:\\\\u002F\\\\u002F3g.163.com\\\\u002Fnews\\\\u002Farticle\\\\u002FGH91H2P50001899O.html\",\"skipURL\":\"http:\\\\u002F\\\\u002F3g.163.com\\\\u002Fntes\\\\u002Fspecial\\\\u002F00340EPA\\\\u002FwapSpecialModule.html?sid=S1628756046313\",\"specialID\":\"S1628756046313\",\"commentCount\":2472,\"imgsrc3gtype\":\"3\",\"stitle\":\"S1628756046313\",\"digest\":\"8月11日至12日，随县柳林镇发生极端强降雨天气。从11日2\",\"skipType\":\"special\",\"imgsrc\":\"http:\\\\u002F\\\\u002Fcms-bucket.ws.126.net\\\\u002F2021\\\\u002F0813\\\\u002F1758e20bj00qxr4i40072c000s600e3c.jpg\",\"ptime\":\"2021-08-13 08:03:43\"}],\"toutiao\":[{\"addata\":null,\"category\":\"新闻\",\"channel\":\"\",\"digest\":\"“我国建设社会主义现代化具有许多重要特征，其中之一就是我国现\",\"docid\":\"GH95GLOJ000189FH\",\"imgsrc3gtype\":0,\"imgsrcFrom\":null,\"isTop\":true,\"link\":\"https:\\\\u002F\\\\u002F3g.163.com\\\\u002Fall\\\\u002Farticle\\\\u002FGH95GLOJ000189FH.html\",\"liveInfo\":null,\"olympicCard\":null,\"picInfo\":[],\"plugin\":null,\"priority\":521,\"ptime\":\"2021-08-13 09:13:24\",\"source\":\"新华网\",\"tag\":\"\",\"tcount\":329,\"title\":\"治国理政新实践 | 绿色绘出幸福底色\",\"type\":\"doc\",\"typeid\":\"\",\"unlikeReason\":\"重复、旧闻\\\\u002F6,内容质量差\\\\u002F6\",\"videoInfo\":null},{\"addata\":null,\"category\":\"新闻\",\"channel\":\"\",\"digest\":\"“现在想要给我丈夫换一家有ECMO（人工肺）的医院几乎不可能\",\"docid\":\"GH95I3F0000189FH\",\"imgsrc3gtype\":0,\"imgsrcFrom\":\"doc\",\"isTop\":true,\"link\":\"https:\\\\u002F\\\\u002F3g.163.com\\\\u002Fall\\\\u002Farticle\\\\u002FGH95I3F0000189FH.html\",\"liveInfo\":null,\"olympicCard\":null,\"picInfo\":[],\"plugin\":null,\"priority\":520,\"ptime\":\"2021-08-13 09:14:11\",\"source\":\"央视新闻客户端\",\"tag\":\"\",\"tcount\":78,\"title\":\"美国是当之无愧的全球第一抗疫失败国\",\"type\":\"doc\",\"typeid\":\"\",\"unlikeReason\":\"重复、旧闻\\\\u002F6,内容质量差\\\\u002F6\",\"videoInfo\":null},{\"addata\":null,\"category\":\"新闻\",\"channel\":\"\",\"digest\":\"扬言美国抗疫全球第一？画家@乌合麒麟发布新作《1月20日洛杉\",\"docid\":\"GH7D2FAD000189FH\",\"imgsrc3gtype\":0,\"imgsrcFrom\":\"doc\",\"isTop\":true,\"link\":\"https:\\\\u002F\\\\u002F3g.163.com\\\\u002Fall\\\\u002Farticle\\\\u002FGH7D2FAD000189FH.html\",\"liveInfo\":null,\"olympicCard\":null,\"picInfo\":[],\"plugin\":null,\"priority\":519,\"ptime\":\"2021-08-12 16:46:58\",\"source\":\"北京日报\",\"tag\":\"\",\"tcount\":19202,\"title\":\"乌合麒麟发布新作，每个细节都是梗！\",\"type\":\"doc\",\"typeid\":\"\",\"unlikeReason\":\"重复、旧闻\\\\u002F6,内容质量差\\\\u002F6\",\"videoInfo\":null},{\"addata\":null,\"category\":\"推荐\",\"channel\":\"\",\"digest\":\"央视网消息：经过疫情防控专家组评估，从昨天（8月10日）起，\",\"docid\":\"GH7A0T0B051497H3\",\"imgsrc3gtype\":0,\"imgsrcFrom\":\"doc\",\"isTop\":true,\"link\":\"https:\\\\u002F\\\\u002F3g.163.com\\\\u002Fall\\\\u002Farticle\\\\u002FGH7A0T0B051497H3.html\",\"liveInfo\":null,\"olympicCard\":null,\"picInfo\":[],\"plugin\":null,\"priority\":518,\"ptime\":\"2021-08-12 15:54:11\",\"source\":\"国际在线\",\"tag\":\"\",\"tcount\":136,\"title\":\"南京开展江宁部分区域第7轮核酸检测\",\"type\":\"doc\",\"typeid\":\"\",\"unlikeReason\":\"重复、旧闻\\\\u002F6,内容质量差\\\\u002F6\",\"videoInfo\":null},{\"addata\":null,\"category\":\"推荐\",\"channel\":\"\",\"digest\":\"（图片来源：摄图网）已故丈夫生前花费巨资打赏女主播，妻子发现\",\"docid\":\"GH794GS30512BEVO\",\"imgsrc3gtype\":1,\"imgsrcFrom\":null,\"isTop\":null,\"link\":\"https:\\\\u002F\\\\u002F3g.163.com\\\\u002Fall\\\\u002Farticle\\\\u002FGH794GS30512BEVO.html\",\"liveInfo\":null,\"olympicCard\":null,\"picInfo\":[{\"height\":null,\"ref\":null,\"url\":\"http:\\\\u002F\\\\u002Fcms-bucket.ws.126.net\\\\u002F2021\\\\u002F0813\\\\u002Fe341a259p00qxr93z005ic000s600e3c.png\",\"width\":null}],\"plugin\":null,\"priority\":100,\"ptime\":\"2021-08-13 09:51:16\",\"source\":\"方圆\",\"tag\":\"\",\"tcount\":12657,\"title\":\"丈夫打赏女主播40万 患癌离世前告诉妻子:儿子靠你了\",\"type\":\"doc\",\"typeid\":\"\",\"unlikeReason\":\"重复、旧闻\\\\u002F6,内容质量差\\\\u002F6\",\"videoInfo\":null},{\"addata\":null,\"category\":\"推荐\",\"channel\":\"\",\"digest\":\"在四川三台县永明镇澜田坝村和天坪村合并为金翔村前，46岁的陈\",\"docid\":\"GH7S4IL3051492T3\",\"imgsrc3gtype\":1,\"imgsrcFrom\":null,\"isTop\":null,\"link\":\"https:\\\\u002F\\\\u002F3g.163.com\\\\u002Fall\\\\u002Farticle\\\\u002FGH7S4IL3051492T3.html\",\"liveInfo\":null,\"olympicCard\":null,\"picInfo\":[{\"height\":null,\"ref\":null,\"url\":\"http:\\\\u002F\\\\u002Fcms-bucket.ws.126.net\\\\u002F2021\\\\u002F0813\\\\u002Ff0a68abdj00qxr7rh001hc000s600e3c.jpg\",\"width\":null}],\"plugin\":null,\"priority\":100,\"ptime\":\"2021-08-13 09:23:35\",\"source\":\"红星新闻#\",\"tag\":\"\",\"tcount\":7085,\"title\":\"村党委书记夫妇遇袭一死一伤  嫌疑人落网时满身血迹\",\"type\":\"doc\",\"typeid\":\"\",\"unlikeReason\":\"重复、旧闻\\\\u002F6,内容质量差\\\\u002F6\",\"videoInfo\":null},{\"addata\":null,\"category\":\"推荐\",\"channel\":\"\",\"digest\":\"封面新闻记者杜恩湖甘肃金昌现场报道8月13日上午7点，著名演\",\"docid\":\"GH91SV7F0514D3UH\",\"imgsrc3gtype\":1,\"imgsrcFrom\":null,\"isTop\":null,\"link\":\"https:\\\\u002F\\\\u002F3g.163.com\\\\u002Fall\\\\u002Farticle\\\\u002FGH91SV7F0514D3UH.html\",\"liveInfo\":null,\"olympicCard\":null,\"picInfo\":[{\"height\":null,\"ref\":null,\"url\":\"http:\\\\u002F\\\\u002Fcms-bucket.ws.126.net\\\\u002F2021\\\\u002F0813\\\\u002F60622c6bp00qxr5qp004vc0009c0070c.png\",\"width\":null}],\"plugin\":null,\"priority\":100,\"ptime\":\"2021-08-13 08:29:18\",\"source\":\"封面新闻\",\"tag\":\"\",\"tcount\":23798,\"title\":\"于月仙遗体告别仪式举行 赵本山夫人等数十位名人痛悼\",\"type\":\"doc\",\"typeid\":\"\",\"unlikeReason\":\"重复、旧闻\\\\u002F6,内容质量差\\\\u002F6\",\"videoInfo\":null},{\"addata\":null,\"category\":\"推荐\",\"channel\":\"\",\"digest\":\"这是真正的深夜重磅！8月12日深夜，外交部网站发布了一条问答\",\"docid\":\"GH8TRT19052182V3\",\"imgsrc3gtype\":1,\"imgsrcFrom\":null,\"isTop\":null,\"link\":\"https:\\\\u002F\\\\u002F3g.163.com\\\\u002Fall\\\\u002Farticle\\\\u002FGH8TRT19052182V3.html\",\"liveInfo\":null,\"olympicCard\":null,\"picInfo\":[{\"height\":null,\"ref\":null,\"url\":\"http:\\\\u002F\\\\u002Fcms-bucket.ws.126.net\\\\u002F2021\\\\u002F0813\\\\u002F8715d063p00qxr72g0083c0009c0070c.png\",\"width\":null}],\"plugin\":null,\"priority\":100,\"ptime\":\"2021-08-13 07:32:37\",\"source\":\"牛弹琴\",\"tag\":\"\",\"tcount\":5946,\"title\":\"巴方通报9名中国人遇袭身亡调查进展 中方深夜回应\",\"type\":\"doc\",\"typeid\":\"\",\"unlikeReason\":\"重复、旧闻\\\\u002F6,内容质量差\\\\u002F6\",\"videoInfo\":null},{\"addata\":null,\"category\":\"推荐\",\"channel\":\"\",\"digest\":\"网传“无线观察”此前发表的评论。来源：截图江西省丰城市一教师\",\"docid\":\"GH75RQUQ0534695U\",\"imgsrc3gtype\":1,\"imgsrcFrom\":null,\"isTop\":null,\"link\":\"https:\\\\u002F\\\\u002F3g.163.com\\\\u002Fall\\\\u002Farticle\\\\u002FGH75RQUQ0534695U.html\",\"liveInfo\":null,\"olympicCard\":null,\"picInfo\":[{\"height\":null,\"ref\":null,\"url\":\"http:\\\\u002F\\\\u002Fbjnewsrec-cv.ws.126.net\\\\u002Flittle34384c6df66j00qxprwa004fd000u001cap.jpg\",\"width\":null}],\"plugin\":null,\"priority\":100,\"ptime\":\"2021-08-13 07:20:18\",\"source\":\"中国国情\",\"tag\":\"\",\"tcount\":194340,\"title\":\"教师因涉疫言论被拘15天 律师：个人观点 可行政复议\",\"type\":\"doc\",\"typeid\":\"\",\"unlikeReason\":\"重复、旧闻\\\\u002F6,内容质量差\\\\u002F6\",\"videoInfo\":null},{\"addata\":null,\"category\":\"新闻\",\"channel\":\"\",\"digest\":\"（观察者网讯）中国10日宣布召回驻立陶宛大使后，立陶宛外交部\",\"docid\":\"GH803PGG0001899O\",\"imgsrc3gtype\":1,\"imgsrcFrom\":null,\"isTop\":null,\"link\":\"https:\\\\u002F\\\\u002F3g.163.com\\\\u002Fall\\\\u002Farticle\\\\u002FGH803PGG0001899O.html\",\"liveInfo\":null,\"olympicCard\":null,\"picInfo\":[{\"height\":null,\"ref\":null,\"url\":\"http:\\\\u002F\\\\u002Fcms-bucket.ws.126.net\\\\u002F2021\\\\u002F0812\\\\u002F8d24be8ep00qxqd4s001cc0009c0070c.png\",\"width\":null}],\"plugin\":null,\"priority\":100,\"ptime\":\"2021-08-12 22:19:44\",\"source\":\"观察者网\",\"tag\":\"\",\"tcount\":35526,\"title\":\"立陶宛仍\\\\\"执迷不悟\\\\\":采取一切措施 说服中国大使回来\",\"type\":\"doc\",\"typeid\":\"\",\"unlikeReason\":\"重复、旧闻\\\\u002F6,内容质量差\\\\u002F6\",\"videoInfo\":null},{\"addata\":null,\"category\":\"推荐\",\"channel\":\"\",\"digest\":\"白宫宣布，拜登总统将在12月9日至10日举行线上虚拟的“民主\",\"docid\":\"GH7QAB9R0514R9OJ\",\"imgsrc3gtype\":1,\"imgsrcFrom\":null,\"isTop\":null,\"link\":\"https:\\\\u002F\\\\u002F3g.163.com\\\\u002Fall\\\\u002Farticle\\\\u002FGH7QAB9R0514R9OJ.html\",\"liveInfo\":null,\"olympicCard\":null,\"picInfo\":[{\"height\":null,\"ref\":null,\"url\":\"http:\\\\u002F\\\\u002Fcms-bucket.ws.126.net\\\\u002F2021\\\\u002F0812\\\\u002F9345b43ap00qxq9t2001ac0009c0070c.png\",\"width\":null}],\"plugin\":null,\"priority\":100,\"ptime\":\"2021-08-12 21:08:29\",\"source\":\"环球网资讯\",\"tag\":\"\",\"tcount\":27130,\"title\":\"拜登召开\\\\\"民主峰会\\\\\"邀请蔡英文 媒体:大陆绝会不允许\",\"type\":\"doc\",\"typeid\":\"\",\"unlikeReason\":\"重复、旧闻\\\\u002F6,内容质量差\\\\u002F6\",\"videoInfo\":null},{\"addata\":null,\"category\":\"新闻\",\"channel\":\"\",\"digest\":\"（观察者网讯）10日，中方用行动正告立陶宛政府，世界上只有一\",\"docid\":\"GH7IFK010001899O\",\"imgsrc3gtype\":1,\"imgsrcFrom\":null,\"isTop\":null,\"link\":\"https:\\\\u002F\\\\u002F3g.163.com\\\\u002Fall\\\\u002Farticle\\\\u002FGH7IFK010001899O.html\",\"liveInfo\":null,\"olympicCard\":null,\"picInfo\":[{\"height\":null,\"ref\":null,\"url\":\"http:\\\\u002F\\\\u002Fcms-bucket.ws.126.net\\\\u002F2021\\\\u002F0812\\\\u002Ffae2eef9p00qxq24u003nc0009c0070c.png\",\"width\":null}],\"plugin\":null,\"priority\":100,\"ptime\":\"2021-08-12 18:30:29\",\"source\":\"观察者网\",\"tag\":\"\",\"tcount\":20649,\"title\":\"立陶宛驻华大使：我刚到北京隔离 就收到离境通知\",\"type\":\"doc\",\"typeid\":\"\",\"unlikeReason\":\"重复、旧闻\\\\u002F6,内容质量差\\\\u002F6\",\"videoInfo\":null},{\"addata\":null,\"category\":\"推荐\",\"channel\":\"\",\"digest\":\"两家人、同一车出行，不料遭遇汽车起火意外事故。日前，佛山两条\",\"docid\":\"GH77JEDI0514R9KQ\",\"imgsrc3gtype\":1,\"imgsrcFrom\":null,\"isTop\":null,\"link\":\"https:\\\\u002F\\\\u002F3g.163.com\\\\u002Fall\\\\u002Farticle\\\\u002FGH77JEDI0514R9KQ.html\",\"liveInfo\":null,\"olympicCard\":null,\"picInfo\":[{\"height\":null,\"ref\":null,\"url\":\"http:\\\\u002F\\\\u002Fcms-bucket.ws.126.net\\\\u002F2021\\\\u002F0812\\\\u002F0b495c28p00qxpyj10010c0009c0070c.png\",\"width\":null}],\"plugin\":null,\"priority\":100,\"ptime\":\"2021-08-12 17:03:37\",\"source\":\"北青网-北京青年报\",\"tag\":\"\",\"tcount\":103638,\"title\":\"广东一家人遇车祸急救 有房有车众筹400万？最新回应\",\"type\":\"doc\",\"typeid\":\"\",\"unlikeReason\":\"重复、旧闻\\\\u002F6,内容质量差\\\\u002F6\",\"videoInfo\":null},{\"addata\":null,\"category\":\"推荐\",\"channel\":\"\",\"digest\":\"这几天，临海东塍一村民进山失联的消息，牵动着大家的心。8月9\",\"docid\":\"GH5FRGM70550OOTO\",\"imgsrc3gtype\":1,\"imgsrcFrom\":null,\"isTop\":null,\"link\":\"https:\\\\u002F\\\\u002F3g.163.com\\\\u002Fall\\\\u002Farticle\\\\u002FGH5FRGM70550OOTO.html\",\"liveInfo\":null,\"olympicCard\":null,\"picInfo\":[{\"height\":null,\"ref\":null,\"url\":\"http:\\\\u002F\\\\u002Fdingyue.ws.126.net\\\\u002F2021\\\\u002F0811\\\\u002F1885d256j00qxok6c001zc000go00cim.jpg\",\"width\":null}],\"plugin\":null,\"priority\":100,\"ptime\":\"2021-08-12 15:28:08\",\"source\":\"法制社会报\",\"tag\":\"\",\"tcount\":76328,\"title\":\"男子进山抓蜂失联3天被找到已身亡 身上还有3只蜂在蛰\",\"type\":\"doc\",\"typeid\":\"\",\"unlikeReason\":\"重复、旧闻\\\\u002F6,内容质量差\\\\u002F6\",\"videoInfo\":null},{\"addata\":null,\"category\":\"新闻\",\"channel\":\"\",\"digest\":\"刚落幕的东京奥运会上中国女排表现不佳小组赛就被淘汰朱婷因为手\",\"docid\":\"GH74KFOH00019K82\",\"imgsrc3gtype\":1,\"imgsrcFrom\":null,\"isTop\":null,\"link\":\"https:\\\\u002F\\\\u002F3g.163.com\\\\u002Fall\\\\u002Farticle\\\\u002FGH74KFOH00019K82.html\",\"liveInfo\":null,\"olympicCard\":null,\"picInfo\":[{\"height\":null,\"ref\":null,\"url\":\"http:\\\\u002F\\\\u002Fcms-bucket.ws.126.net\\\\u002F2021\\\\u002F0812\\\\u002F5a3bc791p00qxpqw90014c0009c0070c.png\",\"width\":null}],\"plugin\":null,\"priority\":100,\"ptime\":\"2021-08-12 14:26:12\",\"source\":\"上观新闻\",\"tag\":\"\",\"tcount\":59339,\"title\":\"朱婷报案央媒力挺 是什么激怒了中国女排队长？\",\"type\":\"doc\",\"typeid\":\"\",\"unlikeReason\":\"重复、旧闻\\\\u002F6,内容质量差\\\\u002F6\",\"videoInfo\":null},{\"addata\":null,\"category\":\"新闻\",\"channel\":\"\",\"digest\":\"8月12日，工商银行上海分行原行长顾国明受贿一案在上海市第一\",\"docid\":\"GH6RBHQF0001899O\",\"imgsrc3gtype\":1,\"imgsrcFrom\":null,\"isTop\":null,\"link\":\"https:\\\\u002F\\\\u002F3g.163.com\\\\u002Fall\\\\u002Farticle\\\\u002FGH6RBHQF0001899O.html\",\"liveInfo\":null,\"olympicCard\":null,\"picInfo\":[{\"height\":null,\"ref\":null,\"url\":\"http:\\\\u002F\\\\u002Fcms-bucket.ws.126.net\\\\u002F2021\\\\u002F0813\\\\u002Ffc12719dp00qxr8f3000sc0009c0070c.png\",\"width\":null}],\"plugin\":null,\"priority\":100,\"ptime\":\"2021-08-12 11:49:00\",\"source\":\"上游新闻#\",\"tag\":\"\",\"tcount\":60477,\"title\":\"被曝潜规则32名女下属的行长获无期 主动交代贪1.31亿\",\"type\":\"doc\",\"typeid\":\"\",\"unlikeReason\":\"重复、旧闻\\\\u002F6,内容质量差\\\\u002F6\",\"videoInfo\":null},{\"addata\":null,\"category\":\"推荐\",\"channel\":\"\",\"digest\":\"文|AI财经社陈畅编辑|孙月十年前PC互联网时代，当人们看电\",\"docid\":\"GH968AJK0519D3BI\",\"imgsrc3gtype\":1,\"imgsrcFrom\":null,\"isTop\":null,\"link\":\"https:\\\\u002F\\\\u002F3g.163.com\\\\u002Fall\\\\u002Farticle\\\\u002FGH968AJK0519D3BI.html\",\"liveInfo\":null,\"olympicCard\":null,\"picInfo\":[{\"height\":null,\"ref\":null,\"url\":\"http:\\\\u002F\\\\u002Fbjnewsrec-cv.ws.126.net\\\\u002Flittle75643c6538aj00qxr7zs02evc001xg01abg.jpg\",\"width\":null}],\"plugin\":null,\"priority\":80,\"ptime\":\"2021-08-13 10:50:14\",\"source\":\"AI财经社\",\"tag\":\"\",\"tcount\":43,\"title\":\"抱阿里大腿、遇劲敌抖音 靠耽改续命的优酷彻底掉队\",\"type\":\"doc\",\"typeid\":\"\",\"unlikeReason\":\"重复、旧闻\\\\u002F6,内容质量差\\\\u002F6\",\"videoInfo\":null}],\"news\":[{\"liveInfo\":null,\"docid\":\"GH794GS30512BEVO\",\"source\":\"方圆\",\"title\":\"丈夫打赏女主播40万 患癌离世前告诉妻子:儿子靠你了\",\"priority\":100,\"hasImg\":1,\"url\":\"\",\"commentCount\":12590,\"imgsrc3gtype\":\"1\",\"stitle\":\"\",\"digest\":\"（图片来源：摄图网）已故丈夫生前花费巨资打赏女主播，妻子发现\",\"imgsrc\":\"http:\\\\u002F\\\\u002Fcms-bucket.ws.126.net\\\\u002F2021\\\\u002F0813\\\\u002Fe341a259p00qxr93z005ic000s600e3c.png\",\"ptime\":\"2021-08-13 09:51:16\"},{\"liveInfo\":null,\"docid\":\"GH7S4IL3051492T3\",\"source\":\"红星新闻#\",\"title\":\"村党委书记夫妇遇袭一死一伤  嫌疑人落网时满身血迹\",\"priority\":100,\"hasImg\":1,\"url\":\"\",\"commentCount\":7085,\"imgsrc3gtype\":\"1\",\"stitle\":\"\",\"digest\":\"在四川三台县永明镇澜田坝村和天坪村合并为金翔村前，46岁的陈\",\"imgsrc\":\"http:\\\\u002F\\\\u002Fcms-bucket.ws.126.net\\\\u002F2021\\\\u002F0813\\\\u002Ff0a68abdj00qxr7rh001hc000s600e3c.jpg\",\"ptime\":\"2021-08-13 09:23:35\"},{\"liveInfo\":null,\"docid\":\"GH91SV7F0514D3UH\",\"source\":\"封面新闻\",\"title\":\"于月仙遗体告别仪式举行 赵本山夫人等数十位名人痛悼\",\"priority\":100,\"hasImg\":1,\"url\":\"\",\"commentCount\":23797,\"imgsrc3gtype\":\"1\",\"stitle\":\"\",\"digest\":\"封面新闻记者杜恩湖甘肃金昌现场报道8月13日上午7点，著名演\",\"imgsrc\":\"http:\\\\u002F\\\\u002Fcms-bucket.ws.126.net\\\\u002F2021\\\\u002F0813\\\\u002F60622c6bp00qxr5qp004vc0009c0070c.png\",\"ptime\":\"2021-08-13 08:29:18\"},{\"liveInfo\":null,\"docid\":\"GH8TRT19052182V3\",\"source\":\"牛弹琴\",\"title\":\"巴方通报9名中国人遇袭身亡调查进展 中方深夜回应\",\"priority\":100,\"hasImg\":1,\"url\":\"\",\"commentCount\":5946,\"imgsrc3gtype\":\"1\",\"stitle\":\"\",\"digest\":\"这是真正的深夜重磅！8月12日深夜，外交部网站发布了一条问答\",\"imgsrc\":\"http:\\\\u002F\\\\u002Fcms-bucket.ws.126.net\\\\u002F2021\\\\u002F0813\\\\u002F8715d063p00qxr72g0083c0009c0070c.png\",\"ptime\":\"2021-08-13 07:32:37\"},{\"liveInfo\":null,\"docid\":\"GH75RQUQ0534695U\",\"source\":\"中国国情\",\"title\":\"教师因涉疫言论被拘15天 律师：个人观点 可行政复议\",\"priority\":100,\"hasImg\":1,\"url\":\"\",\"commentCount\":194217,\"imgsrc3gtype\":\"1\",\"stitle\":\"\",\"digest\":\"网传“无线观察”此前发表的评论。来源：截图江西省丰城市一教师\",\"imgsrc\":\"http:\\\\u002F\\\\u002Fbjnewsrec-cv.ws.126.net\\\\u002Flittle34384c6df66j00qxprwa004fd000u001cap.jpg\",\"ptime\":\"2021-08-13 07:20:18\"},{\"liveInfo\":null,\"docid\":\"GH803PGG0001899O\",\"source\":\"观察者网\",\"title\":\"立陶宛仍\\\\\"执迷不悟\\\\\":采取一切措施 说服中国大使回来\",\"priority\":100,\"hasImg\":1,\"url\":\"https:\\\\u002F\\\\u002F3g.163.com\\\\u002Fnews\\\\u002Farticle\\\\u002FGH803PGG0001899O.html\",\"commentCount\":35525,\"imgsrc3gtype\":\"1\",\"stitle\":\"\",\"digest\":\"（观察者网讯）中国10日宣布召回驻立陶宛大使后，立陶宛外交部\",\"imgsrc\":\"http:\\\\u002F\\\\u002Fcms-bucket.ws.126.net\\\\u002F2021\\\\u002F0812\\\\u002F8d24be8ep00qxqd4s001cc0009c0070c.png\",\"ptime\":\"2021-08-12 22:19:44\"},{\"liveInfo\":null,\"docid\":\"GH7QAB9R0514R9OJ\",\"source\":\"环球网资讯\",\"title\":\"拜登召开\\\\\"民主峰会\\\\\"邀请蔡英文 媒体:大陆绝会不允许\",\"priority\":100,\"hasImg\":1,\"url\":\"\",\"commentCount\":27130,\"imgsrc3gtype\":\"1\",\"stitle\":\"\",\"digest\":\"白宫宣布，拜登总统将在12月9日至10日举行线上虚拟的“民主\",\"imgsrc\":\"http:\\\\u002F\\\\u002Fcms-bucket.ws.126.net\\\\u002F2021\\\\u002F0812\\\\u002F9345b43ap00qxq9t2001ac0009c0070c.png\",\"ptime\":\"2021-08-12 21:08:29\"},{\"liveInfo\":null,\"docid\":\"GH7IFK010001899O\",\"source\":\"观察者网\",\"title\":\"立陶宛驻华大使：我刚到北京隔离 就收到离境通知\",\"priority\":100,\"hasImg\":1,\"url\":\"https:\\\\u002F\\\\u002F3g.163.com\\\\u002Fnews\\\\u002Farticle\\\\u002FGH7IFK010001899O.html\",\"commentCount\":20649,\"imgsrc3gtype\":\"1\",\"stitle\":\"\",\"digest\":\"（观察者网讯）10日，中方用行动正告立陶宛政府，世界上只有一\",\"imgsrc\":\"http:\\\\u002F\\\\u002Fcms-bucket.ws.126.net\\\\u002F2021\\\\u002F0812\\\\u002Ffae2eef9p00qxq24u003nc0009c0070c.png\",\"ptime\":\"2021-08-12 18:30:29\"},{\"liveInfo\":null,\"docid\":\"GH77JEDI0514R9KQ\",\"source\":\"北青网-北京青年报\",\"title\":\"广东一家人遇车祸急救 有房有车众筹400万？最新回应\",\"priority\":100,\"hasImg\":1,\"url\":\"\",\"commentCount\":103629,\"imgsrc3gtype\":\"1\",\"stitle\":\"\",\"digest\":\"两家人、同一车出行，不料遭遇汽车起火意外事故。日前，佛山两条\",\"imgsrc\":\"http:\\\\u002F\\\\u002Fcms-bucket.ws.126.net\\\\u002F2021\\\\u002F0812\\\\u002F0b495c28p00qxpyj10010c0009c0070c.png\",\"ptime\":\"2021-08-12 17:03:37\"},{\"liveInfo\":null,\"docid\":\"GH5FRGM70550OOTO\",\"source\":\"法制社会报\",\"title\":\"男子进山抓蜂失联3天被找到已身亡 身上还有3只蜂在蛰\",\"priority\":100,\"hasImg\":1,\"url\":\"https:\\\\u002F\\\\u002F3g.163.com\\\\u002Fnews\\\\u002Farticle\\\\u002FGH5FRGM70550OOTO.html\",\"commentCount\":76328,\"imgsrc3gtype\":\"1\",\"stitle\":\"\",\"digest\":\"这几天，临海东塍一村民进山失联的消息，牵动着大家的心。8月9\",\"imgsrc\":\"http:\\\\u002F\\\\u002Fdingyue.ws.126.net\\\\u002F2021\\\\u002F0811\\\\u002F1885d256j00qxok6c001zc000go00cim.jpg\",\"ptime\":\"2021-08-12 15:28:08\"},{\"liveInfo\":null,\"docid\":\"GH74KFOH00019K82\",\"source\":\"上观新闻\",\"title\":\"朱婷报案央媒力挺 是什么激怒了中国女排队长？\",\"priority\":100,\"hasImg\":1,\"url\":\"https:\\\\u002F\\\\u002F3g.163.com\\\\u002Fnews\\\\u002Farticle\\\\u002FGH74KFOH00019K82.html\",\"commentCount\":59339,\"imgsrc3gtype\":\"1\",\"stitle\":\"\",\"digest\":\"刚落幕的东京奥运会上中国女排表现不佳小组赛就被淘汰朱婷因为手\",\"imgsrc\":\"http:\\\\u002F\\\\u002Fcms-bucket.ws.126.net\\\\u002F2021\\\\u002F0812\\\\u002F5a3bc791p00qxpqw90014c0009c0070c.png\",\"ptime\":\"2021-08-12 14:26:12\"},{\"liveInfo\":null,\"docid\":\"GH6RBHQF0001899O\",\"source\":\"上游新闻#\",\"title\":\"被曝潜规则32名女下属的行长获无期 主动交代贪1.31亿\",\"priority\":100,\"hasImg\":1,\"url\":\"https:\\\\u002F\\\\u002F3g.163.com\\\\u002Fnews\\\\u002Farticle\\\\u002FGH6RBHQF0001899O.html\",\"commentCount\":60428,\"imgsrc3gtype\":\"1\",\"stitle\":\"\",\"digest\":\"8月12日，工商银行上海分行原行长顾国明受贿一案在上海市第一\",\"imgsrc\":\"http:\\\\u002F\\\\u002Fcms-bucket.ws.126.net\\\\u002F2021\\\\u002F0813\\\\u002Ffc12719dp00qxr8f3000sc0009c0070c.png\",\"ptime\":\"2021-08-12 11:49:00\"},{\"liveInfo\":null,\"docid\":\"GH968AJK0519D3BI\",\"source\":\"AI财经社\",\"title\":\"抱阿里大腿、遇劲敌抖音 靠耽改续命的优酷彻底掉队\",\"priority\":80,\"hasImg\":1,\"url\":\"\",\"commentCount\":43,\"imgsrc3gtype\":\"1\",\"stitle\":\"\",\"digest\":\"文|AI财经社陈畅编辑|孙月十年前PC互联网时代，当人们看电\",\"imgsrc\":\"http:\\\\u002F\\\\u002Fbjnewsrec-cv.ws.126.net\\\\u002Flittle75643c6538aj00qxr7zs02evc001xg01abg.jpg\",\"ptime\":\"2021-08-13 10:50:14\"},{\"liveInfo\":null,\"docid\":\"GH81PQRR0537E3LL\",\"source\":\"娱乐E君#\",\"title\":\"曝顶流男星神社参加婚礼合影日本间谍 赵薇被拉下水?\",\"priority\":80,\"hasImg\":1,\"url\":\"https:\\\\u002F\\\\u002F3g.163.com\\\\u002Fnews\\\\u002Farticle\\\\u002FGH81PQRR0537E3LL.html\",\"commentCount\":3228,\"imgsrc3gtype\":\"1\",\"stitle\":\"\",\"digest\":\"近日，张哲瀚曾经参加综艺节目的一段视频在网络引起很大争议。今\",\"imgsrc\":\"http:\\\\u002F\\\\u002Fcms-bucket.ws.126.net\\\\u002F2021\\\\u002F0813\\\\u002Fbd493219p00qxrbms0039c0009c0070c.png\",\"ptime\":\"2021-08-13 10:48:10\"},{\"liveInfo\":null,\"docid\":\"GH9A78D50517KC40\",\"source\":\"麦大人\",\"title\":\"中国第一位跳水女皇:金牌越多越害怕 退役后\\\\\"躲\\\\\"国外\",\"priority\":80,\"hasImg\":1,\"url\":\"https:\\\\u002F\\\\u002F3g.163.com\\\\u002Fnews\\\\u002Farticle\\\\u002FGH9A78D50517KC40.html\",\"commentCount\":859,\"imgsrc3gtype\":\"1\",\"stitle\":\"\",\"digest\":\"不知不觉间，本届奥运会已经结束。不得不说，这几天的比赛当中，\",\"imgsrc\":\"http:\\\\u002F\\\\u002Fcms-bucket.ws.126.net\\\\u002F2021\\\\u002F0813\\\\u002F2dfb6c34p00qxrbe2004vc0009c0070c.png\",\"ptime\":\"2021-08-13 10:41:43\"},{\"liveInfo\":null,\"docid\":\"GH85P9D605328YVR\",\"source\":\"钟铭聊科学\",\"title\":\"北极48度高温现史前生物遗骸 被冰封的病菌会苏醒吗?\",\"priority\":80,\"hasImg\":1,\"url\":\"https:\\\\u002F\\\\u002F3g.163.com\\\\u002Fnews\\\\u002Farticle\\\\u002FGH85P9D605328YVR.html\",\"commentCount\":189,\"imgsrc3gtype\":\"1\",\"stitle\":\"\",\"digest\":\"北极，地球上环境最恶劣的地方之一，这里气温极低，常年被冰雪覆\",\"imgsrc\":\"http:\\\\u002F\\\\u002Fcms-bucket.ws.126.net\\\\u002F2021\\\\u002F0813\\\\u002F185c4deap00qxra2f0040c0009c0070c.png\",\"ptime\":\"2021-08-13 10:14:31\"},{\"liveInfo\":null,\"docid\":\"GH4FQM9E051285HS\",\"source\":\"外滩画报\",\"title\":\"上海国际学校老师自嘲像服务员:收走游戏机学生报了警\",\"priority\":80,\"hasImg\":1,\"url\":\"https:\\\\u002F\\\\u002F3g.163.com\\\\u002Fnews\\\\u002Farticle\\\\u002FGH4FQM9E051285HS.html\",\"commentCount\":2220,\"imgsrc3gtype\":\"1\",\"stitle\":\"\",\"digest\":\"在国际学校当老师体验就像服务员一言不合被投诉还有学生报警、请\",\"imgsrc\":\"http:\\\\u002F\\\\u002Fcms-bucket.ws.126.net\\\\u002F2021\\\\u002F0813\\\\u002Ff04e1802p00qxr5ni0076c0009c0070c.png\",\"ptime\":\"2021-08-13 08:46:10\"},{\"liveInfo\":null,\"docid\":\"GH6QDEP6055299GF\",\"source\":\"小娱兒#\",\"title\":\"陈露美照曝光为霍尊辞副教授现遭威胁:送你进牢关10年\",\"priority\":80,\"hasImg\":1,\"url\":\"https:\\\\u002F\\\\u002F3g.163.com\\\\u002Fnews\\\\u002Farticle\\\\u002FGH6QDEP6055299GF.html\",\"commentCount\":16070,\"imgsrc3gtype\":\"1\",\"stitle\":\"\",\"digest\":\"【作者：小娱兒】期待您的关注、转发和点赞，么么哒查看大图1、\",\"imgsrc\":\"http:\\\\u002F\\\\u002Fcms-bucket.ws.126.net\\\\u002F2021\\\\u002F0813\\\\u002F61405aa4p00qxr579002mc000s600e3c.png\",\"ptime\":\"2021-08-13 08:43:41\"},{\"liveInfo\":null,\"docid\":\"GH882AAS05521FC7\",\"source\":\"叨唠#\",\"title\":\"\\\\\"渣\\\\\"遗传?霍尊父亲抛妻弃子娶嫩模:前任现任是好朋友\",\"priority\":80,\"hasImg\":1,\"url\":\"https:\\\\u002F\\\\u002F3g.163.com\\\\u002Fnews\\\\u002Farticle\\\\u002FGH882AAS05521FC7.html\",\"commentCount\":5528,\"imgsrc3gtype\":\"1\",\"stitle\":\"\",\"digest\":\"文|王珍一编辑|嘈坊1990年9月18日，28岁的火风非常高\",\"imgsrc\":\"http:\\\\u002F\\\\u002Fcms-bucket.ws.126.net\\\\u002F2021\\\\u002F0813\\\\u002Fbf75b5c3p00qxr2jw003dc0009c0070c.png\",\"ptime\":\"2021-08-13 08:29:27\"},{\"liveInfo\":null,\"docid\":\"GH7F7DVJ05525W9O\",\"source\":\"五娃娃儿#\",\"title\":\"霍尊被曝与多人上床还炫耀\\\\\"1晚3枪\\\\\" 大尺度聊天曝光\",\"priority\":80,\"hasImg\":1,\"url\":\"\",\"commentCount\":48053,\"imgsrc3gtype\":\"1\",\"stitle\":\"\",\"digest\":\"2021年8月12日《披荆斩棘的哥哥》终于播出了，仅仅播出第\",\"imgsrc\":\"http:\\\\u002F\\\\u002Fcms-bucket.ws.126.net\\\\u002F2021\\\\u002F0813\\\\u002F59752005p00qxr2n7000wc000s600e3c.png\",\"ptime\":\"2021-08-13 07:33:39\"},{\"liveInfo\":null,\"docid\":\"GH87D4I505179RJN\",\"source\":\"萌神木木#\",\"title\":\"霍尊聊天群里都有谁?网友扒出四人 有明星还有钢琴家\",\"priority\":80,\"hasImg\":1,\"url\":\"https:\\\\u002F\\\\u002F3g.163.com\\\\u002Fnews\\\\u002Farticle\\\\u002FGH87D4I505179RJN.html\",\"commentCount\":54957,\"imgsrc3gtype\":\"1\",\"stitle\":\"\",\"digest\":\"霍尊风波愈演愈烈，在爆发争议后他丢掉了两档综艺的录制机会，后\",\"imgsrc\":\"http:\\\\u002F\\\\u002Fcms-bucket.ws.126.net\\\\u002F2021\\\\u002F0813\\\\u002Fabd76a20p00qxr2lq004nc0009c0070c.png\",\"ptime\":\"2021-08-13 07:32:53\"},{\"liveInfo\":null,\"docid\":\"GH7JCVN9051986UM\",\"source\":\"华商韬略\",\"title\":\"\\\\\"哈佛天才\\\\\"靠抽血实体企业敛财 搞垮3家中国上市公司\",\"priority\":80,\"hasImg\":1,\"url\":\"https:\\\\u002F\\\\u002F3g.163.com\\\\u002Fnews\\\\u002Farticle\\\\u002FGH7JCVN9051986UM.html\",\"commentCount\":24263,\"imgsrc3gtype\":\"1\",\"stitle\":\"\",\"digest\":\"本文系网易新闻网易号【特色成长计划】签约账号【华商韬略】原创\",\"imgsrc\":\"http:\\\\u002F\\\\u002Fcms-bucket.ws.126.net\\\\u002F2021\\\\u002F0812\\\\u002F02deed23p00qxq8j10036c0009c0070c.png\",\"ptime\":\"2021-08-12 21:52:49\"},{\"liveInfo\":null,\"docid\":\"GH75K0GM05158C06\",\"source\":\"军武次位面\",\"title\":\"首次亮相!解放军装备新型无人直升机 火力堪比武直10\",\"priority\":80,\"hasImg\":1,\"url\":\"https:\\\\u002F\\\\u002F3g.163.com\\\\u002Fnews\\\\u002Farticle\\\\u002FGH75K0GM05158C06.html\",\"commentCount\":5456,\"imgsrc3gtype\":\"1\",\"stitle\":\"\",\"digest\":\"【军武次位面】：枪栓众所周知，中国是世界无人机制造大国，曾出\",\"imgsrc\":\"http:\\\\u002F\\\\u002Fcms-bucket.ws.126.net\\\\u002F2021\\\\u002F0812\\\\u002F39f53c70p00qxq3ae0036c0009c0070c.png\",\"ptime\":\"2021-08-12 18:48:30\"},{\"liveInfo\":null,\"docid\":\"GH7HM81U00038FO9\",\"source\":\"网易娱乐#\",\"title\":\"野战嫖娼吃伟哥 自诩音乐家带\\\\\"仙气\\\\\"的霍尊这次要凉?\",\"priority\":80,\"hasImg\":1,\"url\":\"https:\\\\u002F\\\\u002F3g.163.com\\\\u002Fent\\\\u002Farticle\\\\u002FGH7HM81U00038FO9.html\",\"commentCount\":131590,\"imgsrc3gtype\":\"1\",\"stitle\":\"\",\"digest\":\"查看大图【网易娱乐明星原创栏目《八爪娱》，专注冲浪娱乐圈，带\",\"imgsrc\":\"http:\\\\u002F\\\\u002Fcms-bucket.ws.126.net\\\\u002F2021\\\\u002F0812\\\\u002F8ffcccd1p00qxq1gg001dc0009c0070c.png\",\"ptime\":\"2021-08-12 18:26:26\"},{\"liveInfo\":null,\"docid\":\"GH764RKS051285EO\",\"source\":\"新周刊\",\"title\":\"青岛新机场开通却被吐槽越搬越远 乘客：还不如高铁\",\"priority\":80,\"hasImg\":1,\"url\":\"https:\\\\u002F\\\\u002F3g.163.com\\\\u002Fnews\\\\u002Farticle\\\\u002FGH764RKS051285EO.html\",\"commentCount\":10071,\"imgsrc3gtype\":\"1\",\"stitle\":\"\",\"digest\":\"查看大图2021年8月11日，青岛，工作人员举行快闪活动，告\",\"imgsrc\":\"http:\\\\u002F\\\\u002Fcms-bucket.ws.126.net\\\\u002F2021\\\\u002F0812\\\\u002F3dc6e8edp00qxpy4y007cc0009c0070c.png\",\"ptime\":\"2021-08-12 18:20:32\"},{\"liveInfo\":null,\"docid\":\"GH7DT7FG0528CSE1\",\"source\":\"周冲的影像声色#\",\"title\":\"\\\\\"涝疫接核\\\\\"郑州人民哭了:洪水退了真正的困难却来了\",\"priority\":80,\"hasImg\":1,\"url\":\"https:\\\\u002F\\\\u002F3g.163.com\\\\u002Fnews\\\\u002Farticle\\\\u002FGH7DT7FG0528CSE1.html\",\"commentCount\":170698,\"imgsrc3gtype\":\"1\",\"stitle\":\"\",\"digest\":\"查看大图河南太难了。洪灾后的重建刚开始，疫情又接踵而至。郑州\",\"imgsrc\":\"http:\\\\u002F\\\\u002Fdingyue.ws.126.net\\\\u002F2021\\\\u002F0812\\\\u002F14c675fbj00qxpyeh0020d000ip00e1p.jpg\",\"ptime\":\"2021-08-12 18:09:17\"},{\"liveInfo\":null,\"docid\":\"GH78N57U0537IP2E\",\"source\":\"盖饭人物\",\"title\":\"名校大学生\\\\\"非5000万富二代不嫁\\\\\"被全网嘲 7年后怎样\",\"priority\":80,\"hasImg\":1,\"url\":\"https:\\\\u002F\\\\u002F3g.163.com\\\\u002Fnews\\\\u002Farticle\\\\u002FGH78N57U0537IP2E.html\",\"commentCount\":67897,\"imgsrc3gtype\":\"1\",\"stitle\":\"\",\"digest\":\"2014年，浙江卫视《相亲才会赢》节目正在招募嘉宾，一个23\",\"imgsrc\":\"http:\\\\u002F\\\\u002Fcms-bucket.ws.126.net\\\\u002F2021\\\\u002F0812\\\\u002Faa33e881p00qxpwwq001kc0009c0070c.png\",\"ptime\":\"2021-08-12 16:33:12\"},{\"liveInfo\":null,\"docid\":\"GH78S1T400038FO9\",\"source\":\"网易娱乐#\",\"title\":\"陈露晒出聊天记录 霍尊自曝两天一炮 曾与乐手一夜情\",\"priority\":80,\"hasImg\":1,\"url\":\"https:\\\\u002F\\\\u002F3g.163.com\\\\u002Fent\\\\u002Farticle\\\\u002FGH78S1T400038FO9.html\",\"commentCount\":151434,\"imgsrc3gtype\":\"1\",\"stitle\":\"\",\"digest\":\"网易娱乐8月12日报道12日下午，针对霍尊的回应，陈露晒出长\",\"imgsrc\":\"http:\\\\u002F\\\\u002Fcms-bucket.ws.126.net\\\\u002F2021\\\\u002F0812\\\\u002F9de204ebp00qxpubr000yc0009c0070c.png\",\"ptime\":\"2021-08-12 15:55:44\"},{\"liveInfo\":null,\"docid\":\"GH6SLIHG055221YJ\",\"source\":\"伯虎财经\",\"title\":\"小米发布会次日股价下挫 雷军该急的不是1个全球第1\",\"priority\":80,\"hasImg\":1,\"url\":\"\",\"commentCount\":4064,\"imgsrc3gtype\":\"1\",\"stitle\":\"\",\"digest\":\"（图源：网络）伯虎点睛：小米需要的不仅仅是一个全球第一。对于\",\"imgsrc\":\"http:\\\\u002F\\\\u002Fcms-bucket.ws.126.net\\\\u002F2021\\\\u002F0812\\\\u002Fbf6c1158p00qxptfw001jc0009c0070c.png\",\"ptime\":\"2021-08-12 15:03:54\"},{\"liveInfo\":null,\"docid\":\"GH50II1G051784VS\",\"source\":\"橘子娱乐#\",\"title\":\"出轨男星直言缺了妈妈没法活 拍照亲密动作引人不适\",\"priority\":80,\"hasImg\":1,\"url\":\"\",\"commentCount\":41775,\"imgsrc3gtype\":\"1\",\"stitle\":\"\",\"digest\":\"看到很多人吃完霍尊和陈露的瓜，都在说不理解男人为啥只能同患难\",\"imgsrc\":\"http:\\\\u002F\\\\u002Fcms-bucket.ws.126.net\\\\u002F2021\\\\u002F0812\\\\u002Fc457bd14j00qxpuym0010c0009c0070c.jpg\",\"ptime\":\"2021-08-12 15:02:07\"}]},\"route\":{\"name\":\"channel_news\",\"path\":\"\\\\u002Ftouch\\\\u002Fnews\",\"hash\":\"\",\"query\":{},\"params\":{},\"fullPath\":\"\\\\u002Ftouch\\\\u002Fnews\",\"meta\":{},\"from\":{\"name\":null,\"path\":\"\\\\u002F\",\"hash\":\"\",\"query\":{},\"params\":{},\"fullPath\":\"\\\\u002F\",\"meta\":{}}}};(function(){var s;(s=document.currentScript||document.scripts[document.scripts.length-1]).parentNode.removeChild(s);}());</script><script src=\"//static.ws.126.net/163/wap/f2e/isomorphism_news/manifest.dd0bd0936f1109d14a56.js\" defer></script><script src=\"//static.ws.126.net/163/wap/f2e/isomorphism_news/0.e6811c237828f01eeeb2.js\" defer></script><script src=\"//static.ws.126.net/163/wap/f2e/isomorphism_news/vendor.d96119b8f67129f5bd0a.js\" defer></script><script src=\"//static.ws.126.net/163/wap/f2e/isomorphism_news/app.d914efaf7d53adbae954.js\" defer></script>\\n  <script>\\n  ! function () {\\n    function n(n, e, t) {\\n      if (!n.href.match(/3g\\\\.163\\\\.com/)) return !0;\\n      var r = e.filter(function (e) {\\n        return t = e, r = n.href, !new RegExp(\"(\\\\\\\\?|#|&)\" + t + \"=.+\").test(r);\\n        var t, r\\n      }).map(function (n) {\\n        return {\\n          k: n,\\n          v: function (n) {\\n            var e = new RegExp(\"(?:\\\\\\\\?|&|#)\" + n + \"=(.*?)(?:$|&|#)\"),\\n              t = window.location.href.match(e);\\n            if (t && t[1] && t[1].length) return t[1]\\n          }(n)\\n        }\\n      }).filter(function (n) {\\n        return n.v\\n      }).map(function (n) {\\n        return n.k + \"=\" + n.v\\n      }).join(\"&\");\\n      if (r.length) {\\n        var o = n.search;\\n        return \"&\" === o.substr(-1) && (o = o.substr(0, o.length - 1)), n.search = o.length ? o + \"&\" + r : \"?\" + r, !0\\n      }\\n    }! function (e) {\\n      if (!e.length) return;\\n      if (function (n) {\\n          for (var e = !0, t = 0; t < n.length; t++) {\\n            var r = n[t];\\n            new RegExp(\"(\\\\\\\\?|#|&)\" + r + \"=\").test(window.location.href) && (e = !1)\\n          }\\n          return e\\n        }(e)) return;\\n      ! function (n, e) {\\n        document.body.addEventListener(\"click\", function (t) {\\n          for (var r = t.target; r.parentNode !== document && \"a\" !== r.tagName.toLowerCase();) r = r.parentNode;\\n          var o = r;\\n          return o !== document && o.href && o.href.indexOf(\"3g.163.com\") > -1 && n && n.call(null, o, e, t), !0\\n        })\\n      }(n, e)\\n    }([\"qd\", \"ver\"])\\n  }();\\n</script>\\n  <script> try { var codeADConfig = { article: { topBanner: [{ adid: \\'codeAD-0720-lxecqw5bd2e\\', style: \\'codeAD\\', position: 1, abTest: [3], htmlResource: \\'<div class=\"_lxecqw5bd2e\"></div> <script type=\"text/javascript\"> (window.slotbydup = window.slotbydup || []).push({ id: \"u6591751\", container: \"_lxecqw5bd2e\", async: true }); <\\\\/script> <!-- 多条广告如下脚本只需引入一次 --> <script type=\"text/javascript\" src=\"//cpro.baidustatic.com/cpro/ui/cm.js\" async=\"async\" defer=\"defer\" > <\\\\/script>\\' }], content: [{ adid: \\'codeAD-0720-m7ma4yav0y\\', style: \\'codeAD\\', abTest: [3], htmlResource: \\'<div class=\"_m7ma4yav0y\"></div> <script type=\"text/javascript\"> (window.slotbydup = window.slotbydup || []).push({ id: \"u6591750\", container: \"_m7ma4yav0y\", async: true }); <\\\\/script> <!-- 多条广告如下脚本只需引入一次 --> <script type=\"text/javascript\" src=\"//cpro.baidustatic.com/cpro/ui/cm.js\" async=\"async\" defer=\"defer\" > <\\\\/script>\\' }, { adid: \\'codeAD-0720-rvfp4qpjtxi\\', style: \\'codeAD\\', abTest: [6], htmlResource: \\'<div class=\"_rvfp4qpjtxi\"></div> <script type=\"text/javascript\"> (window.slotbydup = window.slotbydup || []).push({ id: \"u6550048\", container: \"_rvfp4qpjtxi\", async: true }); <\\\\/script> <!-- 多条广告如下脚本只需引入一次 --> <script type=\"text/javascript\" src=\"//cpro.baidustatic.com/cpro/ui/cm.js\" async=\"async\" defer=\"defer\" > <\\\\/script>\\' }], aboveTieList: [{ adid: \\'codeAD-0720-vd2o1b7n5ro\\', style: \\'codeAD\\', abTest: [6], htmlResource: \\'<div class=\"_vd2o1b7n5ro\"></div> <script type=\"text/javascript\"> (window.slotbydup = window.slotbydup || []).push({ id: \"u6597312\", container: \"_vd2o1b7n5ro\", async: true }); <\\\\/script> <!-- 多条广告如下脚本只需引入一次 --> <script type=\"text/javascript\" src=\"//cpro.baidustatic.com/cpro/ui/cm.js\" async=\"async\" defer=\"defer\" > <\\\\/script>\\' }], relateNewsList: [{ adid: \\'codeAD-0720-2x3madw0sep\\', style: \\'codeAD\\', position: 4, abTest: [9], htmlResource: \\'<div class=\"_2x3madw0sep\"></div> <script type=\"text/javascript\"> (window.slotbydup = window.slotbydup || []).push({ id: \"u6602037\", container: \"_2x3madw0sep\", async: true }); <\\\\/script> <!-- 多条广告如下脚本只需引入一次 --> <script type=\"text/javascript\" src=\"//cpro.baidustatic.com/cpro/ui/cm.js\" async=\"async\" defer=\"defer\" > <\\\\/script>\\' }, { adid: \\'codeAD-0720-ctwesbsev19\\', style: \\'codeAD\\', position: 4, abTest: [3], htmlResource: \\'<div class=\"_ctwesbsev19\"></div><script type=\"text/javascript\"> (window.slotbydup = window.slotbydup || []).push({id: \"u6596675\", container: \"_ctwesbsev19\", async: true}); <\\\\/script> <!-- 多条广告如下脚本只需引入一次 --> <script type=\"text/javascript\" src=\"//cpro.baidustatic.com/cpro/ui/cm.js\" async=\"async\" defer=\"defer\" ><\\\\/script>\\' }, { adid: \\'codeAD-0720-bo8cf06lghw\\', style: \\'codeAD\\', position: 4, abTest: [6], htmlResource: \\'<div class=\"_bo8cf06lghw\"></div> <script type=\"text/javascript\"> (window.slotbydup = window.slotbydup || []).push({ id: \"u6600368\", container: \"_bo8cf06lghw\", async: true }); <\\\\/script> <!-- 多条广告如下脚本只需引入一次 --> <script type=\"text/javascript\" src=\"//cpro.baidustatic.com/cpro/ui/cm.js\" async=\"async\" defer=\"defer\" > <\\\\/script>\\' }], hotNewsList: [ { adid: \\'codeAD-0720-0y5l4q9qzynd\\', style: \\'codeAD\\', position: 4, abTest: [9], htmlResource: \\'<div class=\"_0y5l4q9qzynd\"></div> <script type=\"text/javascript\"> (window.slotbydup = window.slotbydup || []).push({ id: \"u6602038\", container: \"_0y5l4q9qzynd\", async: true }); <\\\\/script> <!-- 多条广告如下脚本只需引入一次 --> <script type=\"text/javascript\" src=\"//cpro.baidustatic.com/cpro/ui/cm.js\" async=\"async\" defer=\"defer\" > <\\\\/script>\\' }, { adid: \\'codeAD-0720-h0ukkvl170i\\', style: \\'codeAD\\', position: 9, abTest: [9], htmlResource: \\'<div class=\"_h0ukkvl170i\"></div> <script type=\"text/javascript\"> (window.slotbydup = window.slotbydup || []).push({ id: \"u6602039\", container: \"_h0ukkvl170i\", async: true }); <\\\\/script> <!-- 多条广告如下脚本只需引入一次 --> <script type=\"text/javascript\" src=\"//cpro.baidustatic.com/cpro/ui/cm.js\" async=\"async\" defer=\"defer\" > <\\\\/script>\\' }, { adid: \\'codeAD-0720-eppfmbuqfyv\\', style: \\'codeAD\\', position: 13, abTest: [9], htmlResource: \\'<div class=\"_eppfmbuqfyv\"></div> <script type=\"text/javascript\"> (window.slotbydup = window.slotbydup || []).push({ id: \"u6602040\", container: \"_eppfmbuqfyv\", async: true }); <\\\\/script> <!-- 多条广告如下脚本只需引入一次 --> <script type=\"text/javascript\" src=\"//cpro.baidustatic.com/cpro/ui/cm.js\" async=\"async\" defer=\"defer\" > <\\\\/script>\\' }, { adid: \\'codeAD-0720-i2rxpj1evx\\', style: \\'codeAD\\', position: 17, abTest: [9], htmlResource: \\'<div class=\"_i2rxpj1evx\"></div> <script type=\"text/javascript\"> (window.slotbydup = window.slotbydup || []).push({ id: \"u6602042\", container: \"_i2rxpj1evx\", async: true }); <\\\\/script> <!-- 多条广告如下脚本只需引入一次 --> <script type=\"text/javascript\" src=\"//cpro.baidustatic.com/cpro/ui/cm.js\" async=\"async\" defer=\"defer\" > <\\\\/script>\\' }, { adid: \\'codeAD-0720-cxxqxk2xgth\\', style: \\'codeAD\\', position: 4, abTest: [3], htmlResource: \\'<div class=\"_cxxqxk2xgth\"></div> <script type=\"text/javascript\"> (window.slotbydup = window.slotbydup || []).push({ id: \"u6591752\", container: \"_cxxqxk2xgth\", async: true }); <\\\\/script> <!-- 多条广告如下脚本只需引入一次 --> <script type=\"text/javascript\" src=\"//cpro.baidustatic.com/cpro/ui/cm.js\" async=\"async\" defer=\"defer\" > <\\\\/script>\\' }, { adid: \\'codeAD-0720-fvbdd54dsau\\', style: \\'codeAD\\', position: 4, abTest: [6], htmlResource: \\'<div class=\"_fvbdd54dsau\"></div> <script type=\"text/javascript\"> (window.slotbydup = window.slotbydup || []).push({ id: \"u6600481\", container: \"_fvbdd54dsau\", async: true }); <\\\\/script> <!-- 多条广告如下脚本只需引入一次 --> <script type=\"text/javascript\" src=\"//cpro.baidustatic.com/cpro/ui/cm.js\" async=\"async\" defer=\"defer\" > <\\\\/script>\\' }, { adid: \\'codeAD-0720-yijaefuddy\\', style: \\'codeAD\\', position: 9, abTest: [3], htmlResource: \\'<div class=\"_yijaefuddy\"></div> <script type=\"text/javascript\"> (window.slotbydup = window.slotbydup || []).push({ id: \"u6591753\", container: \"_yijaefuddy\", async: true }); <\\\\/script> <!-- 多条广告如下脚本只需引入一次 --> <script type=\"text/javascript\" src=\"//cpro.baidustatic.com/cpro/ui/cm.js\" async=\"async\" defer=\"defer\" > <\\\\/script>\\' }, { adid: \\'codeAD-0720-5tu5122tlt\\', style: \\'codeAD\\', position: 9, abTest: [6], htmlResource: \\'<div class=\"_5tu5122tlt\"></div> <script type=\"text/javascript\"> (window.slotbydup = window.slotbydup || []).push({ id: \"u6600482\", container: \"_5tu5122tlt\", async: true }); <\\\\/script> <!-- 多条广告如下脚本只需引入一次 --> <script type=\"text/javascript\" src=\"//cpro.baidustatic.com/cpro/ui/cm.js\" async=\"async\" defer=\"defer\" > <\\\\/script>\\' }, { adid: \\'codeAD-0720-1e357dq4oc9\\', style: \\'codeAD\\', position: 13, abTest: [3], htmlResource: \\'<div class=\"_1e357dq4oc9\"></div> <script type=\"text/javascript\"> (window.slotbydup = window.slotbydup || []).push({ id: \"u6591766\", container: \"_1e357dq4oc9\", async: true }); <\\\\/script> <!-- 多条广告如下脚本只需引入一次 --> <script type=\"text/javascript\" src=\"//cpro.baidustatic.com/cpro/ui/cm.js\" async=\"async\" defer=\"defer\"> <\\\\/script>\\' }, { adid: \\'codeAD-0720-lohimi179ha\\', style: \\'codeAD\\', position: 13, abTest: [6], htmlResource: \\'<div class=\"_lohimi179ha\"></div> <script type=\"text/javascript\"> (window.slotbydup = window.slotbydup || []).push({ id: \"u6600483\", container: \"_lohimi179ha\", async: true }); <\\\\/script> <!-- 多条广告如下脚本只需引入一次 --> <script type=\"text/javascript\" src=\"//cpro.baidustatic.com/cpro/ui/cm.js\" async=\"async\" defer=\"defer\" > <\\\\/script>\\' }, { adid: \\'codeAD-0720-n0phaimv4t\\', style: \\'codeAD\\', position: 17, abTest: [3], htmlResource: \\'<div class=\"_n0phaimv4t\"></div> <script type=\"text/javascript\"> (window.slotbydup = window.slotbydup || []).push({ id: \"u6591767\", container: \"_n0phaimv4t\", async: true }); <\\\\/script> <!-- 多条广告如下脚本只需引入一次 --> <script type=\"text/javascript\" src=\"//cpro.baidustatic.com/cpro/ui/cm.js\" async=\"async\" defer=\"defer\" > <\\\\/script>\\' }, { adid: \\'codeAD-0720-yejfpbaz84\\', style: \\'codeAD\\', position: 17, abTest: [6], htmlResource: \\'<div class=\"_yejfpbaz84\"></div> <script type=\"text/javascript\"> (window.slotbydup = window.slotbydup || []).push({ id: \"u6600484\", container: \"_yejfpbaz84\", async: true }); <\\\\/script> <!-- 多条广告如下脚本只需引入一次 --> <script type=\"text/javascript\" src=\"//cpro.baidustatic.com/cpro/ui/cm.js\" async=\"async\" defer=\"defer\" > <\\\\/script>\\' }], }, video: { pause: [{ adid: \\'codeAD-220\\', style: \\'codeAD\\', htmlResource: \\'<script>window.reviveAsync = null;<\\\\/script><ins style=\"display: block;\" data-revive-zoneid=\"220\" data-revive-id=\"bc0ee6b32b55ca7bfb61c2a9dd1cf0c5\"></ins> <script async src=\"//ifeng3.yylady.cn/js/gtr/gtr.min.js\"><\\\\/script>\\' }], recommendList: [{ adid: \\'codeAD-rs1mp492we\\', style: \\'codeAD\\', htmlResource: \\'<div class=\"_rs1mp492we\"><\\\\/div> <script type=\"text/javascript\"> (window.slotbydup = window.slotbydup || []).push({ id: \"u6543399\", container: \"_rs1mp492we\", async: true }); <\\\\/script> <!-- 多条广告如下脚本只需引入一次 --> <script type=\"text/javascript\" src=\"//cpro.baidustatic.com/cpro/ui/cm.js\" async=\"async\" defer=\"defer\" > <\\\\/script>\\' }] }, common: { topBanner: [] } } } catch (error) {}; </script>\\n  </body>\\n</html>\\n'"
      ]
     },
     "execution_count": 1,
     "metadata": {},
     "output_type": "execute_result"
    }
   ],
   "source": [
    "# 先用浏览器打开看看页面长什么样\n",
    "# https://3g.163.com/touch/news\n",
    "\n",
    "import requests\n",
    "\n",
    "# HTTP操作，最最常用的有GET、POST这两种方法；大致原理见百度百科\n",
    "# ref: https://baike.baidu.com/item/HTTP/243074\n",
    "\n",
    "# 我们用浏览器打开一个网页，本质上就是“客户端”通过“GET方法”获取到下面结果输出的这些内容\n",
    "# 这里使用requests简单快速操作\n",
    "# requests的具体用法，详见它的官方文档\n",
    "r = requests.get(\"https://3g.163.com/touch/news\")\n",
    "\n",
    "# 设置文本编码\n",
    "r.encoding = \"utf-8\"\n",
    "\n",
    "# 查看解码后的文本内容（就是HTML代码）\n",
    "r.text"
   ]
  },
  {
   "cell_type": "code",
   "execution_count": 2,
   "id": "65b7f624",
   "metadata": {},
   "outputs": [
    {
     "data": {
      "text/plain": [
       "lxml.html.HtmlElement"
      ]
     },
     "execution_count": 2,
     "metadata": {},
     "output_type": "execute_result"
    }
   ],
   "source": [
    "# 用lxml或BeautifulSoup来解析这一堆HTML代码\n",
    "# HTML是xml的子集，是一种树形结构的数据（想一想《数据结构》里面的“树”），详见百度百科\n",
    "# ref: https://baike.baidu.com/item/HTML/97049\n",
    "\n",
    "# 网络资料有两个误区：\n",
    "# 使用lxml.etree  ——解析HTML时使用lxml.html更合适\n",
    "# 使用re 正则表达式  ——比较难用，非必要时没必要用更纠结的工具 走弯路来处理像HTML这种有规范的结构化数据\n",
    "\n",
    "# 这里用lxml演示\n",
    "\n",
    "from lxml import html\n",
    "\n",
    "# 将HTML代码转换为HtmlElement（树节点对象）\n",
    "# 目前拿到的tree对象，其实就是根节点的对象\n",
    "# 查找我们所需的信息，一般也是从根节点开始查找\n",
    "tree = html.fromstring(r.text)\n",
    "type(tree)"
   ]
  },
  {
   "cell_type": "code",
   "execution_count": 3,
   "id": "305ec99e",
   "metadata": {
    "scrolled": true
   },
   "outputs": [
    {
     "name": "stdout",
     "output_type": "stream",
     "text": [
      "[<Element a at 0x68cbbd8>, <Element a at 0x68cbc28>, <Element a at 0x68cbc78>, <Element a at 0x68cbcc8>, <Element a at 0x68cbd18>, <Element a at 0x68cbd68>, <Element a at 0x68cbdb8>, <Element a at 0x68cbe08>, <Element a at 0x68cbe58>, <Element a at 0x68cbea8>, <Element a at 0x68cbef8>, <Element a at 0x68cbf48>, <Element a at 0x68cbf98>, <Element a at 0x68da048>, <Element a at 0x68da098>, <Element a at 0x68da0e8>, <Element a at 0x68da138>, <Element a at 0x68da188>, <Element a at 0x68da1d8>, <Element a at 0x68da228>, <Element a at 0x68da278>, <Element a at 0x68da2c8>, <Element a at 0x68da318>, <Element a at 0x68da368>, <Element a at 0x68da3b8>, <Element a at 0x68da408>, <Element a at 0x68da458>, <Element a at 0x68da4a8>, <Element a at 0x68da4f8>, <Element a at 0x68da548>, <Element a at 0x68da598>, <Element a at 0x68da5e8>, <Element a at 0x68da638>, <Element a at 0x68da688>, <Element a at 0x68da6d8>, <Element a at 0x68da728>, <Element a at 0x68da778>, <Element a at 0x68da7c8>, <Element a at 0x68da818>, <Element a at 0x68da868>, <Element a at 0x68da8b8>, <Element a at 0x68da908>, <Element a at 0x68da958>, <Element a at 0x68da9a8>]\n",
      "\n",
      "治国理政新实践 | 绿色绘出幸福底色\n",
      "美国是当之无愧的全球第一抗疫失败国\n",
      "乌合麒麟发布新作，每个细节都是梗！\n",
      "南京开展江宁部分区域第7轮核酸检测\n",
      "丈夫打赏女主播40万 患癌离世前告诉妻子:儿子靠你了\n",
      "村党委书记夫妇遇袭一死一伤  嫌疑人落网时满身血迹\n",
      "于月仙遗体告别仪式举行 赵本山夫人等数十位名人痛悼\n",
      "巴方通报9名中国人遇袭身亡调查进展 中方深夜回应\n",
      "教师因涉疫言论被拘15天 律师：个人观点 可行政复议\n",
      "立陶宛仍\"执迷不悟\":采取一切措施 说服中国大使回来\n",
      "拜登召开\"民主峰会\"邀请蔡英文 媒体:大陆绝会不允许\n",
      "立陶宛驻华大使：我刚到北京隔离 就收到离境通知\n",
      "广东一家人遇车祸急救 有房有车众筹400万？最新回应\n",
      "男子进山抓蜂失联3天被找到已身亡 身上还有3只蜂在蛰\n",
      "朱婷报案央媒力挺 是什么激怒了中国女排队长？\n",
      "被曝潜规则32名女下属的行长获无期 主动交代贪1.31亿\n",
      "抱阿里大腿、遇劲敌抖音 靠耽改续命的优酷彻底掉队\n",
      "曝顶流男星神社参加婚礼合影日本间谍 赵薇被拉下水?\n",
      "中国第一位跳水女皇:金牌越多越害怕 退役后\"躲\"国外\n",
      "北极48度高温现史前生物遗骸 被冰封的病菌会苏醒吗?\n",
      "上海国际学校老师自嘲像服务员:收走游戏机学生报了警\n",
      "陈露美照曝光为霍尊辞副教授现遭威胁:送你进牢关10年\n",
      "\"渣\"遗传?霍尊父亲抛妻弃子娶嫩模:前任现任是好朋友\n",
      "霍尊被曝与多人上床还炫耀\"1晚3枪\" 大尺度聊天曝光\n",
      "霍尊聊天群里都有谁?网友扒出四人 有明星还有钢琴家\n",
      "\"哈佛天才\"靠抽血实体企业敛财 搞垮3家中国上市公司\n",
      "首次亮相!解放军装备新型无人直升机 火力堪比武直10\n",
      "野战嫖娼吃伟哥 自诩音乐家带\"仙气\"的霍尊这次要凉?\n",
      "青岛新机场开通却被吐槽越搬越远 乘客：还不如高铁\n",
      "\"涝疫接核\"郑州人民哭了:洪水退了真正的困难却来了\n",
      "名校大学生\"非5000万富二代不嫁\"被全网嘲 7年后怎样\n",
      "陈露晒出聊天记录 霍尊自曝两天一炮 曾与乐手一夜情\n",
      "小米发布会次日股价下挫 雷军该急的不是1个全球第1\n",
      "出轨男星直言缺了妈妈没法活 拍照亲密动作引人不适\n",
      "“没有不能揭的黑，没有不敢碰的恶” \n",
      "新华时评：5G不能被政治化 \n",
      "“让世界享受中国创新、开放所带来的红利” \n",
      "推动数字技术制造业深度融合是推动高质量发展关键\n",
      "穆巴达拉公司CEO：中国是值得外国人来投资的国家\n",
      "贸易摩擦严重冲击中国经济？美智库：高估了 \n",
      "“开放带来共赢” ——记2019年创新经济论坛\n",
      "【网络祝年】“公益慢火车”让回家的脚步更从容\n",
      "昔有桃园三结义，今赞携手京津冀\n",
      "【网络祝年】别样年货，文化年味\n",
      "\n",
      "//3g.163.com/news/article/GH95GLOJ000189FH.html?clickfrom=channel2018_news_newsList#offset=0\n",
      "//3g.163.com/news/article/GH95I3F0000189FH.html?clickfrom=channel2018_news_newsList#offset=1\n",
      "//3g.163.com/news/article/GH7D2FAD000189FH.html?clickfrom=channel2018_news_newsList#offset=2\n",
      "//3g.163.com/news/article/GH7A0T0B051497H3.html?clickfrom=channel2018_news_newsList#offset=3\n",
      "//3g.163.com/news/article/GH794GS30512BEVO.html?clickfrom=channel2018_news_index_newslist#child=index&offset=27420\n",
      "//3g.163.com/news/article/GH7S4IL3051492T3.html?clickfrom=channel2018_news_index_newslist#child=index&offset=27421\n",
      "//3g.163.com/news/article/GH91SV7F0514D3UH.html?clickfrom=channel2018_news_index_newslist#child=index&offset=27422\n",
      "//3g.163.com/news/article/GH8TRT19052182V3.html?clickfrom=channel2018_news_index_newslist#child=index&offset=27423\n",
      "//3g.163.com/news/article/GH75RQUQ0534695U.html?clickfrom=channel2018_news_index_newslist#child=index&offset=27424\n",
      "//3g.163.com/news/article/GH803PGG0001899O.html?clickfrom=channel2018_news_index_newslist#child=index&offset=27425\n",
      "//3g.163.com/news/article/GH7QAB9R0514R9OJ.html?clickfrom=channel2018_news_index_newslist#child=index&offset=27426\n",
      "//3g.163.com/news/article/GH7IFK010001899O.html?clickfrom=channel2018_news_index_newslist#child=index&offset=27427\n",
      "//3g.163.com/news/article/GH77JEDI0514R9KQ.html?clickfrom=channel2018_news_index_newslist#child=index&offset=27428\n",
      "//3g.163.com/news/article/GH5FRGM70550OOTO.html?clickfrom=channel2018_news_index_newslist#child=index&offset=27429\n",
      "//3g.163.com/news/article/GH74KFOH00019K82.html?clickfrom=channel2018_news_index_newslist#child=index&offset=27430\n",
      "//3g.163.com/news/article/GH6RBHQF0001899O.html?clickfrom=channel2018_news_index_newslist#child=index&offset=27431\n",
      "//3g.163.com/news/article/GH968AJK0519D3BI.html?clickfrom=channel2018_news_index_newslist#child=index&offset=27432\n",
      "//3g.163.com/news/article/GH81PQRR0537E3LL.html?clickfrom=channel2018_news_index_newslist#child=index&offset=27433\n",
      "//3g.163.com/news/article/GH9A78D50517KC40.html?clickfrom=channel2018_news_index_newslist#child=index&offset=27434\n",
      "//3g.163.com/news/article/GH85P9D605328YVR.html?clickfrom=channel2018_news_index_newslist#child=index&offset=27435\n",
      "//3g.163.com/news/article/GH4FQM9E051285HS.html?clickfrom=channel2018_news_index_newslist#child=index&offset=27436\n",
      "//3g.163.com/news/article/GH6QDEP6055299GF.html?clickfrom=channel2018_news_index_newslist#child=index&offset=27437\n",
      "//3g.163.com/news/article/GH882AAS05521FC7.html?clickfrom=channel2018_news_index_newslist#child=index&offset=27438\n",
      "//3g.163.com/news/article/GH7F7DVJ05525W9O.html?clickfrom=channel2018_news_index_newslist#child=index&offset=27439\n",
      "//3g.163.com/news/article/GH87D4I505179RJN.html?clickfrom=channel2018_news_index_newslist#child=index&offset=27440\n",
      "//3g.163.com/news/article/GH7JCVN9051986UM.html?clickfrom=channel2018_news_index_newslist#child=index&offset=27441\n",
      "//3g.163.com/news/article/GH75K0GM05158C06.html?clickfrom=channel2018_news_index_newslist#child=index&offset=27442\n",
      "//3g.163.com/news/article/GH7HM81U00038FO9.html?clickfrom=channel2018_news_index_newslist#child=index&offset=27443\n",
      "//3g.163.com/news/article/GH764RKS051285EO.html?clickfrom=channel2018_news_index_newslist#child=index&offset=27444\n",
      "//3g.163.com/news/article/GH7DT7FG0528CSE1.html?clickfrom=channel2018_news_index_newslist#child=index&offset=27445\n",
      "//3g.163.com/news/article/GH78N57U0537IP2E.html?clickfrom=channel2018_news_index_newslist#child=index&offset=27446\n",
      "//3g.163.com/news/article/GH78S1T400038FO9.html?clickfrom=channel2018_news_index_newslist#child=index&offset=27447\n",
      "//3g.163.com/news/article/GH6SLIHG055221YJ.html?clickfrom=channel2018_news_index_newslist#child=index&offset=27448\n",
      "//3g.163.com/news/article/GH50II1G051784VS.html?clickfrom=channel2018_news_index_newslist#child=index&offset=27449\n",
      "https://3g.163.com/news/article/EUM2KO9N000189FH.html?#offset=0\n",
      "https://3g.163.com/news/article/EUM24BRS000189FH.html?#offset=1\n",
      "https://3g.163.com/news/article/EUJ790P7000189FH.html?#offset=2\n",
      "https://3g.163.com/news/article/EUJ76SJ2000189FH.html?#offset=3\n",
      "https://3g.163.com/news/article/EUJ75M7V000189FH.html?#offset=4\n",
      "https://3g.163.com/news/article/EUJ72ESB000189FH.html?#offset=5\n",
      "https://3g.163.com/news/article/EUJ70D5R000189FH.html?#offset=6\n",
      "https://3g.163.com/news/article/E6KATJC70514HDK6.html?#offset=7\n",
      "https://3g.163.com/news/article/E6KA44UI0514HDK6.html?#offset=8\n",
      "https://3g.163.com/news/article/E6K77H210514HDK6.html?#offset=9\n"
     ]
    }
   ],
   "source": [
    "# 【重点讲】编写XPath提取数据\n",
    "\n",
    "# 先在F12窗口中查看元素，找到需要的信息的规律后，来编写XPath规则\n",
    "# tree.xpath()可以根据我们写的规则，返回我们需要的信息\n",
    "\n",
    "# 提取元素对象列表\n",
    "el1 = tree.xpath(\"//div[contains(@class, 'tab-content')]//article/a\")\n",
    "print(el1)\n",
    "print()\n",
    "\n",
    "el2 = tree.xpath(\"//div[contains(@class, 'tab-content')]//article//h3/text()\")\n",
    "# 提取元素中的文本内容\n",
    "for i in el2:\n",
    "    print(i)\n",
    "print()\n",
    "\n",
    "el3 = tree.xpath(\"//div[contains(@class, 'tab-content')]//article/a/@href\")\n",
    "# 提取元素中某个具体属性的值\n",
    "for i in el3:\n",
    "    print(i)"
   ]
  },
  {
   "cell_type": "code",
   "execution_count": 4,
   "id": "37302177",
   "metadata": {
    "scrolled": true
   },
   "outputs": [
    {
     "data": {
      "text/plain": [
       "['//cms-bucket.ws.126.net/2021/0813/e341a259p00qxr93z005ic000s600e3c.png?imageView&thumbnail=234y146&quality=45&interlace=1&enlarge=1&type=png',\n",
       " '//cms-bucket.ws.126.net/2021/0813/f0a68abdj00qxr7rh001hc000s600e3c.jpg?imageView&thumbnail=234y146&quality=45&interlace=1&enlarge=1&type=png',\n",
       " '//cms-bucket.ws.126.net/2021/0813/60622c6bp00qxr5qp004vc0009c0070c.png?imageView&thumbnail=234y146&quality=45&interlace=1&enlarge=1&type=png',\n",
       " '//cms-bucket.ws.126.net/2021/0813/8715d063p00qxr72g0083c0009c0070c.png?imageView&thumbnail=234y146&quality=45&interlace=1&enlarge=1&type=png',\n",
       " '//bjnewsrec-cv.ws.126.net/little34384c6df66j00qxprwa004fd000u001cap.jpg?imageView&thumbnail=234y146&quality=45&interlace=1&enlarge=1&type=png',\n",
       " '//cms-bucket.ws.126.net/2021/0812/8d24be8ep00qxqd4s001cc0009c0070c.png?imageView&thumbnail=234y146&quality=45&interlace=1&enlarge=1&type=png',\n",
       " '//cms-bucket.ws.126.net/2021/0812/9345b43ap00qxq9t2001ac0009c0070c.png?imageView&thumbnail=234y146&quality=45&interlace=1&enlarge=1&type=png',\n",
       " '//cms-bucket.ws.126.net/2021/0812/fae2eef9p00qxq24u003nc0009c0070c.png?imageView&thumbnail=234y146&quality=45&interlace=1&enlarge=1&type=png',\n",
       " '//cms-bucket.ws.126.net/2021/0812/0b495c28p00qxpyj10010c0009c0070c.png?imageView&thumbnail=234y146&quality=45&interlace=1&enlarge=1&type=png',\n",
       " '//dingyue.ws.126.net/2021/0811/1885d256j00qxok6c001zc000go00cim.jpg?imageView&thumbnail=234y146&quality=45&interlace=1&enlarge=1&type=png',\n",
       " '//cms-bucket.ws.126.net/2021/0812/5a3bc791p00qxpqw90014c0009c0070c.png?imageView&thumbnail=234y146&quality=45&interlace=1&enlarge=1&type=png',\n",
       " '//cms-bucket.ws.126.net/2021/0813/fc12719dp00qxr8f3000sc0009c0070c.png?imageView&thumbnail=234y146&quality=45&interlace=1&enlarge=1&type=png',\n",
       " '//bjnewsrec-cv.ws.126.net/little75643c6538aj00qxr7zs02evc001xg01abg.jpg?imageView&thumbnail=234y146&quality=45&interlace=1&enlarge=1&type=png',\n",
       " '//cms-bucket.ws.126.net/2021/0813/bd493219p00qxrbms0039c0009c0070c.png?imageView&thumbnail=234y146&quality=45&interlace=1&enlarge=1&type=png',\n",
       " '//cms-bucket.ws.126.net/2021/0813/2dfb6c34p00qxrbe2004vc0009c0070c.png?imageView&thumbnail=234y146&quality=45&interlace=1&enlarge=1&type=png',\n",
       " '//cms-bucket.ws.126.net/2021/0813/185c4deap00qxra2f0040c0009c0070c.png?imageView&thumbnail=234y146&quality=45&interlace=1&enlarge=1&type=png',\n",
       " '//cms-bucket.ws.126.net/2021/0813/f04e1802p00qxr5ni0076c0009c0070c.png?imageView&thumbnail=234y146&quality=45&interlace=1&enlarge=1&type=png',\n",
       " '//cms-bucket.ws.126.net/2021/0813/61405aa4p00qxr579002mc000s600e3c.png?imageView&thumbnail=234y146&quality=45&interlace=1&enlarge=1&type=png',\n",
       " '//cms-bucket.ws.126.net/2021/0813/bf75b5c3p00qxr2jw003dc0009c0070c.png?imageView&thumbnail=234y146&quality=45&interlace=1&enlarge=1&type=png',\n",
       " '//cms-bucket.ws.126.net/2021/0813/59752005p00qxr2n7000wc000s600e3c.png?imageView&thumbnail=234y146&quality=45&interlace=1&enlarge=1&type=png',\n",
       " '//cms-bucket.ws.126.net/2021/0813/abd76a20p00qxr2lq004nc0009c0070c.png?imageView&thumbnail=234y146&quality=45&interlace=1&enlarge=1&type=png',\n",
       " '//cms-bucket.ws.126.net/2021/0812/02deed23p00qxq8j10036c0009c0070c.png?imageView&thumbnail=234y146&quality=45&interlace=1&enlarge=1&type=png',\n",
       " '//cms-bucket.ws.126.net/2021/0812/39f53c70p00qxq3ae0036c0009c0070c.png?imageView&thumbnail=234y146&quality=45&interlace=1&enlarge=1&type=png',\n",
       " '//cms-bucket.ws.126.net/2021/0812/8ffcccd1p00qxq1gg001dc0009c0070c.png?imageView&thumbnail=234y146&quality=45&interlace=1&enlarge=1&type=png',\n",
       " '//cms-bucket.ws.126.net/2021/0812/3dc6e8edp00qxpy4y007cc0009c0070c.png?imageView&thumbnail=234y146&quality=45&interlace=1&enlarge=1&type=png',\n",
       " '//dingyue.ws.126.net/2021/0812/14c675fbj00qxpyeh0020d000ip00e1p.jpg?imageView&thumbnail=234y146&quality=45&interlace=1&enlarge=1&type=png',\n",
       " '//cms-bucket.ws.126.net/2021/0812/aa33e881p00qxpwwq001kc0009c0070c.png?imageView&thumbnail=234y146&quality=45&interlace=1&enlarge=1&type=png',\n",
       " '//cms-bucket.ws.126.net/2021/0812/9de204ebp00qxpubr000yc0009c0070c.png?imageView&thumbnail=234y146&quality=45&interlace=1&enlarge=1&type=png',\n",
       " '//cms-bucket.ws.126.net/2021/0812/bf6c1158p00qxptfw001jc0009c0070c.png?imageView&thumbnail=234y146&quality=45&interlace=1&enlarge=1&type=png',\n",
       " '//cms-bucket.ws.126.net/2021/0812/c457bd14j00qxpuym0010c0009c0070c.jpg?imageView&thumbnail=234y146&quality=45&interlace=1&enlarge=1&type=png',\n",
       " '//cms-bucket.ws.126.net/2019/11/23/ada886b8e75f4b36be972b10b1b89de7.jpeg?imageView&thumbnail=234y146&quality=45&interlace=1&enlarge=1&type=png',\n",
       " '//cms-bucket.ws.126.net/2019/11/23/b1190b8af33c41c697f1c62466e7db1c.jpeg?imageView&thumbnail=234y146&quality=45&interlace=1&enlarge=1&type=png',\n",
       " '//cms-bucket.ws.126.net/2019/11/22/d5793b62b5f34b4ea4b7f4f85ab715d4.jpeg?imageView&thumbnail=234y146&quality=45&interlace=1&enlarge=1&type=png',\n",
       " '//cms-bucket.ws.126.net/2019/11/22/532515ba453b47469b2b174af758418c.jpeg?imageView&thumbnail=234y146&quality=45&interlace=1&enlarge=1&type=png',\n",
       " '//cms-bucket.ws.126.net/2019/11/22/0e37b5455c5040db8537f2a6555dede4.jpeg?imageView&thumbnail=234y146&quality=45&interlace=1&enlarge=1&type=png',\n",
       " '//cms-bucket.ws.126.net/2019/11/22/3b349ad6b7174f78afc3fff6028c66c5.jpeg?imageView&thumbnail=234y146&quality=45&interlace=1&enlarge=1&type=png',\n",
       " '//cms-bucket.ws.126.net/2019/11/22/e894e83d709549bfa3102e519300b60c.jpeg?imageView&thumbnail=234y146&quality=45&interlace=1&enlarge=1&type=png',\n",
       " '//dingyue.ws.126.net/NqiI2114HF4xFhOEAmH7G8Q4vj=Gf0JH4M9RDrNebXEjS1548661331028.jpeg?imageView&thumbnail=234y146&quality=45&interlace=1&enlarge=1&type=png',\n",
       " '//dingyue.ws.126.net/lyJyotefRweuq5LsXDziTFFBeL8a0PGwpKWhlL6TXHAlw1548659669892.jpeg?imageView&thumbnail=234y146&quality=45&interlace=1&enlarge=1&type=png',\n",
       " '//dingyue.ws.126.net/t4zdLA5pPjFYV15VkXOdfP0NLRffY9B7X=ihakH1wPT9h1548657461342.jpeg?imageView&thumbnail=234y146&quality=45&interlace=1&enlarge=1&type=png']"
      ]
     },
     "execution_count": 4,
     "metadata": {},
     "output_type": "execute_result"
    }
   ],
   "source": [
    "# 提取图片，下载到本机\n",
    "\n",
    "# 先把页面上 每个新闻的封面图片链接 提取出来\n",
    "img_list = tree.xpath(\"//article//img/@src\")\n",
    "img_list"
   ]
  },
  {
   "cell_type": "code",
   "execution_count": 5,
   "id": "51806867",
   "metadata": {},
   "outputs": [],
   "source": [
    "import os\n",
    "\n",
    "# 准备输出目录\n",
    "OUTPUT_DIR = \"images\"\n",
    "os.makedirs(OUTPUT_DIR, exist_ok=True)"
   ]
  },
  {
   "cell_type": "code",
   "execution_count": 6,
   "id": "1fc28553",
   "metadata": {
    "scrolled": true
   },
   "outputs": [
    {
     "data": {
      "text/plain": [
       "['https://cms-bucket.ws.126.net/2021/0813/e341a259p00qxr93z005ic000s600e3c.png?imageView&thumbnail=234y146&quality=45&interlace=1&enlarge=1&type=png',\n",
       " 'https://cms-bucket.ws.126.net/2021/0813/f0a68abdj00qxr7rh001hc000s600e3c.jpg?imageView&thumbnail=234y146&quality=45&interlace=1&enlarge=1&type=png',\n",
       " 'https://cms-bucket.ws.126.net/2021/0813/60622c6bp00qxr5qp004vc0009c0070c.png?imageView&thumbnail=234y146&quality=45&interlace=1&enlarge=1&type=png',\n",
       " 'https://cms-bucket.ws.126.net/2021/0813/8715d063p00qxr72g0083c0009c0070c.png?imageView&thumbnail=234y146&quality=45&interlace=1&enlarge=1&type=png',\n",
       " 'https://bjnewsrec-cv.ws.126.net/little34384c6df66j00qxprwa004fd000u001cap.jpg?imageView&thumbnail=234y146&quality=45&interlace=1&enlarge=1&type=png',\n",
       " 'https://cms-bucket.ws.126.net/2021/0812/8d24be8ep00qxqd4s001cc0009c0070c.png?imageView&thumbnail=234y146&quality=45&interlace=1&enlarge=1&type=png',\n",
       " 'https://cms-bucket.ws.126.net/2021/0812/9345b43ap00qxq9t2001ac0009c0070c.png?imageView&thumbnail=234y146&quality=45&interlace=1&enlarge=1&type=png',\n",
       " 'https://cms-bucket.ws.126.net/2021/0812/fae2eef9p00qxq24u003nc0009c0070c.png?imageView&thumbnail=234y146&quality=45&interlace=1&enlarge=1&type=png',\n",
       " 'https://cms-bucket.ws.126.net/2021/0812/0b495c28p00qxpyj10010c0009c0070c.png?imageView&thumbnail=234y146&quality=45&interlace=1&enlarge=1&type=png',\n",
       " 'https://dingyue.ws.126.net/2021/0811/1885d256j00qxok6c001zc000go00cim.jpg?imageView&thumbnail=234y146&quality=45&interlace=1&enlarge=1&type=png',\n",
       " 'https://cms-bucket.ws.126.net/2021/0812/5a3bc791p00qxpqw90014c0009c0070c.png?imageView&thumbnail=234y146&quality=45&interlace=1&enlarge=1&type=png',\n",
       " 'https://cms-bucket.ws.126.net/2021/0813/fc12719dp00qxr8f3000sc0009c0070c.png?imageView&thumbnail=234y146&quality=45&interlace=1&enlarge=1&type=png',\n",
       " 'https://bjnewsrec-cv.ws.126.net/little75643c6538aj00qxr7zs02evc001xg01abg.jpg?imageView&thumbnail=234y146&quality=45&interlace=1&enlarge=1&type=png',\n",
       " 'https://cms-bucket.ws.126.net/2021/0813/bd493219p00qxrbms0039c0009c0070c.png?imageView&thumbnail=234y146&quality=45&interlace=1&enlarge=1&type=png',\n",
       " 'https://cms-bucket.ws.126.net/2021/0813/2dfb6c34p00qxrbe2004vc0009c0070c.png?imageView&thumbnail=234y146&quality=45&interlace=1&enlarge=1&type=png',\n",
       " 'https://cms-bucket.ws.126.net/2021/0813/185c4deap00qxra2f0040c0009c0070c.png?imageView&thumbnail=234y146&quality=45&interlace=1&enlarge=1&type=png',\n",
       " 'https://cms-bucket.ws.126.net/2021/0813/f04e1802p00qxr5ni0076c0009c0070c.png?imageView&thumbnail=234y146&quality=45&interlace=1&enlarge=1&type=png',\n",
       " 'https://cms-bucket.ws.126.net/2021/0813/61405aa4p00qxr579002mc000s600e3c.png?imageView&thumbnail=234y146&quality=45&interlace=1&enlarge=1&type=png',\n",
       " 'https://cms-bucket.ws.126.net/2021/0813/bf75b5c3p00qxr2jw003dc0009c0070c.png?imageView&thumbnail=234y146&quality=45&interlace=1&enlarge=1&type=png',\n",
       " 'https://cms-bucket.ws.126.net/2021/0813/59752005p00qxr2n7000wc000s600e3c.png?imageView&thumbnail=234y146&quality=45&interlace=1&enlarge=1&type=png',\n",
       " 'https://cms-bucket.ws.126.net/2021/0813/abd76a20p00qxr2lq004nc0009c0070c.png?imageView&thumbnail=234y146&quality=45&interlace=1&enlarge=1&type=png',\n",
       " 'https://cms-bucket.ws.126.net/2021/0812/02deed23p00qxq8j10036c0009c0070c.png?imageView&thumbnail=234y146&quality=45&interlace=1&enlarge=1&type=png',\n",
       " 'https://cms-bucket.ws.126.net/2021/0812/39f53c70p00qxq3ae0036c0009c0070c.png?imageView&thumbnail=234y146&quality=45&interlace=1&enlarge=1&type=png',\n",
       " 'https://cms-bucket.ws.126.net/2021/0812/8ffcccd1p00qxq1gg001dc0009c0070c.png?imageView&thumbnail=234y146&quality=45&interlace=1&enlarge=1&type=png',\n",
       " 'https://cms-bucket.ws.126.net/2021/0812/3dc6e8edp00qxpy4y007cc0009c0070c.png?imageView&thumbnail=234y146&quality=45&interlace=1&enlarge=1&type=png',\n",
       " 'https://dingyue.ws.126.net/2021/0812/14c675fbj00qxpyeh0020d000ip00e1p.jpg?imageView&thumbnail=234y146&quality=45&interlace=1&enlarge=1&type=png',\n",
       " 'https://cms-bucket.ws.126.net/2021/0812/aa33e881p00qxpwwq001kc0009c0070c.png?imageView&thumbnail=234y146&quality=45&interlace=1&enlarge=1&type=png',\n",
       " 'https://cms-bucket.ws.126.net/2021/0812/9de204ebp00qxpubr000yc0009c0070c.png?imageView&thumbnail=234y146&quality=45&interlace=1&enlarge=1&type=png',\n",
       " 'https://cms-bucket.ws.126.net/2021/0812/bf6c1158p00qxptfw001jc0009c0070c.png?imageView&thumbnail=234y146&quality=45&interlace=1&enlarge=1&type=png',\n",
       " 'https://cms-bucket.ws.126.net/2021/0812/c457bd14j00qxpuym0010c0009c0070c.jpg?imageView&thumbnail=234y146&quality=45&interlace=1&enlarge=1&type=png',\n",
       " 'https://cms-bucket.ws.126.net/2019/11/23/ada886b8e75f4b36be972b10b1b89de7.jpeg?imageView&thumbnail=234y146&quality=45&interlace=1&enlarge=1&type=png',\n",
       " 'https://cms-bucket.ws.126.net/2019/11/23/b1190b8af33c41c697f1c62466e7db1c.jpeg?imageView&thumbnail=234y146&quality=45&interlace=1&enlarge=1&type=png',\n",
       " 'https://cms-bucket.ws.126.net/2019/11/22/d5793b62b5f34b4ea4b7f4f85ab715d4.jpeg?imageView&thumbnail=234y146&quality=45&interlace=1&enlarge=1&type=png',\n",
       " 'https://cms-bucket.ws.126.net/2019/11/22/532515ba453b47469b2b174af758418c.jpeg?imageView&thumbnail=234y146&quality=45&interlace=1&enlarge=1&type=png',\n",
       " 'https://cms-bucket.ws.126.net/2019/11/22/0e37b5455c5040db8537f2a6555dede4.jpeg?imageView&thumbnail=234y146&quality=45&interlace=1&enlarge=1&type=png',\n",
       " 'https://cms-bucket.ws.126.net/2019/11/22/3b349ad6b7174f78afc3fff6028c66c5.jpeg?imageView&thumbnail=234y146&quality=45&interlace=1&enlarge=1&type=png',\n",
       " 'https://cms-bucket.ws.126.net/2019/11/22/e894e83d709549bfa3102e519300b60c.jpeg?imageView&thumbnail=234y146&quality=45&interlace=1&enlarge=1&type=png',\n",
       " 'https://dingyue.ws.126.net/NqiI2114HF4xFhOEAmH7G8Q4vj=Gf0JH4M9RDrNebXEjS1548661331028.jpeg?imageView&thumbnail=234y146&quality=45&interlace=1&enlarge=1&type=png',\n",
       " 'https://dingyue.ws.126.net/lyJyotefRweuq5LsXDziTFFBeL8a0PGwpKWhlL6TXHAlw1548659669892.jpeg?imageView&thumbnail=234y146&quality=45&interlace=1&enlarge=1&type=png',\n",
       " 'https://dingyue.ws.126.net/t4zdLA5pPjFYV15VkXOdfP0NLRffY9B7X=ihakH1wPT9h1548657461342.jpeg?imageView&thumbnail=234y146&quality=45&interlace=1&enlarge=1&type=png']"
      ]
     },
     "execution_count": 6,
     "metadata": {},
     "output_type": "execute_result"
    }
   ],
   "source": [
    "from urllib.parse import urljoin, urlparse\n",
    "\n",
    "# 预处理图片链接（抓取到的是图片的相对路径，要用原网址 即我们一开始访问的那个网址，通过urllib.parse.urljoin修正为完整链接）\n",
    "new_img_list = []\n",
    "for i in img_list:\n",
    "    img = urljoin(\"https://3g.163.com/touch/news\", i)\n",
    "    new_img_list.append(img)\n",
    "new_img_list"
   ]
  },
  {
   "cell_type": "code",
   "execution_count": 7,
   "id": "5af9248b",
   "metadata": {
    "scrolled": true
   },
   "outputs": [
    {
     "data": {
      "text/plain": [
       "['02deed23p00qxq8j10036c0009c0070c.png',\n",
       " '0b495c28p00qxpyj10010c0009c0070c.png',\n",
       " '0e37b5455c5040db8537f2a6555dede4.jpeg',\n",
       " '14c675fbj00qxpyeh0020d000ip00e1p.jpg',\n",
       " '185c4deap00qxra2f0040c0009c0070c.png',\n",
       " '1885d256j00qxok6c001zc000go00cim.jpg',\n",
       " '2dfb6c34p00qxrbe2004vc0009c0070c.png',\n",
       " '39f53c70p00qxq3ae0036c0009c0070c.png',\n",
       " '3b349ad6b7174f78afc3fff6028c66c5.jpeg',\n",
       " '3dc6e8edp00qxpy4y007cc0009c0070c.png',\n",
       " '532515ba453b47469b2b174af758418c.jpeg',\n",
       " '59752005p00qxr2n7000wc000s600e3c.png',\n",
       " '5a3bc791p00qxpqw90014c0009c0070c.png',\n",
       " '60622c6bp00qxr5qp004vc0009c0070c.png',\n",
       " '61405aa4p00qxr579002mc000s600e3c.png',\n",
       " '8715d063p00qxr72g0083c0009c0070c.png',\n",
       " '8d24be8ep00qxqd4s001cc0009c0070c.png',\n",
       " '8ffcccd1p00qxq1gg001dc0009c0070c.png',\n",
       " '9345b43ap00qxq9t2001ac0009c0070c.png',\n",
       " '9de204ebp00qxpubr000yc0009c0070c.png',\n",
       " 'aa33e881p00qxpwwq001kc0009c0070c.png',\n",
       " 'abd76a20p00qxr2lq004nc0009c0070c.png',\n",
       " 'ada886b8e75f4b36be972b10b1b89de7.jpeg',\n",
       " 'b1190b8af33c41c697f1c62466e7db1c.jpeg',\n",
       " 'bd493219p00qxrbms0039c0009c0070c.png',\n",
       " 'bf6c1158p00qxptfw001jc0009c0070c.png',\n",
       " 'bf75b5c3p00qxr2jw003dc0009c0070c.png',\n",
       " 'c457bd14j00qxpuym0010c0009c0070c.jpg',\n",
       " 'd5793b62b5f34b4ea4b7f4f85ab715d4.jpeg',\n",
       " 'e341a259p00qxr93z005ic000s600e3c.png',\n",
       " 'e894e83d709549bfa3102e519300b60c.jpeg',\n",
       " 'f04e1802p00qxr5ni0076c0009c0070c.png',\n",
       " 'f0a68abdj00qxr7rh001hc000s600e3c.jpg',\n",
       " 'fae2eef9p00qxq24u003nc0009c0070c.png',\n",
       " 'fc12719dp00qxr8f3000sc0009c0070c.png',\n",
       " 'little34384c6df66j00qxprwa004fd000u001cap.jpg',\n",
       " 'little75643c6538aj00qxr7zs02evc001xg01abg.jpg',\n",
       " 'lyJyotefRweuq5LsXDziTFFBeL8a0PGwpKWhlL6TXHAlw1548659669892.jpeg',\n",
       " 'NqiI2114HF4xFhOEAmH7G8Q4vj=Gf0JH4M9RDrNebXEjS1548661331028.jpeg',\n",
       " 't4zdLA5pPjFYV15VkXOdfP0NLRffY9B7X=ihakH1wPT9h1548657461342.jpeg']"
      ]
     },
     "execution_count": 7,
     "metadata": {},
     "output_type": "execute_result"
    }
   ],
   "source": [
    "# 下载图片（获取图片的原始数据，通过open()写入文件）\n",
    "for i in new_img_list:\n",
    "    r = requests.get(i)  # 还是通过GET方法，获取图片数据\n",
    "    filename = os.path.basename(urlparse(i).path)  # 解析出链接中的文件名\n",
    "    \n",
    "    # 拼接路径，写到指定输出目录下\n",
    "    with open(os.path.join(OUTPUT_DIR, filename), \"wb\") as fp:\n",
    "        fp.write(r.content)  # 与r.text的解码文本不同，r.content是原始的未解码数据\n",
    "\n",
    "os.listdir(OUTPUT_DIR)  # 列出目录下的文件名"
   ]
  },
  {
   "cell_type": "markdown",
   "id": "e2a17c8f",
   "metadata": {},
   "source": [
    "#### 例子2：把抓取到的内容写入文本文件、csv文件（csv类似表格）\n",
    "\n",
    "*推荐使用EmEditor、UltraEdit等编辑器来查看csv文件*"
   ]
  },
  {
   "cell_type": "code",
   "execution_count": 9,
   "id": "ff4ee206",
   "metadata": {},
   "outputs": [
    {
     "name": "stdout",
     "output_type": "stream",
     "text": [
      "44 44\n"
     ]
    }
   ],
   "source": [
    "# 继续用上面现成的新闻数据\n",
    "\n",
    "# 获取新闻标题\n",
    "news_titles = tree.xpath(\"//div[contains(@class, 'tab-content')]//article//h3/text()\")\n",
    "# 获取新闻链接\n",
    "news_links = tree.xpath(\"//div[contains(@class, 'tab-content')]//article/a/@href\")\n",
    "news_links = [urljoin(\"https://3g.163.com/touch/news\", i) for i in news_links]  # 还原为完整链接\n",
    "\n",
    "print(len(news_titles), len(news_links))  # 数量一致，大概率说明标题和链接是对应的（这里没有打算做验证，是不够严谨的哈）"
   ]
  },
  {
   "cell_type": "code",
   "execution_count": 10,
   "id": "4d3d59c4",
   "metadata": {},
   "outputs": [
    {
     "name": "stdout",
     "output_type": "stream",
     "text": [
      "治国理政新实践 | 绿色绘出幸福底色 (链接：https://3g.163.com/news/article/GH95GLOJ000189FH.html?clickfrom=channel2018_news_newsList#offset=0)\n",
      "\n",
      "美国是当之无愧的全球第一抗疫失败国 (链接：https://3g.163.com/news/article/GH95I3F0000189FH.html?clickfrom=channel2018_news_newsList#offset=1)\n",
      "\n",
      "乌合麒麟发布新作，每个细节都是梗！ (链接：https://3g.163.com/news/article/GH7D2FAD000189FH.html?clickfrom=channel2018_news_newsList#offset=2)\n",
      "\n",
      "南京开展江宁部分区域第7轮核酸检测 (链接：https://3g.163.com/news/article/GH7A0T0B051497H3.html?clickfrom=channel2018_news_newsList#offset=3)\n",
      "\n",
      "丈夫打赏女主播40万 患癌离世前告诉妻子:儿子靠你了 (链接：https://3g.163.com/news/article/GH794GS30512BEVO.html?clickfrom=channel2018_news_index_newslist#child=index&offset=27420)\n",
      "\n",
      "村党委书记夫妇遇袭一死一伤  嫌疑人落网时满身血迹 (链接：https://3g.163.com/news/article/GH7S4IL3051492T3.html?clickfrom=channel2018_news_index_newslist#child=index&offset=27421)\n",
      "\n",
      "于月仙遗体告别仪式举行 赵本山夫人等数十位名人痛悼 (链接：https://3g.163.com/news/article/GH91SV7F0514D3UH.html?clickfrom=channel2018_news_index_newslist#child=index&offset=27422)\n",
      "\n",
      "巴方通报9名中国人遇袭身亡调查进展 中方深夜回应 (链接：https://3g.163.com/news/article/GH8TRT19052182V3.html?clickfrom=channel2018_news_index_newslist#child=index&offset=27423)\n",
      "\n",
      "教师因涉疫言论被拘15天 律师：个人观点 可行政复议 (链接：https://3g.163.com/news/article/GH75RQUQ0534695U.html?clickfrom=channel2018_news_index_newslist#child=index&offset=27424)\n",
      "\n",
      "立陶宛仍\"执迷不悟\":采取一切措施 说服中国大使回来 (链接：https://3g.163.com/news/article/GH803PGG0001899O.html?clickfrom=channel2018_news_index_newslist#child=index&offset=27425)\n",
      "\n",
      "拜登召开\"民主峰会\"邀请蔡英文 媒体:大陆绝会不允许 (链接：https://3g.163.com/news/article/GH7QAB9R0514R9OJ.html?clickfrom=channel2018_news_index_newslist#child=index&offset=27426)\n",
      "\n",
      "立陶宛驻华大使：我刚到北京隔离 就收到离境通知 (链接：https://3g.163.com/news/article/GH7IFK010001899O.html?clickfrom=channel2018_news_index_newslist#child=index&offset=27427)\n",
      "\n",
      "广东一家人遇车祸急救 有房有车众筹400万？最新回应 (链接：https://3g.163.com/news/article/GH77JEDI0514R9KQ.html?clickfrom=channel2018_news_index_newslist#child=index&offset=27428)\n",
      "\n",
      "男子进山抓蜂失联3天被找到已身亡 身上还有3只蜂在蛰 (链接：https://3g.163.com/news/article/GH5FRGM70550OOTO.html?clickfrom=channel2018_news_index_newslist#child=index&offset=27429)\n",
      "\n",
      "朱婷报案央媒力挺 是什么激怒了中国女排队长？ (链接：https://3g.163.com/news/article/GH74KFOH00019K82.html?clickfrom=channel2018_news_index_newslist#child=index&offset=27430)\n",
      "\n",
      "被曝潜规则32名女下属的行长获无期 主动交代贪1.31亿 (链接：https://3g.163.com/news/article/GH6RBHQF0001899O.html?clickfrom=channel2018_news_index_newslist#child=index&offset=27431)\n",
      "\n",
      "抱阿里大腿、遇劲敌抖音 靠耽改续命的优酷彻底掉队 (链接：https://3g.163.com/news/article/GH968AJK0519D3BI.html?clickfrom=channel2018_news_index_newslist#child=index&offset=27432)\n",
      "\n",
      "曝顶流男星神社参加婚礼合影日本间谍 赵薇被拉下水? (链接：https://3g.163.com/news/article/GH81PQRR0537E3LL.html?clickfrom=channel2018_news_index_newslist#child=index&offset=27433)\n",
      "\n",
      "中国第一位跳水女皇:金牌越多越害怕 退役后\"躲\"国外 (链接：https://3g.163.com/news/article/GH9A78D50517KC40.html?clickfrom=channel2018_news_index_newslist#child=index&offset=27434)\n",
      "\n",
      "北极48度高温现史前生物遗骸 被冰封的病菌会苏醒吗? (链接：https://3g.163.com/news/article/GH85P9D605328YVR.html?clickfrom=channel2018_news_index_newslist#child=index&offset=27435)\n",
      "\n",
      "上海国际学校老师自嘲像服务员:收走游戏机学生报了警 (链接：https://3g.163.com/news/article/GH4FQM9E051285HS.html?clickfrom=channel2018_news_index_newslist#child=index&offset=27436)\n",
      "\n",
      "陈露美照曝光为霍尊辞副教授现遭威胁:送你进牢关10年 (链接：https://3g.163.com/news/article/GH6QDEP6055299GF.html?clickfrom=channel2018_news_index_newslist#child=index&offset=27437)\n",
      "\n",
      "\"渣\"遗传?霍尊父亲抛妻弃子娶嫩模:前任现任是好朋友 (链接：https://3g.163.com/news/article/GH882AAS05521FC7.html?clickfrom=channel2018_news_index_newslist#child=index&offset=27438)\n",
      "\n",
      "霍尊被曝与多人上床还炫耀\"1晚3枪\" 大尺度聊天曝光 (链接：https://3g.163.com/news/article/GH7F7DVJ05525W9O.html?clickfrom=channel2018_news_index_newslist#child=index&offset=27439)\n",
      "\n",
      "霍尊聊天群里都有谁?网友扒出四人 有明星还有钢琴家 (链接：https://3g.163.com/news/article/GH87D4I505179RJN.html?clickfrom=channel2018_news_index_newslist#child=index&offset=27440)\n",
      "\n",
      "\"哈佛天才\"靠抽血实体企业敛财 搞垮3家中国上市公司 (链接：https://3g.163.com/news/article/GH7JCVN9051986UM.html?clickfrom=channel2018_news_index_newslist#child=index&offset=27441)\n",
      "\n",
      "首次亮相!解放军装备新型无人直升机 火力堪比武直10 (链接：https://3g.163.com/news/article/GH75K0GM05158C06.html?clickfrom=channel2018_news_index_newslist#child=index&offset=27442)\n",
      "\n",
      "野战嫖娼吃伟哥 自诩音乐家带\"仙气\"的霍尊这次要凉? (链接：https://3g.163.com/news/article/GH7HM81U00038FO9.html?clickfrom=channel2018_news_index_newslist#child=index&offset=27443)\n",
      "\n",
      "青岛新机场开通却被吐槽越搬越远 乘客：还不如高铁 (链接：https://3g.163.com/news/article/GH764RKS051285EO.html?clickfrom=channel2018_news_index_newslist#child=index&offset=27444)\n",
      "\n",
      "\"涝疫接核\"郑州人民哭了:洪水退了真正的困难却来了 (链接：https://3g.163.com/news/article/GH7DT7FG0528CSE1.html?clickfrom=channel2018_news_index_newslist#child=index&offset=27445)\n",
      "\n",
      "名校大学生\"非5000万富二代不嫁\"被全网嘲 7年后怎样 (链接：https://3g.163.com/news/article/GH78N57U0537IP2E.html?clickfrom=channel2018_news_index_newslist#child=index&offset=27446)\n",
      "\n",
      "陈露晒出聊天记录 霍尊自曝两天一炮 曾与乐手一夜情 (链接：https://3g.163.com/news/article/GH78S1T400038FO9.html?clickfrom=channel2018_news_index_newslist#child=index&offset=27447)\n",
      "\n",
      "小米发布会次日股价下挫 雷军该急的不是1个全球第1 (链接：https://3g.163.com/news/article/GH6SLIHG055221YJ.html?clickfrom=channel2018_news_index_newslist#child=index&offset=27448)\n",
      "\n",
      "出轨男星直言缺了妈妈没法活 拍照亲密动作引人不适 (链接：https://3g.163.com/news/article/GH50II1G051784VS.html?clickfrom=channel2018_news_index_newslist#child=index&offset=27449)\n",
      "\n",
      "“没有不能揭的黑，没有不敢碰的恶”  (链接：https://3g.163.com/news/article/EUM2KO9N000189FH.html#offset=0)\n",
      "\n",
      "新华时评：5G不能被政治化  (链接：https://3g.163.com/news/article/EUM24BRS000189FH.html#offset=1)\n",
      "\n",
      "“让世界享受中国创新、开放所带来的红利”  (链接：https://3g.163.com/news/article/EUJ790P7000189FH.html#offset=2)\n",
      "\n",
      "推动数字技术制造业深度融合是推动高质量发展关键 (链接：https://3g.163.com/news/article/EUJ76SJ2000189FH.html#offset=3)\n",
      "\n",
      "穆巴达拉公司CEO：中国是值得外国人来投资的国家 (链接：https://3g.163.com/news/article/EUJ75M7V000189FH.html#offset=4)\n",
      "\n",
      "贸易摩擦严重冲击中国经济？美智库：高估了  (链接：https://3g.163.com/news/article/EUJ72ESB000189FH.html#offset=5)\n",
      "\n",
      "“开放带来共赢” ——记2019年创新经济论坛 (链接：https://3g.163.com/news/article/EUJ70D5R000189FH.html#offset=6)\n",
      "\n",
      "【网络祝年】“公益慢火车”让回家的脚步更从容 (链接：https://3g.163.com/news/article/E6KATJC70514HDK6.html#offset=7)\n",
      "\n",
      "昔有桃园三结义，今赞携手京津冀 (链接：https://3g.163.com/news/article/E6KA44UI0514HDK6.html#offset=8)\n",
      "\n",
      "【网络祝年】别样年货，文化年味 (链接：https://3g.163.com/news/article/E6K77H210514HDK6.html#offset=9)\n",
      "\n"
     ]
    }
   ],
   "source": [
    "# 演示：写入到文本文件\n",
    "\n",
    "# 写入\n",
    "with open(\"news.txt\", \"w\", encoding=\"utf-8\") as fp:\n",
    "    for title, link in zip(news_titles, news_links):\n",
    "        fp.write(f\"{title} (链接：{link})\\n\")\n",
    "\n",
    "# 重新读取出来查看\n",
    "with open(\"news.txt\", \"r\", encoding=\"utf-8\") as fp:\n",
    "    lines = fp.readlines()\n",
    "    for i in lines:\n",
    "        print(i)"
   ]
  },
  {
   "cell_type": "code",
   "execution_count": 11,
   "id": "80e11393",
   "metadata": {},
   "outputs": [],
   "source": [
    "# 演示：写入到csv文件（采用DictWriter方式）\n",
    "# 务必先浏览下参考资料，以下是官方文档链接\n",
    "# ref: https://docs.python.org/3.7/library/csv.html\n",
    "\n",
    "from csv import DictWriter\n",
    "\n",
    "with open(\"news.csv\", \"w\", encoding=\"utf-8\", newline='') as fp:  # 记得要加newline=''；官方文档中有说明\n",
    "    w = DictWriter(fp, fieldnames=['新闻标题', '链接'])\n",
    "    w.writeheader()  # 写入表头\n",
    "    for title, link in zip(news_titles, news_links):\n",
    "        w.writerow({\n",
    "            '新闻标题': title,\n",
    "            '链接': link,\n",
    "        })\n",
    "\n",
    "# 执行完成后，用EmEditor、UltraEdit等软件去查看news.csv"
   ]
  },
  {
   "cell_type": "markdown",
   "id": "8ca77736",
   "metadata": {},
   "source": [
    "#### 例子3：把抓取到的内容写入写入文件型数据库SQLite"
   ]
  },
  {
   "cell_type": "code",
   "execution_count": 13,
   "id": "192f6a9b",
   "metadata": {},
   "outputs": [],
   "source": [
    "# 演示：写入到sqlite数据库\n",
    "# 务必先浏览下参考资料，以下是官方文档链接\n",
    "# ref: https://docs.python.org/3.7/library/sqlite3.html\n",
    "# sqlite3这个模块是根据官方的DB-API 2.0规范开发的；\n",
    "# 改用其他关系型数据库时，如果也是根据DB-API规范来做的，那么使用方式几乎是完全一样的，\n",
    "# 只是各家数据库SQL语法可能不大一样，需要改改SQL而已\n",
    "\n",
    "import sqlite3\n",
    "\n",
    "# 为了重复运行、演示，先删除已有的数据库文件\n",
    "try:\n",
    "    os.remove(\"news.db\")\n",
    "except FileNotFoundError:\n",
    "    # 忽略文件不存在的错误\n",
    "    pass\n",
    "\n",
    "conn = sqlite3.connect(\"news.db\")"
   ]
  },
  {
   "cell_type": "code",
   "execution_count": 14,
   "id": "a81a8528",
   "metadata": {},
   "outputs": [
    {
     "data": {
      "text/plain": [
       "<sqlite3.Cursor at 0x96e0260>"
      ]
     },
     "execution_count": 14,
     "metadata": {},
     "output_type": "execute_result"
    }
   ],
   "source": [
    "c = conn.cursor()  # 获取游标（有游标才能执行sql查询、通过游标获取数据，等等）\n",
    "\n",
    "c.execute(\"\"\"\n",
    "CREATE TABLE news (title text, link text)\n",
    "\"\"\")  # 一开始什么表都没有，要先建立表结构"
   ]
  },
  {
   "cell_type": "code",
   "execution_count": 15,
   "id": "b548e222",
   "metadata": {},
   "outputs": [],
   "source": [
    "c.executemany(\"\"\"\n",
    "INSERT INTO news VALUES (?,?)\n",
    "\"\"\", zip(news_titles, news_links))  # 批量把数据插入数据库表中\n",
    "conn.commit()  # “提交”表示确认本次的修改操作"
   ]
  },
  {
   "cell_type": "code",
   "execution_count": 16,
   "id": "4945a5e4",
   "metadata": {
    "scrolled": true
   },
   "outputs": [
    {
     "data": {
      "text/plain": [
       "[('治国理政新实践 | 绿色绘出幸福底色',\n",
       "  'https://3g.163.com/news/article/GH95GLOJ000189FH.html?clickfrom=channel2018_news_newsList#offset=0'),\n",
       " ('美国是当之无愧的全球第一抗疫失败国',\n",
       "  'https://3g.163.com/news/article/GH95I3F0000189FH.html?clickfrom=channel2018_news_newsList#offset=1'),\n",
       " ('乌合麒麟发布新作，每个细节都是梗！',\n",
       "  'https://3g.163.com/news/article/GH7D2FAD000189FH.html?clickfrom=channel2018_news_newsList#offset=2'),\n",
       " ('南京开展江宁部分区域第7轮核酸检测',\n",
       "  'https://3g.163.com/news/article/GH7A0T0B051497H3.html?clickfrom=channel2018_news_newsList#offset=3'),\n",
       " ('丈夫打赏女主播40万 患癌离世前告诉妻子:儿子靠你了',\n",
       "  'https://3g.163.com/news/article/GH794GS30512BEVO.html?clickfrom=channel2018_news_index_newslist#child=index&offset=27420'),\n",
       " ('村党委书记夫妇遇袭一死一伤  嫌疑人落网时满身血迹',\n",
       "  'https://3g.163.com/news/article/GH7S4IL3051492T3.html?clickfrom=channel2018_news_index_newslist#child=index&offset=27421'),\n",
       " ('于月仙遗体告别仪式举行 赵本山夫人等数十位名人痛悼',\n",
       "  'https://3g.163.com/news/article/GH91SV7F0514D3UH.html?clickfrom=channel2018_news_index_newslist#child=index&offset=27422'),\n",
       " ('巴方通报9名中国人遇袭身亡调查进展 中方深夜回应',\n",
       "  'https://3g.163.com/news/article/GH8TRT19052182V3.html?clickfrom=channel2018_news_index_newslist#child=index&offset=27423'),\n",
       " ('教师因涉疫言论被拘15天 律师：个人观点 可行政复议',\n",
       "  'https://3g.163.com/news/article/GH75RQUQ0534695U.html?clickfrom=channel2018_news_index_newslist#child=index&offset=27424'),\n",
       " ('立陶宛仍\"执迷不悟\":采取一切措施 说服中国大使回来',\n",
       "  'https://3g.163.com/news/article/GH803PGG0001899O.html?clickfrom=channel2018_news_index_newslist#child=index&offset=27425'),\n",
       " ('拜登召开\"民主峰会\"邀请蔡英文 媒体:大陆绝会不允许',\n",
       "  'https://3g.163.com/news/article/GH7QAB9R0514R9OJ.html?clickfrom=channel2018_news_index_newslist#child=index&offset=27426'),\n",
       " ('立陶宛驻华大使：我刚到北京隔离 就收到离境通知',\n",
       "  'https://3g.163.com/news/article/GH7IFK010001899O.html?clickfrom=channel2018_news_index_newslist#child=index&offset=27427'),\n",
       " ('广东一家人遇车祸急救 有房有车众筹400万？最新回应',\n",
       "  'https://3g.163.com/news/article/GH77JEDI0514R9KQ.html?clickfrom=channel2018_news_index_newslist#child=index&offset=27428'),\n",
       " ('男子进山抓蜂失联3天被找到已身亡 身上还有3只蜂在蛰',\n",
       "  'https://3g.163.com/news/article/GH5FRGM70550OOTO.html?clickfrom=channel2018_news_index_newslist#child=index&offset=27429'),\n",
       " ('朱婷报案央媒力挺 是什么激怒了中国女排队长？',\n",
       "  'https://3g.163.com/news/article/GH74KFOH00019K82.html?clickfrom=channel2018_news_index_newslist#child=index&offset=27430'),\n",
       " ('被曝潜规则32名女下属的行长获无期 主动交代贪1.31亿',\n",
       "  'https://3g.163.com/news/article/GH6RBHQF0001899O.html?clickfrom=channel2018_news_index_newslist#child=index&offset=27431'),\n",
       " ('抱阿里大腿、遇劲敌抖音 靠耽改续命的优酷彻底掉队',\n",
       "  'https://3g.163.com/news/article/GH968AJK0519D3BI.html?clickfrom=channel2018_news_index_newslist#child=index&offset=27432'),\n",
       " ('曝顶流男星神社参加婚礼合影日本间谍 赵薇被拉下水?',\n",
       "  'https://3g.163.com/news/article/GH81PQRR0537E3LL.html?clickfrom=channel2018_news_index_newslist#child=index&offset=27433'),\n",
       " ('中国第一位跳水女皇:金牌越多越害怕 退役后\"躲\"国外',\n",
       "  'https://3g.163.com/news/article/GH9A78D50517KC40.html?clickfrom=channel2018_news_index_newslist#child=index&offset=27434'),\n",
       " ('北极48度高温现史前生物遗骸 被冰封的病菌会苏醒吗?',\n",
       "  'https://3g.163.com/news/article/GH85P9D605328YVR.html?clickfrom=channel2018_news_index_newslist#child=index&offset=27435'),\n",
       " ('上海国际学校老师自嘲像服务员:收走游戏机学生报了警',\n",
       "  'https://3g.163.com/news/article/GH4FQM9E051285HS.html?clickfrom=channel2018_news_index_newslist#child=index&offset=27436'),\n",
       " ('陈露美照曝光为霍尊辞副教授现遭威胁:送你进牢关10年',\n",
       "  'https://3g.163.com/news/article/GH6QDEP6055299GF.html?clickfrom=channel2018_news_index_newslist#child=index&offset=27437'),\n",
       " ('\"渣\"遗传?霍尊父亲抛妻弃子娶嫩模:前任现任是好朋友',\n",
       "  'https://3g.163.com/news/article/GH882AAS05521FC7.html?clickfrom=channel2018_news_index_newslist#child=index&offset=27438'),\n",
       " ('霍尊被曝与多人上床还炫耀\"1晚3枪\" 大尺度聊天曝光',\n",
       "  'https://3g.163.com/news/article/GH7F7DVJ05525W9O.html?clickfrom=channel2018_news_index_newslist#child=index&offset=27439'),\n",
       " ('霍尊聊天群里都有谁?网友扒出四人 有明星还有钢琴家',\n",
       "  'https://3g.163.com/news/article/GH87D4I505179RJN.html?clickfrom=channel2018_news_index_newslist#child=index&offset=27440'),\n",
       " ('\"哈佛天才\"靠抽血实体企业敛财 搞垮3家中国上市公司',\n",
       "  'https://3g.163.com/news/article/GH7JCVN9051986UM.html?clickfrom=channel2018_news_index_newslist#child=index&offset=27441'),\n",
       " ('首次亮相!解放军装备新型无人直升机 火力堪比武直10',\n",
       "  'https://3g.163.com/news/article/GH75K0GM05158C06.html?clickfrom=channel2018_news_index_newslist#child=index&offset=27442'),\n",
       " ('野战嫖娼吃伟哥 自诩音乐家带\"仙气\"的霍尊这次要凉?',\n",
       "  'https://3g.163.com/news/article/GH7HM81U00038FO9.html?clickfrom=channel2018_news_index_newslist#child=index&offset=27443'),\n",
       " ('青岛新机场开通却被吐槽越搬越远 乘客：还不如高铁',\n",
       "  'https://3g.163.com/news/article/GH764RKS051285EO.html?clickfrom=channel2018_news_index_newslist#child=index&offset=27444'),\n",
       " ('\"涝疫接核\"郑州人民哭了:洪水退了真正的困难却来了',\n",
       "  'https://3g.163.com/news/article/GH7DT7FG0528CSE1.html?clickfrom=channel2018_news_index_newslist#child=index&offset=27445'),\n",
       " ('名校大学生\"非5000万富二代不嫁\"被全网嘲 7年后怎样',\n",
       "  'https://3g.163.com/news/article/GH78N57U0537IP2E.html?clickfrom=channel2018_news_index_newslist#child=index&offset=27446'),\n",
       " ('陈露晒出聊天记录 霍尊自曝两天一炮 曾与乐手一夜情',\n",
       "  'https://3g.163.com/news/article/GH78S1T400038FO9.html?clickfrom=channel2018_news_index_newslist#child=index&offset=27447'),\n",
       " ('小米发布会次日股价下挫 雷军该急的不是1个全球第1',\n",
       "  'https://3g.163.com/news/article/GH6SLIHG055221YJ.html?clickfrom=channel2018_news_index_newslist#child=index&offset=27448'),\n",
       " ('出轨男星直言缺了妈妈没法活 拍照亲密动作引人不适',\n",
       "  'https://3g.163.com/news/article/GH50II1G051784VS.html?clickfrom=channel2018_news_index_newslist#child=index&offset=27449'),\n",
       " ('“没有不能揭的黑，没有不敢碰的恶” ',\n",
       "  'https://3g.163.com/news/article/EUM2KO9N000189FH.html#offset=0'),\n",
       " ('新华时评：5G不能被政治化 ',\n",
       "  'https://3g.163.com/news/article/EUM24BRS000189FH.html#offset=1'),\n",
       " ('“让世界享受中国创新、开放所带来的红利” ',\n",
       "  'https://3g.163.com/news/article/EUJ790P7000189FH.html#offset=2'),\n",
       " ('推动数字技术制造业深度融合是推动高质量发展关键',\n",
       "  'https://3g.163.com/news/article/EUJ76SJ2000189FH.html#offset=3'),\n",
       " ('穆巴达拉公司CEO：中国是值得外国人来投资的国家',\n",
       "  'https://3g.163.com/news/article/EUJ75M7V000189FH.html#offset=4'),\n",
       " ('贸易摩擦严重冲击中国经济？美智库：高估了 ',\n",
       "  'https://3g.163.com/news/article/EUJ72ESB000189FH.html#offset=5'),\n",
       " ('“开放带来共赢” ——记2019年创新经济论坛',\n",
       "  'https://3g.163.com/news/article/EUJ70D5R000189FH.html#offset=6'),\n",
       " ('【网络祝年】“公益慢火车”让回家的脚步更从容',\n",
       "  'https://3g.163.com/news/article/E6KATJC70514HDK6.html#offset=7'),\n",
       " ('昔有桃园三结义，今赞携手京津冀',\n",
       "  'https://3g.163.com/news/article/E6KA44UI0514HDK6.html#offset=8'),\n",
       " ('【网络祝年】别样年货，文化年味',\n",
       "  'https://3g.163.com/news/article/E6K77H210514HDK6.html#offset=9')]"
      ]
     },
     "execution_count": 16,
     "metadata": {},
     "output_type": "execute_result"
    }
   ],
   "source": [
    "c.execute(\"\"\"\n",
    "SELECT * FROM news\n",
    "\"\"\")  # 把我们放进去的数据查询出来验证下看看\n",
    "\n",
    "c.fetchall()"
   ]
  },
  {
   "cell_type": "code",
   "execution_count": 17,
   "id": "61ab183e",
   "metadata": {},
   "outputs": [],
   "source": [
    "# 完事最后别忘了清理游标，关闭数据库的连接\n",
    "c.close()\n",
    "conn.close()"
   ]
  },
  {
   "cell_type": "markdown",
   "id": "19012602",
   "metadata": {},
   "source": [
    "#### 作业题："
   ]
  },
  {
   "cell_type": "markdown",
   "id": "0d598d68",
   "metadata": {},
   "source": [
    "抓取网易新闻首页中的多条新闻，仅抓取那些 每一块的左边是标题、XXX时间、XXX跟帖 右边附带一张封面图的 那些新闻；\n",
    "\n",
    "抓取每篇文章的标题、链接、发布日期、媒体名称、跟帖数量、正文内容（仅文字内容 不包含图片视频等）、封面图片；\n",
    "\n",
    "作业结果要求：\n",
    "- 新闻存放的格式是，以新闻标题起名文件夹，每个文件夹中包含一个文本文件记录这篇文章上述的文本内容，以及封面图片的文件\n",
    "- 在这些新闻标题文件夹的外面，生成一个汇总 标题、链接、发布日期、媒体名称、跟帖数量 的csv表格文件\n",
    "\n",
    "提供抓取的首页链接（还是那个）：https://3g.163.com/touch/news\n",
    "\n",
    "首页新闻项的参考XPath：\n",
    "`//div[contains(@class, 'tab-content')]//article`"
   ]
  },
  {
   "cell_type": "code",
   "execution_count": null,
   "id": "cc71b3b6",
   "metadata": {},
   "outputs": [],
   "source": []
  }
 ],
 "metadata": {
  "kernelspec": {
   "display_name": "Python 3",
   "language": "python",
   "name": "python3"
  },
  "language_info": {
   "codemirror_mode": {
    "name": "ipython",
    "version": 3
   },
   "file_extension": ".py",
   "mimetype": "text/x-python",
   "name": "python",
   "nbconvert_exporter": "python",
   "pygments_lexer": "ipython3",
   "version": "3.7.6"
  }
 },
 "nbformat": 4,
 "nbformat_minor": 5
}
