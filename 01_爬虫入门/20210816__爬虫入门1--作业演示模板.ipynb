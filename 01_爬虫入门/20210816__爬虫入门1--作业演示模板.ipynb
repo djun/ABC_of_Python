{
 "cells": [
  {
   "cell_type": "markdown",
   "id": "150f146a",
   "metadata": {},
   "source": [
    "*By DJun (github.com/djun); 2021-8-16*"
   ]
  },
  {
   "cell_type": "markdown",
   "id": "5fc0ba77",
   "metadata": {},
   "source": [
    "#### 作业题："
   ]
  },
  {
   "cell_type": "markdown",
   "id": "252fbc5d",
   "metadata": {},
   "source": [
    "抓取网易新闻首页中的多条新闻，仅抓取那些 每一块的左边是标题、XXX时间、XXX跟帖 右边附带一张封面图的 那些新闻；\n",
    "\n",
    "抓取每篇文章的标题、链接、发布日期、媒体名称、跟帖数量、正文内容（仅文字内容 不包含图片视频等）、封面图片；\n",
    "\n",
    "作业结果要求：\n",
    "- 新闻存放的格式是，以新闻标题起名文件夹，每个文件夹中包含一个文本文件记录这篇文章上述的文本内容，以及封面图片的文件\n",
    "- 在这些新闻标题文件夹的外面，生成一个汇总 标题、链接、发布日期、媒体名称、跟帖数量 的csv表格文件\n",
    "\n",
    "提供抓取的首页链接（还是那个）：https://3g.163.com/touch/news\n",
    "\n",
    "新闻-数码分区：https://3g.163.com/touch/digi/?ver=c&clickfrom=index2018_header_main\n",
    "\n",
    "首页新闻项的参考XPath：\n",
    "`//div[contains(@class, 'tab-content')]//article`"
   ]
  },
  {
   "cell_type": "code",
   "execution_count": null,
   "id": "7070231d",
   "metadata": {},
   "outputs": [],
   "source": []
  }
 ],
 "metadata": {
  "kernelspec": {
   "display_name": "Python 3",
   "language": "python",
   "name": "python3"
  },
  "language_info": {
   "codemirror_mode": {
    "name": "ipython",
    "version": 3
   },
   "file_extension": ".py",
   "mimetype": "text/x-python",
   "name": "python",
   "nbconvert_exporter": "python",
   "pygments_lexer": "ipython3",
   "version": "3.7.6"
  }
 },
 "nbformat": 4,
 "nbformat_minor": 5
}
